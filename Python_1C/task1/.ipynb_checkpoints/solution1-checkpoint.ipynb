{
 "cells": [
  {
   "cell_type": "code",
   "execution_count": 1,
   "metadata": {
    "collapsed": false,
    "deletable": true,
    "editable": true
   },
   "outputs": [
    {
     "name": "stdout",
     "output_type": "stream",
     "text": [
      "Populating the interactive namespace from numpy and matplotlib\n"
     ]
    }
   ],
   "source": [
    "import pandas as pd\n",
    "import numpy as np\n",
    "from collections import Counter, defaultdict\n",
    "from sklearn.model_selection import KFold\n",
    "from sklearn.metrics import accuracy_score\n",
    "from nltk import NaiveBayesClassifier\n",
    "from matplotlib import pyplot as plt\n",
    "import string\n",
    "import math\n",
    "import nltk\n",
    "\n",
    "%pylab inline"
   ]
  },
  {
   "cell_type": "markdown",
   "metadata": {
    "deletable": true,
    "editable": true
   },
   "source": [
    "### Считаем данные из файла"
   ]
  },
  {
   "cell_type": "code",
   "execution_count": 2,
   "metadata": {
    "collapsed": false,
    "deletable": true,
    "editable": true
   },
   "outputs": [],
   "source": [
    "data_path = 'ham-spam.csv'\n",
    "data = pd.read_csv(data_path)\n",
    "X = data['msg']\n",
    "Y = data['target']"
   ]
  },
  {
   "cell_type": "markdown",
   "metadata": {
    "deletable": true,
    "editable": true
   },
   "source": [
    "### Описание класса Наивного Байесовского классификатора"
   ]
  },
  {
   "cell_type": "code",
   "execution_count": 3,
   "metadata": {
    "collapsed": false,
    "deletable": true,
    "editable": true
   },
   "outputs": [],
   "source": [
    "class NaiveBayes(object):\n",
    "    \"\"\"\n",
    "    Наивный байесовский классификатор.\n",
    "    Для каждого входного сообщения слово учитывается один раз при расчете итоговой вероятности.\n",
    "\n",
    "    Parameters\n",
    "    ----------\n",
    "    category_priors : default | None, optional, default None\n",
    "        Априорные вероятности категорий.\n",
    "        Если None, то классификатор должен сам их вычислить.\n",
    "\n",
    "    weight : float, optional, default 1\n",
    "        Вес одного слова в формуле взвешенной вероятности\n",
    "\n",
    "    supposed_prob : float, optional, default 0.5\n",
    "        Предполагаемая вероятность слова в категории\n",
    "    \"\"\"\n",
    "\n",
    "    def __init__(self, category_priors=None, weight=1, supposed_prob=0.5):\n",
    "        self.category_priors = category_priors\n",
    "        self.weight = weight\n",
    "        self.supposed_prob = supposed_prob\n",
    "        \n",
    "        self.categories = []\n",
    "        \n",
    "        # Количество отдельных слов в заданной категории\n",
    "        self.feature_category_counts = defaultdict(lambda: defaultdict(int))\n",
    "        \n",
    "        # Количество всех документов в данной категории ++++++++\n",
    "        self.category_doc_counts = defaultdict(int)\n",
    "        \n",
    "        # Количество встреч слова во всех сообщениях\n",
    "        self.feature_counts = defaultdict(int)\n",
    "        \n",
    "        #Предпосчитанные средневзешенные вероятности для слов из корпуса\n",
    "        self.weighted_feature_probs = defaultdict(lambda: defaultdict(float))\n",
    "        \n",
    "        #Общее число слов в каждой из категорий\n",
    "        self.category_total_feature_count = defaultdict(int)\n",
    "            \n",
    "            \n",
    "    def fit(self, x_train, y_train):\n",
    "        \"\"\"\n",
    "        Производит обучение наивного байесовского классификатора.\n",
    "\n",
    "        Parameters\n",
    "        ----------\n",
    "        text : list of list of str | list of str | str\n",
    "            Входной текст описывается строкой, которую будет токенизирована по пробелу.\n",
    "            Если строка не токенизирована, то текст должен быть токенизирован.\n",
    "            Может быть передано несколько сообщений, которые будут токенезированы, если необходимо.\n",
    "\n",
    "        y_train : list of str\n",
    "            содержит список меток (названий категорий) для сообщений из x_train\n",
    "\n",
    "        Returns\n",
    "        -------\n",
    "        self : object\n",
    "            Returns self\n",
    "        \"\"\"\n",
    "        # Подсчитываем количество категорий, документов и слов в каждой категории\n",
    "        # и количество встреч слова во всех сообщениях\n",
    "        \n",
    "        count_categories = y_train.nunique()\n",
    "        for cat in y_train.unique():\n",
    "            self.categories.append(cat)\n",
    "            \n",
    "        for cat in y_train:\n",
    "            self.category_doc_counts[cat] += 1\n",
    "            \n",
    "    \n",
    "        translator = str.maketrans('', '', string.punctuation)\n",
    "        for message, label in zip(x_train, y_train):\n",
    "            message = message.translate(translator)\n",
    "            words = message.split()\n",
    "            cat = label\n",
    "            for word in words:\n",
    "                self.category_total_feature_count[cat] += 1\n",
    "                self.feature_counts[word] += 1\n",
    "                self.feature_category_counts[cat][word] += 1\n",
    "            \n",
    "        if self.category_priors == None:\n",
    "            self.category_priors = defaultdict(float)\n",
    "            total_docs = y_train.count()\n",
    "            for cat in self.categories:\n",
    "                self.category_priors[cat] = self.category_doc_counts[cat] / total_docs\n",
    "            \n",
    "        \n",
    "        for cat in self.categories:\n",
    "            for key in self.feature_category_counts[cat].keys():\n",
    "                temp_prob = self.feature_category_counts[cat][key] / self.category_total_feature_count[cat]\n",
    "                self.weighted_feature_probs[cat][key] += (self.weight * self.supposed_prob + \\\n",
    "                                                     self.feature_counts[key] * temp_prob)\n",
    "                self.weighted_feature_probs[cat][key] /= (self.feature_counts[key] + self.weight)\n",
    "                \n",
    "        \n",
    "        return self\n",
    "    \n",
    "    \n",
    "    def get_weighted_feature_prob(self, cat, feature):\n",
    "        \"\"\"\n",
    "        Вычисляет взвешенную вероятность P(Слово|Категория).\n",
    "\n",
    "        Parameters\n",
    "        ----------\n",
    "        cat : str\n",
    "            Название категории.\n",
    "\n",
    "        feature : str\n",
    "            Слово из текста.\n",
    "\n",
    "        Returns\n",
    "        -------\n",
    "        prob : float\n",
    "            Возвращает взвешенную вероятность слова feature при условии категории cat.\n",
    "        \"\"\"\n",
    "        if self.weighted_feature_probs[cat][feature] != 0:\n",
    "            prob = self.weighted_feature_probs[cat][feature]\n",
    "        else:\n",
    "            temp_prob = 1 / self.category_total_feature_count[cat]\n",
    "            prob = self.weight * self.supposed_prob + self.feature_counts[feature] * temp_prob\n",
    "            prob /= (self.feature_counts[feature] + self.weight)\n",
    "\n",
    "        return prob\n",
    "    \n",
    "    \n",
    "    def get_category_prob(self, cat, text):\n",
    "        \"\"\"\n",
    "        Считает логарифм вероятность принадлежности сообщения text к категории cat.\n",
    "\n",
    "        Parameters\n",
    "        ----------\n",
    "        cat : str\n",
    "            Название категории.\n",
    "\n",
    "        text : list of str\n",
    "            Список из слов.\n",
    "\n",
    "        Returns\n",
    "        -------\n",
    "        log_prob : float\n",
    "            Возвращает логарифм вероятности категории cat для текста text.\n",
    "        \"\"\"\n",
    "        log_prob = math.log(self.category_priors[cat])\n",
    "        for feature in text:\n",
    "            log_prob += math.log(self.get_weighted_feature_prob(cat, feature))\n",
    "            \n",
    "        return log_prob\n",
    "    \n",
    "    def get_probs(self, text):\n",
    "        \"\"\"\n",
    "        Считает вероятности принадлежности текста (text) к каждой из категорий\n",
    "\n",
    "        Parameters\n",
    "        ----------\n",
    "        text : list of str | str\n",
    "            Входной текст описывается строкой, которую будет токенизирована по пробелу.\n",
    "            Если строка не токенизирована, то текст должен быть токенизирован.\n",
    "\n",
    "        Returns\n",
    "        -------\n",
    "        probs : list of float\n",
    "            Возвращает вероятности probs всех категорий для текста text\n",
    "            в порядке их следования в self.category_doc_counts.\n",
    "        \"\"\"\n",
    "        # Токенизируем текст, если это необходимо\n",
    "        translator = str.maketrans('', '', string.punctuation)\n",
    "        text = text.translate(translator)\n",
    "        text = text.split()\n",
    "        \n",
    "        probs = []\n",
    "        for cat in self.categories:\n",
    "            probs.append(self.get_category_prob(cat, text))\n",
    "\n",
    "        return probs\n",
    "    \n",
    "    def predict(self, text):\n",
    "        \"\"\"\n",
    "        Предсказывает метки категорий для text.\n",
    "\n",
    "        Parameters\n",
    "        ----------\n",
    "        text : list of list of str | list of str | str\n",
    "            Входной текст описывается строкой, которую будет токенизирована по пробелу.\n",
    "            Если строка не токенизирована, то текст должен быть токенизирован.\n",
    "            Может быть передано несколько сообщений, которые будут токенезированы, если необходимо.\n",
    "\n",
    "        Returns\n",
    "        -------\n",
    "        categories : list of str ??????????!!!?!??!?!\n",
    "            Возвращает названия категорий для text.\n",
    "        \"\"\"\n",
    "        categories = []\n",
    "        if type(text) == type(list()):\n",
    "            for message in text:\n",
    "                probs = self.get_probs(message)\n",
    "                categories.append(self.categories[probs.index(max(probs))])\n",
    "        else:\n",
    "            probs = self.get_probs(text)\n",
    "            categories.append(self.categories[probs.index(max(probs))])\n",
    "        return categories\n",
    "    \n",
    "    def score(self, text, labels):\n",
    "        \"\"\"\n",
    "        Возвращает точность предсказаний на text для правильных категорий labels.\n",
    "\n",
    "        Parameters\n",
    "        ----------\n",
    "        text : list of list of str | list of str | str\n",
    "            Входной текст описывается строкой, которую будет токенизирована по пробелу.\n",
    "            Если строка не токенизирована, то текст должен быть токенизирован.\n",
    "            Может быть передано несколько сообщений, которые будут токенезированы, если необходимо.\n",
    "        labels : list of str\n",
    "            Список категорий для каждого токена из text.\n",
    "\n",
    "        Returns\n",
    "        -------\n",
    "        acc : float\n",
    "            Точность предсказания.\n",
    "        \"\"\"\n",
    "        acc = 0\n",
    "        if type(text) == type(list()) or type(text) == type(pd.core.series.Series()):\n",
    "            predictions = self.predict(list(text))\n",
    "            for index, label in enumerate(labels):\n",
    "                if predictions[index] == label:\n",
    "                    acc += 1\n",
    "            acc /= len(labels)\n",
    "        else:\n",
    "            if self.predict(text)[0] == labels:\n",
    "                return 1\n",
    "            else:\n",
    "                return 0\n",
    "        return acc"
   ]
  },
  {
   "cell_type": "markdown",
   "metadata": {
    "deletable": true,
    "editable": true
   },
   "source": [
    "### Протестируем полученную модель, разбив исходных датасет на 10 фолдов. Проведем кросс-валидацию на этих фолдах."
   ]
  },
  {
   "cell_type": "code",
   "execution_count": 4,
   "metadata": {
    "collapsed": false,
    "deletable": true,
    "editable": true
   },
   "outputs": [
    {
     "name": "stdout",
     "output_type": "stream",
     "text": [
      "done\n",
      "done\n",
      "done\n",
      "done\n",
      "done\n",
      "done\n",
      "done\n",
      "done\n",
      "done\n",
      "done\n",
      "[0.8551724137931035, 0.9241379310344827, 0.906896551724138, 0.889273356401384, 0.9204152249134948, 0.9238754325259516, 0.9307958477508651, 0.9307958477508651, 0.9100346020761245, 0.9515570934256056]\n",
      "mean_acc = 0.9142954301396016\n"
     ]
    }
   ],
   "source": [
    "model = NaiveBayes()\n",
    "my_accuracy = []\n",
    "kf = KFold(n_splits=10, shuffle=True)\n",
    "kf.get_n_splits(X)\n",
    "for train_index, test_index in kf.split(X):\n",
    "    x_train, x_test = X[train_index], X[test_index]\n",
    "    y_train, y_test = Y[train_index], Y[test_index]\n",
    "    model.fit(x_train, y_train)\n",
    "    my_accuracy.append(model.score(x_test, y_test))\n",
    "    print('done')\n",
    "\n",
    "print(my_accuracy)\n",
    "my_mean_acc = sum(my_accuracy) / len(my_accuracy)\n",
    "\n",
    "print('mean_acc =', my_mean_acc)"
   ]
  },
  {
   "cell_type": "markdown",
   "metadata": {
    "deletable": true,
    "editable": true
   },
   "source": [
    "### Теперь протестируем классификатор из модуля nltk на тех же фолдах, подготовив сначала входные данные."
   ]
  },
  {
   "cell_type": "code",
   "execution_count": 5,
   "metadata": {
    "collapsed": false,
    "deletable": true,
    "editable": true
   },
   "outputs": [
    {
     "name": "stdout",
     "output_type": "stream",
     "text": [
      "done\n",
      "done\n",
      "done\n",
      "done\n",
      "done\n",
      "done\n",
      "done\n",
      "done\n",
      "done\n",
      "done\n",
      "[0.9586206896551724, 0.9724137931034482, 0.9793103448275862, 0.9757785467128027, 0.972318339100346, 0.9411764705882353, 0.972318339100346, 0.9619377162629758, 0.9446366782006921, 0.986159169550173]\n",
      "mean_acc = 0.9664670087101779\n"
     ]
    }
   ],
   "source": [
    "translator = str.maketrans('', '', string.punctuation)\n",
    "\n",
    "nltk_accuracy = []\n",
    "for train_index, test_index in kf.split(X):\n",
    "    x_train, x_test = X[train_index], X[test_index]\n",
    "    y_train, y_test = Y[train_index], Y[test_index]\n",
    "    #Формируем тренировочные и тестовые сеты для nltk.NaiveBayesClassifier\n",
    "    train_set = []\n",
    "    test_set = []\n",
    "    for msg, label in zip(x_train, y_train):\n",
    "        d = defaultdict(int)\n",
    "        msg = msg.translate(translator)\n",
    "        msg = msg.split()\n",
    "        for word in msg:\n",
    "            d[word] += 1\n",
    "        train_set.append((d, label))\n",
    "    for msg, label in zip(x_test, y_test):\n",
    "        d = defaultdict(int)\n",
    "        msg = msg.translate(translator)\n",
    "        msg = msg.split()\n",
    "        for word in msg:\n",
    "            d[word] += 1\n",
    "        test_set.append(d)\n",
    "    #Тренируем и запускаем на встроенном классификаторе\n",
    "    nltk_model = NaiveBayesClassifier.train(train_set)\n",
    "    predicted_labels = nltk_model.classify_many(test_set)\n",
    "    \n",
    "    #Считаем получившуюся точность\n",
    "    acc = 0\n",
    "    for pred_label, label in zip(predicted_labels, y_test):\n",
    "        if pred_label == label:\n",
    "            acc += 1\n",
    "    acc /= len(y_test)\n",
    "    nltk_accuracy.append(acc)\n",
    "    print('done')\n",
    "    \n",
    "print(nltk_accuracy)\n",
    "nltk_mean_acc = sum(nltk_accuracy) / len(nltk_accuracy)\n",
    "print('mean_acc =', nltk_mean_acc)"
   ]
  },
  {
   "cell_type": "markdown",
   "metadata": {
    "deletable": true,
    "editable": true
   },
   "source": [
    "### Построим графики размаха(ящики с усами) для двух классификаторов."
   ]
  },
  {
   "cell_type": "code",
   "execution_count": 6,
   "metadata": {
    "collapsed": false,
    "deletable": true,
    "editable": true
   },
   "outputs": [
    {
     "data": {
      "image/png": "[encoded data removed]",
      "text/plain": [
       "<matplotlib.figure.Figure at 0x7f78254397f0>"
      ]
     },
     "metadata": {},
     "output_type": "display_data"
    }
   ],
   "source": [
    "dframe = {'my_accuracy': my_accuracy, 'nltk_accuracy': nltk_accuracy}\n",
    "dframe = pd.DataFrame(data=dframe)\n",
    "dframe.boxplot()\n",
    "pyplot.show()"
   ]
  }
 ],
 "metadata": {
  "kernelspec": {
   "display_name": "Python 3",
   "language": "python",
   "name": "python3"
  },
  "language_info": {
   "codemirror_mode": {
    "name": "ipython",
    "version": 3
   },
   "file_extension": ".py",
   "mimetype": "text/x-python",
   "name": "python",
   "nbconvert_exporter": "python",
   "pygments_lexer": "ipython3",
   "version": "3.4.2"
  }
 },
 "nbformat": 4,
 "nbformat_minor": 2
}
