{
 "cells": [
  {
   "cell_type": "markdown",
   "metadata": {
    "deletable": true,
    "editable": true
   },
   "source": [
    "# Задание 3"
   ]
  },
  {
   "cell_type": "markdown",
   "metadata": {
    "deletable": true,
    "editable": true
   },
   "source": [
    "#### CounterGetter (0.1 балл)\n",
    "Реализуйте класс CounterGetter, который на вход принимает произвольное количество именованых аргументов и считает количество обращений к полям и методам класса во всех экземплярах."
   ]
  },
  {
   "cell_type": "code",
   "execution_count": 1,
   "metadata": {
    "collapsed": false,
    "deletable": true,
    "editable": true
   },
   "outputs": [
    {
     "name": "stdout",
     "output_type": "stream",
     "text": [
      "I am useful method and do nothing!\n",
      "I am useful method and do nothing!\n",
      "useful_method = 1 \n",
      "kek = 3 \n",
      "lol = 1 \n",
      "cheburek = 0\n"
     ]
    }
   ],
   "source": [
    "from collections import defaultdict\n",
    "\n",
    "class CounterGetter(object):\n",
    "    fields_counter = defaultdict(int)\n",
    "    def __init__(self, **kwargs):\n",
    "        for key in kwargs.keys():\n",
    "            self.__dict__[key] = kwargs[key]\n",
    "            \n",
    "    def __getattribute__(self, attr):\n",
    "        CounterGetter.fields_counter[attr] += 1\n",
    "        return object.__getattribute__(self, attr)\n",
    "    \n",
    "    def useful_method(self, *args, **kwargs):\n",
    "        print('I am useful method and do nothing!')\n",
    "\n",
    "        \n",
    "#Test it!\n",
    "a = CounterGetter(lol=1, kek=20)\n",
    "b = CounterGetter(lol=2, kek=15, cheburek=100500)\n",
    "\n",
    "#two calls of useful method\n",
    "a.useful_method()\n",
    "CounterGetter.useful_method(1234, hello=20)\n",
    "\n",
    "#three calls of 'kek' and one of 'lol'\n",
    "a.kek\n",
    "a.kek\n",
    "b.kek\n",
    "a.lol\n",
    "\n",
    "print('useful_method =', CounterGetter.fields_counter['useful_method'], '\\nkek =', a.fields_counter['kek'],\n",
    "     '\\nlol =', CounterGetter.fields_counter['lol'], '\\ncheburek =', b.fields_counter['cheburek'])"
   ]
  },
  {
   "cell_type": "markdown",
   "metadata": {
    "deletable": true,
    "editable": true
   },
   "source": [
    "#### Vector (0.4 балла)"
   ]
  },
  {
   "cell_type": "markdown",
   "metadata": {
    "deletable": true,
    "editable": true
   },
   "source": [
    "Реализуйте класс вектор, который должен обладать следующими свойствами:\n",
    "* Над экземплярами выполняются арифметические операции (+-\\*/). Операции могут выполняться как с числами, так и с векторами. Если второй операнд вектор, то верните их скалярное произведение, если число, выполните поэлементное действие.\n",
    "* Реализуйте доступ к элементам вектора по индексам:\n",
    "\n",
    "<code>vec = Vector(1, 2, 3)\n",
    "\n",
    "vec[0]</code>\n",
    "* Реализуйте умножение вектора на матрицу (Матрица задается двумерным списком).\n",
    "* Поддерживайте методы push_back, pop_back, insert.\n",
    "* Реализуйте поддержку функции len\n",
    "\n",
    "P. S. Запрещается использовать numpy и другие библиотеки по работе с векторами. Рекомендуется представлять элементы вектора как список."
   ]
  },
  {
   "cell_type": "code",
   "execution_count": 2,
   "metadata": {
    "collapsed": false,
    "deletable": true,
    "editable": true
   },
   "outputs": [],
   "source": [
    "import math\n",
    "\n",
    "class Vector(object):\n",
    "    def __init__(self, *args):\n",
    "        if len(args) == 0:\n",
    "            self.massive = []\n",
    "        else:\n",
    "            self.massive = []\n",
    "            for arg in args:\n",
    "                self.massive.append(arg)\n",
    "        \n",
    "    def __len__(self):\n",
    "        return len(self.massive)\n",
    "    \n",
    "    def __add__(self, item):\n",
    "        result = Vector()\n",
    "        if type(self) == type(item):\n",
    "            if len(self.massive) == len(item.massive):\n",
    "                result.massive = list(a + b for a, b in zip(self.massive, item.massive))\n",
    "            else:\n",
    "                raise ValueError('ERROR!!! different sizes of Vectors')\n",
    "        elif type(item) == int or type(item) == float:\n",
    "            result.massive = []\n",
    "            for a in self.massive:\n",
    "                result.massive.append(a + item)\n",
    "        else:\n",
    "            raise ValueError('wrong type')\n",
    "        return result\n",
    "    \n",
    "    def __radd__(self, item):\n",
    "        return self.__add__(item)\n",
    "        \n",
    "    def __neg__(self):\n",
    "        result = Vector()\n",
    "        for i in self.massive:\n",
    "            result.massive.append(-i)\n",
    "        return result\n",
    "            \n",
    "    def __sub__(self, item):\n",
    "        result = Vector()\n",
    "        if type(self) == type(item):\n",
    "            if len(self.massive) == len(item.massive):\n",
    "                result.massive = list(a - b for a, b in zip(self.massive, item.massive))\n",
    "            else:\n",
    "                raise ValueError('ERROR!!! different sizes of Vectors')\n",
    "        elif type(item) == int or type(item) == float:\n",
    "            result.massive = []\n",
    "            for a in self.massive:\n",
    "                result.massive.append(a - item)\n",
    "        else:\n",
    "            raise ValueError('wrong type')\n",
    "        return result\n",
    "    \n",
    "    def __rsub__(self, item):\n",
    "        result = -self\n",
    "        return result.__radd__(item)\n",
    "    \n",
    "    def __getitem__(self, key):\n",
    "        return self.massive[key]\n",
    "    \n",
    "    def push_back(self, value):\n",
    "        self.massive.append(value)\n",
    "    \n",
    "    def pop_back(self):\n",
    "        self.massive.pop()\n",
    "    \n",
    "    def insert(self, index, value):\n",
    "        self.massive.insert(index, value)\n",
    "    \n",
    "    def __repr__(self):\n",
    "        return str(self.massive)\n",
    "    \n",
    "    \n",
    "    def __mul__(self, item):\n",
    "        result = Vector()\n",
    "        if type(self) == type(item):\n",
    "            if len(self.massive) == len(item.massive):\n",
    "                result.massive = list(a * b for a, b in zip(self.massive, item.massive))\n",
    "                result = sum(result.massive)\n",
    "            else:\n",
    "                raise ValueError('ERROR!!! different sizes of Vectors')\n",
    "        elif type(item) == int or type(item) == float:\n",
    "            result.massive = []\n",
    "            for a in self.massive:\n",
    "                result.massive.append(a * item)\n",
    "        else:\n",
    "            raise ValueError('wrong type')\n",
    "        return result\n",
    "    \n",
    "    def __rmul__(self, item):\n",
    "        return self.__mul__(item)\n",
    "        \n",
    "    def matrix_mult(self, matrix):\n",
    "        if (len(matrix) != len(self)):\n",
    "            raise ValueError(\"Can't multiply such vector and matrix\")\n",
    "        else:\n",
    "            result = list(Vector(*row) * self for row in matrix)\n",
    "            return Vector(*result)\n"
   ]
  },
  {
   "cell_type": "code",
   "execution_count": 3,
   "metadata": {
    "collapsed": false,
    "deletable": true,
    "editable": true
   },
   "outputs": [
    {
     "name": "stdout",
     "output_type": "stream",
     "text": [
      "[1, 2, 3] [4, 5, 6] [5, 7, 9]\n"
     ]
    }
   ],
   "source": [
    "a = Vector(1,2,3)\n",
    "b = Vector(4,5,6)\n",
    "c = a + b\n",
    "print(a,b,c)"
   ]
  },
  {
   "cell_type": "code",
   "execution_count": 4,
   "metadata": {
    "collapsed": false,
    "deletable": true,
    "editable": true
   },
   "outputs": [
    {
     "name": "stdout",
     "output_type": "stream",
     "text": [
      "[1, 2, 3] [2, 3, 4] [2, 3, 4]\n"
     ]
    }
   ],
   "source": [
    "d = a + 1\n",
    "e = 1 + a\n",
    "print(a,d,e)"
   ]
  },
  {
   "cell_type": "code",
   "execution_count": 5,
   "metadata": {
    "collapsed": false,
    "deletable": true,
    "editable": true
   },
   "outputs": [
    {
     "name": "stdout",
     "output_type": "stream",
     "text": [
      "[1, 2, 3] [0, 1, 2] [0, -1, -2]\n"
     ]
    }
   ],
   "source": [
    "c = a - 1\n",
    "d = 1 - a\n",
    "print(a,c,d)"
   ]
  },
  {
   "cell_type": "code",
   "execution_count": 6,
   "metadata": {
    "collapsed": false,
    "deletable": true,
    "editable": true
   },
   "outputs": [
    {
     "name": "stdout",
     "output_type": "stream",
     "text": [
      "32 [2, 4, 6] [2, 4, 6]\n"
     ]
    }
   ],
   "source": [
    "c = a * b\n",
    "d = a * 2\n",
    "e = 2 * a\n",
    "print(c,d,e)"
   ]
  },
  {
   "cell_type": "code",
   "execution_count": 7,
   "metadata": {
    "collapsed": false,
    "deletable": true,
    "editable": true
   },
   "outputs": [
    {
     "name": "stdout",
     "output_type": "stream",
     "text": [
      "[14, 32, 50]\n"
     ]
    }
   ],
   "source": [
    "mat = [[1,2,3],[4,5,6],[7,8,9]]\n",
    "a = Vector(1,2,3).matrix_mult(mat)\n",
    "print(a)"
   ]
  },
  {
   "cell_type": "markdown",
   "metadata": {
    "deletable": true,
    "editable": true
   },
   "source": [
    "#### Table (0.5 баллов)"
   ]
  },
  {
   "cell_type": "markdown",
   "metadata": {
    "deletable": true,
    "editable": true
   },
   "source": [
    "Реализуйте класс для работы с таблицами. Класс должен обладать следующей функциональностью:\n",
    "\n",
    "* Таблица может задаваться как двумерным списком, так и читаться из файла. Если читается из файла, то должен быть указан разделитель.\n",
    "\n",
    "* Обладать возможностью задания названия колонок (по номеру, если не задано). Если читается из файла и задан параметр наличия именованных колонок, то первая строчка файла отвечает за названия колонок.\n",
    "\n",
    "* Реализуйте доступ к колонкам по названю и по индекс:\n",
    "\n",
    "<code>t = Table()\n",
    "\n",
    "t[\"index\"]</code>\n",
    "\n",
    "* Реализуйте функции head и tail, которые показывают заданное число строк с начала и с конца соответственно.\n",
    "* Реадизуйте методы unique и count, которые выводят все уникальные элементы для таблицы или для заданного столбца:\n",
    "\n",
    "<code>\n",
    "\n",
    "t[\"sex\"].unique()\n",
    "\n",
    "t.unique()\n",
    "\n",
    "</code>"
   ]
  },
  {
   "cell_type": "code",
   "execution_count": 8,
   "metadata": {
    "collapsed": false,
    "deletable": true,
    "editable": true
   },
   "outputs": [
    {
     "ename": "SyntaxError",
     "evalue": "invalid syntax (<ipython-input-8-bd078255d4ce>, line 1)",
     "output_type": "error",
     "traceback": [
      "\u001b[0;36m  File \u001b[0;32m\"<ipython-input-8-bd078255d4ce>\"\u001b[0;36m, line \u001b[0;32m1\u001b[0m\n\u001b[0;31m    <your code here>\u001b[0m\n\u001b[0m    ^\u001b[0m\n\u001b[0;31mSyntaxError\u001b[0m\u001b[0;31m:\u001b[0m invalid syntax\n"
     ]
    }
   ],
   "source": [
    "<your code here>"
   ]
  }
 ],
 "metadata": {
  "kernelspec": {
   "display_name": "Python 3",
   "language": "python",
   "name": "python3"
  },
  "language_info": {
   "codemirror_mode": {
    "name": "ipython",
    "version": 3
   },
   "file_extension": ".py",
   "mimetype": "text/x-python",
   "name": "python",
   "nbconvert_exporter": "python",
   "pygments_lexer": "ipython3",
   "version": "3.4.2"
  }
 },
 "nbformat": 4,
 "nbformat_minor": 2
}
