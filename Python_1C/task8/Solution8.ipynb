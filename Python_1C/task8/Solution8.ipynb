{
 "cells": [
  {
   "cell_type": "markdown",
   "metadata": {},
   "source": [
    "## 1. Wiki philosophy (0.5 баллов)\n",
    "Существует шуточный «закон Философии» для статей Википедии: если переходить по\n",
    "первой нормальной ссылке в статье, то рано или поздно мы придем на статью о философии.\n",
    "Ваша задача заключается в том, чтобы проверить этот закон.\n",
    "Для этого нужно написать программу, которая получает на вход ссылку на статью Википедии, а потом циклически переходит по первой нормальной ссылке и повторяет эту операцию\n",
    "(до тех пор, пока не будет достигнута статья о философии, или ссылки не зациклятся). Нормальной ссылкой будем называть ссылку, которая находится в основном содержании статьи,\n",
    "не в инфобоксах и не в служебных блоках, написана синим цветом (красный соответствует\n",
    "несуществующей статье), не курсивом, не являтся сноской и не находится в скобках.\n",
    "\n",
    "<b>Результат</b> должен представлять из себя несколько статистик (проверьте не менее 100 стр., <i>больше - лучше</i>):\n",
    "* Описание алгоритма, как вы решали, стр. по философии или нет?\n",
    "* Количество начальных ссылок vs Количество конечных тем страниц (0 - стр. не по философии, 1 - по философии).\n",
    "* Гистограмма длин путей.\n",
    "* Соотношений успешных и неуспешных запросов.\n",
    "* Что еще можно тут придумать? :)\n",
    "\n",
    "<b>Обратите внимание</b>, что для проверки нормальности не обязательно разбирать таблицы стилей и\n",
    "проверять цвет и т.п., достаточно сделать, чтобы программа работала для текущей верстки\n",
    "википедии (например, можно использовать атрибут class у тегов).\n",
    "Для удобства проверки сделайте, чтобы последовательность переходов выводилась на\n",
    "экран.\n",
    "\n",
    "<b>Внимание.</b> Чтобы не создавать большую нагрузку на сервер Википедии, сделайте так,\n",
    "чтобы ваша программа делала не более 2-х запросов в секунду. Для этого воспользуйтесь\n",
    "функцией sleep из модуля time."
   ]
  },
  {
   "cell_type": "code",
   "execution_count": 1,
   "metadata": {
    "collapsed": false,
    "deletable": true,
    "editable": true
   },
   "outputs": [],
   "source": [
    "import requests\n",
    "from bs4 import BeautifulSoup\n",
    "from collections import defaultdict\n",
    "import time\n",
    "from tqdm import tqdm\n",
    "def tryDiveToPhilosophy(url):\n",
    "    if url.find(\"Philosophy\") != -1:\n",
    "        return True, 0\n",
    "    page = requests.get(url)\n",
    "    soup = BeautifulSoup(page.content, \"html.parser\")\n",
    "    head = soup.find(class_=\"firstHeading\").get_text()\n",
    "    print(\"STARTS AT -----------> \" + page.url)\n",
    "    visited = []\n",
    "    visited.append(page.url)\n",
    "    new_url = findFirstUrl(soup)\n",
    "    if new_url is None:\n",
    "            print(\"ERROR: pulled wrong link, test failed\")\n",
    "            return False, 0\n",
    "    new_url = \"https://en.wikipedia.org\" + new_url\n",
    "    while new_url not in visited and len(visited) < 50:\n",
    "        print(new_url)\n",
    "        visited.append(new_url)\n",
    "        page = requests.get(new_url)\n",
    "        soup = BeautifulSoup(page.content, \"html.parser\")\n",
    "        if isPhilosophycal(soup):\n",
    "            return True, len(visited) - 1\n",
    "        time.sleep(0.4)\n",
    "        new_url = findFirstUrl(soup)\n",
    "        if new_url is None:\n",
    "            print(\"ERROR: pulled wrong link, test failed\")\n",
    "            return False, len(visited) - 1\n",
    "        new_url = \"https://en.wikipedia.org\" + new_url\n",
    "        \n",
    "    print(new_url)\n",
    "    if new_url in visited:\n",
    "        print(\"\\n -------------> CYCLED\")\n",
    "    return False, len(visited) - 1\n",
    "\n",
    "def findFirstUrl(soup):\n",
    "    main_div = soup.find(class_=\"mw-parser-output\")\n",
    "    paragraphs = main_div.find_all('p', recursive=False)\n",
    "    for par in paragraphs:\n",
    "        a_tags = par.find_all('a')\n",
    "        for href in a_tags:\n",
    "            if href.has_attr(\"href\"):\n",
    "                if href[\"href\"].find(\"#\") == -1 and href[\"href\"].find(\"Help\") == -1 and \\\n",
    "                href[\"href\"].find(\"ogg\") == -1 and href[\"href\"].find(\"help\") == -1 and \\\n",
    "                href[\"href\"].find(\"http\") == -1:\n",
    "                    if href.has_attr(\"title\"):\n",
    "                        if href[\"title\"].find(\"(page does not exist)\") != -1:\n",
    "                            continue\n",
    "                    return href[\"href\"]\n",
    "\n",
    "def isPhilosophycal(soup):\n",
    "    categories = soup.find(id=\"mw-normal-catlinks\")\n",
    "    if categories is not None:\n",
    "        if categories.get_text().find(\"Philosophy\") != -1:\n",
    "            print(categories.get_text())\n",
    "            return True\n",
    "    return False"
   ]
  },
  {
   "cell_type": "code",
   "execution_count": 2,
   "metadata": {
    "collapsed": false
   },
   "outputs": [
    {
     "name": "stderr",
     "output_type": "stream",
     "text": [
      "\r",
      "  0%|          | 0/100 [00:00<?, ?it/s]"
     ]
    },
    {
     "name": "stdout",
     "output_type": "stream",
     "text": [
      "STARTS AT -----------> https://en.wikipedia.org/wiki/Okuno_Dam\n",
      "https://en.wikipedia.org/wiki/Dam\n",
      "https://en.wikipedia.org/wiki/Surface_water\n",
      "https://en.wikipedia.org/wiki/Water\n",
      "https://en.wikipedia.org/wiki/Chemical_substance\n",
      "https://en.wikipedia.org/wiki/Matter\n",
      "https://en.wikipedia.org/wiki/Classical_physics\n"
     ]
    },
    {
     "name": "stderr",
     "output_type": "stream",
     "text": [
      "\r",
      "  1%|          | 1/100 [00:05<08:44,  5.30s/it]"
     ]
    },
    {
     "name": "stdout",
     "output_type": "stream",
     "text": [
      "Categories: Subfields of physicsPhysical systemsPhilosophy of physics\n",
      "\n",
      "\n",
      "\n",
      "\n",
      "STARTS AT -----------> https://en.wikipedia.org/wiki/Love_Go_Go!!\n",
      "https://en.wikipedia.org/wiki/Japan\n",
      "https://en.wikipedia.org/wiki/Geographic_coordinate_system\n",
      "https://en.wikipedia.org/wiki/Coordinate_system\n",
      "https://en.wikipedia.org/wiki/Geometry\n",
      "https://en.wikipedia.org/wiki/Ancient_Greek_language\n",
      "https://en.wikipedia.org/wiki/Greek_language\n",
      "https://en.wikipedia.org/wiki/Modern_Greek\n",
      "https://en.wikipedia.org/wiki/Colloquialism\n",
      "https://en.wikipedia.org/wiki/Vernacular\n",
      "https://en.wikipedia.org/wiki/Language\n",
      "https://en.wikipedia.org/wiki/Communication\n",
      "https://en.wikipedia.org/wiki/Meaning_(semiotics)\n"
     ]
    },
    {
     "name": "stderr",
     "output_type": "stream",
     "text": [
      "\r",
      "  2%|▏         | 2/100 [00:16<13:21,  8.18s/it]"
     ]
    },
    {
     "name": "stdout",
     "output_type": "stream",
     "text": [
      "Categories: Philosophy of languageMeaning (philosophy of language)\n",
      "\n",
      "\n",
      "\n",
      "\n",
      "STARTS AT -----------> https://en.wikipedia.org/wiki/Raji_Rasaki\n",
      "https://en.wikipedia.org/wiki/Nigeria\n",
      "https://en.wikipedia.org/wiki/Federation\n",
      "https://en.wikipedia.org/wiki/Political_entity\n",
      "https://en.wikipedia.org/wiki/Identity_(social_science)\n",
      "https://en.wikipedia.org/wiki/Psychology\n",
      "https://en.wikipedia.org/wiki/Science\n",
      "https://en.wikipedia.org/wiki/Latin_language\n",
      "https://en.wikipedia.org/wiki/Classical_language\n",
      "https://en.wikipedia.org/wiki/Language\n",
      "https://en.wikipedia.org/wiki/Communication\n",
      "https://en.wikipedia.org/wiki/Meaning_(semiotics)\n"
     ]
    },
    {
     "name": "stderr",
     "output_type": "stream",
     "text": [
      "\r",
      "  3%|▎         | 3/100 [00:26<14:24,  8.91s/it]"
     ]
    },
    {
     "name": "stdout",
     "output_type": "stream",
     "text": [
      "Categories: Philosophy of languageMeaning (philosophy of language)\n",
      "\n",
      "\n",
      "\n",
      "\n",
      "STARTS AT -----------> https://en.wikipedia.org/wiki/Lindsey_White\n",
      "https://en.wikipedia.org/wiki/Tulsa,_Oklahoma\n",
      "https://en.wikipedia.org/wiki/U.S._state\n",
      "https://en.wikipedia.org/wiki/Polity\n",
      "https://en.wikipedia.org/wiki/Identity_(social_science)\n",
      "https://en.wikipedia.org/wiki/Psychology\n",
      "https://en.wikipedia.org/wiki/Science\n",
      "https://en.wikipedia.org/wiki/Latin_language\n",
      "https://en.wikipedia.org/wiki/Classical_language\n",
      "https://en.wikipedia.org/wiki/Language\n",
      "https://en.wikipedia.org/wiki/Communication\n",
      "https://en.wikipedia.org/wiki/Meaning_(semiotics)\n"
     ]
    },
    {
     "name": "stderr",
     "output_type": "stream",
     "text": [
      "\r",
      "  4%|▍         | 4/100 [00:37<15:04,  9.42s/it]"
     ]
    },
    {
     "name": "stdout",
     "output_type": "stream",
     "text": [
      "Categories: Philosophy of languageMeaning (philosophy of language)\n",
      "\n",
      "\n",
      "\n",
      "\n",
      "STARTS AT -----------> https://en.wikipedia.org/wiki/Creaking_Tree_String_Quartet\n",
      "https://en.wikipedia.org/wiki/Toronto\n",
      "https://en.wikipedia.org/wiki/Capital_city\n",
      "https://en.wikipedia.org/wiki/Municipality\n",
      "https://en.wikipedia.org/wiki/Urban_area\n",
      "https://en.wikipedia.org/wiki/Human_settlement\n",
      "https://en.wikipedia.org/wiki/Geography\n",
      "https://en.wikipedia.org/wiki/Greek_language\n",
      "https://en.wikipedia.org/wiki/Modern_Greek\n",
      "https://en.wikipedia.org/wiki/Colloquialism\n",
      "https://en.wikipedia.org/wiki/Vernacular\n",
      "https://en.wikipedia.org/wiki/Language\n",
      "https://en.wikipedia.org/wiki/Communication\n",
      "https://en.wikipedia.org/wiki/Meaning_(semiotics)\n"
     ]
    },
    {
     "name": "stderr",
     "output_type": "stream",
     "text": [
      "\r",
      "  5%|▌         | 5/100 [00:50<15:55, 10.06s/it]"
     ]
    },
    {
     "name": "stdout",
     "output_type": "stream",
     "text": [
      "Categories: Philosophy of languageMeaning (philosophy of language)\n",
      "\n",
      "\n",
      "\n",
      "\n",
      "STARTS AT -----------> https://en.wikipedia.org/wiki/Folkh%C3%A4lsan\n",
      "https://en.wikipedia.org/wiki/Non-governmental_organization\n",
      "https://en.wikipedia.org/wiki/Nonprofit_organization\n",
      "https://en.wikipedia.org/wiki/Social_issue\n",
      "https://en.wikipedia.org/wiki/Personal_life\n"
     ]
    },
    {
     "name": "stderr",
     "output_type": "stream",
     "text": [
      "\r",
      "  6%|▌         | 6/100 [00:53<14:04,  8.98s/it]"
     ]
    },
    {
     "name": "stdout",
     "output_type": "stream",
     "text": [
      "Categories: Personal lifeAnthropologyPhilosophy of life\n",
      "\n",
      "\n",
      "\n",
      "\n",
      "STARTS AT -----------> https://en.wikipedia.org/wiki/John_Harris_(footballer,_born_1939)\n",
      "https://en.wikipedia.org/wiki/Association_football\n",
      "https://en.wikipedia.org/wiki/Team_sport\n",
      "https://en.wikipedia.org/wiki/Sport\n",
      "https://en.wikipedia.org/wiki/British_English\n",
      "https://en.wikipedia.org/wiki/English_language\n",
      "https://en.wikipedia.org/wiki/West_Germanic_language\n",
      "https://en.wikipedia.org/wiki/Germanic_languages\n",
      "https://en.wikipedia.org/wiki/Indo-European_languages\n",
      "https://en.wikipedia.org/wiki/Language_family\n",
      "https://en.wikipedia.org/wiki/Language\n",
      "https://en.wikipedia.org/wiki/Communication\n",
      "https://en.wikipedia.org/wiki/Meaning_(semiotics)\n"
     ]
    },
    {
     "name": "stderr",
     "output_type": "stream",
     "text": [
      "\r",
      "  7%|▋         | 7/100 [01:06<14:46,  9.53s/it]"
     ]
    },
    {
     "name": "stdout",
     "output_type": "stream",
     "text": [
      "Categories: Philosophy of languageMeaning (philosophy of language)\n",
      "\n",
      "\n",
      "\n",
      "\n",
      "STARTS AT -----------> https://en.wikipedia.org/wiki/Pukhtoon_Students_Federation\n",
      "https://en.wikipedia.org/wiki/Awami_National_Party\n",
      "https://en.wikipedia.org/wiki/Pashto_language\n",
      "https://en.wikipedia.org/wiki/Pashtuns\n"
     ]
    },
    {
     "name": "stderr",
     "output_type": "stream",
     "text": [
      "\r",
      "  8%|▊         | 8/100 [01:10<13:26,  8.76s/it]"
     ]
    },
    {
     "name": "stdout",
     "output_type": "stream",
     "text": [
      "https://en.wikipedia.org/wiki/Pashto_language\n",
      "\n",
      " -------------> CYCLED\n",
      "\n",
      "\n",
      "\n",
      "\n",
      "STARTS AT -----------> https://en.wikipedia.org/wiki/Music_of_Henan\n",
      "https://en.wikipedia.org/wiki/Province_of_China\n",
      "https://en.wikipedia.org/wiki/Simplified_Chinese_characters\n",
      "https://en.wikipedia.org/wiki/Chinese_character\n",
      "https://en.wikipedia.org/wiki/Logogram\n",
      "https://en.wikipedia.org/wiki/Written_language\n",
      "https://en.wikipedia.org/wiki/Language\n",
      "https://en.wikipedia.org/wiki/Communication\n",
      "https://en.wikipedia.org/wiki/Meaning_(semiotics)\n"
     ]
    },
    {
     "name": "stderr",
     "output_type": "stream",
     "text": [
      "\r",
      "  9%|▉         | 9/100 [01:18<13:13,  8.72s/it]"
     ]
    },
    {
     "name": "stdout",
     "output_type": "stream",
     "text": [
      "Categories: Philosophy of languageMeaning (philosophy of language)\n",
      "\n",
      "\n",
      "\n",
      "\n",
      "STARTS AT -----------> https://en.wikipedia.org/wiki/Evan_Jones_(Stitch_Media)\n",
      "https://en.wikipedia.org/wiki/Alternate_Reality_Game\n",
      "https://en.wikipedia.org/wiki/Networked_narrative\n",
      "https://en.wikipedia.org/wiki/Narrative\n",
      "https://en.wikipedia.org/wiki/Nonfiction\n",
      "https://en.wikipedia.org/wiki/Content_(media)\n",
      "https://en.wikipedia.org/wiki/Information\n",
      "https://en.wikipedia.org/wiki/Uncertainty\n",
      "https://en.wikipedia.org/wiki/Ambiguity\n",
      "https://en.wikipedia.org/wiki/Meaning_(linguistics)\n"
     ]
    },
    {
     "name": "stderr",
     "output_type": "stream",
     "text": [
      "\r",
      " 10%|█         | 10/100 [01:25<12:52,  8.58s/it]"
     ]
    },
    {
     "name": "stdout",
     "output_type": "stream",
     "text": [
      "Categories: Meaning (philosophy of language)Philosophical logicPhilosophy of languageSemantics\n",
      "\n",
      "\n",
      "\n",
      "\n",
      "STARTS AT -----------> https://en.wikipedia.org/wiki/18th_Division_(North_Korea)\n",
      "https://en.wikipedia.org/wiki/Korean_People%27s_Army\n",
      "https://en.wikipedia.org/wiki/Hangul\n",
      "https://en.wikipedia.org/wiki/Korean_language\n"
     ]
    },
    {
     "name": "stderr",
     "output_type": "stream",
     "text": [
      "\r",
      " 11%|█         | 11/100 [01:29<12:05,  8.15s/it]"
     ]
    },
    {
     "name": "stdout",
     "output_type": "stream",
     "text": [
      "https://en.wikipedia.org/wiki/Hangul\n",
      "\n",
      " -------------> CYCLED\n",
      "\n",
      "\n",
      "\n",
      "\n",
      "STARTS AT -----------> https://en.wikipedia.org/wiki/The_Enemy_of_My_Enemy\n",
      "https://en.wikipedia.org/wiki/Militant_Islam\n",
      "https://en.wikipedia.org/wiki/Neologism\n",
      "https://en.wikipedia.org/wiki/Ancient_Greek\n",
      "https://en.wikipedia.org/wiki/Greek_language\n",
      "https://en.wikipedia.org/wiki/Modern_Greek\n",
      "https://en.wikipedia.org/wiki/Colloquialism\n",
      "https://en.wikipedia.org/wiki/Vernacular\n",
      "https://en.wikipedia.org/wiki/Language\n",
      "https://en.wikipedia.org/wiki/Communication\n",
      "https://en.wikipedia.org/wiki/Meaning_(semiotics)\n"
     ]
    },
    {
     "name": "stderr",
     "output_type": "stream",
     "text": [
      "\r",
      " 12%|█▏        | 12/100 [01:38<12:01,  8.20s/it]"
     ]
    },
    {
     "name": "stdout",
     "output_type": "stream",
     "text": [
      "Categories: Philosophy of languageMeaning (philosophy of language)\n",
      "\n",
      "\n",
      "\n",
      "\n",
      "STARTS AT -----------> https://en.wikipedia.org/wiki/Ali_Al_Shami\n",
      "https://en.wikipedia.org/wiki/Shia_Islam_in_Lebanon\n",
      "https://en.wikipedia.org/wiki/Lebanon\n",
      "https://en.wikipedia.org/wiki/Geographic_coordinate_system\n",
      "https://en.wikipedia.org/wiki/Coordinate_system\n",
      "https://en.wikipedia.org/wiki/Geometry\n",
      "https://en.wikipedia.org/wiki/Ancient_Greek_language\n",
      "https://en.wikipedia.org/wiki/Greek_language\n",
      "https://en.wikipedia.org/wiki/Modern_Greek\n",
      "https://en.wikipedia.org/wiki/Colloquialism\n",
      "https://en.wikipedia.org/wiki/Vernacular\n",
      "https://en.wikipedia.org/wiki/Language\n",
      "https://en.wikipedia.org/wiki/Communication\n",
      "https://en.wikipedia.org/wiki/Meaning_(semiotics)\n"
     ]
    },
    {
     "name": "stderr",
     "output_type": "stream",
     "text": [
      "\r",
      " 13%|█▎        | 13/100 [01:49<12:13,  8.43s/it]"
     ]
    },
    {
     "name": "stdout",
     "output_type": "stream",
     "text": [
      "Categories: Philosophy of languageMeaning (philosophy of language)\n",
      "\n",
      "\n",
      "\n",
      "\n",
      "STARTS AT -----------> https://en.wikipedia.org/wiki/Magic_(Chesterton_play)\n",
      "https://en.wikipedia.org/wiki/G._K._Chesterton\n",
      "https://en.wikipedia.org/wiki/Order_of_St._Gregory_the_Great\n",
      "https://en.wikipedia.org/wiki/Latin_language\n",
      "https://en.wikipedia.org/wiki/Classical_language\n",
      "https://en.wikipedia.org/wiki/Language\n",
      "https://en.wikipedia.org/wiki/Communication\n",
      "https://en.wikipedia.org/wiki/Meaning_(semiotics)\n"
     ]
    },
    {
     "name": "stderr",
     "output_type": "stream",
     "text": [
      "\r",
      " 14%|█▍        | 14/100 [01:57<12:00,  8.38s/it]"
     ]
    },
    {
     "name": "stdout",
     "output_type": "stream",
     "text": [
      "Categories: Philosophy of languageMeaning (philosophy of language)\n",
      "\n",
      "\n",
      "\n",
      "\n",
      "STARTS AT -----------> https://en.wikipedia.org/wiki/Military_history_of_Austria\n",
      "https://en.wikipedia.org/wiki/Military_Frontier\n",
      "https://en.wikipedia.org/wiki/Marches\n",
      "https://en.wikipedia.org/wiki/Medieval_Europe\n",
      "https://en.wikipedia.org/wiki/History_of_Europe\n",
      "https://en.wikipedia.org/wiki/Europe\n",
      "https://en.wikipedia.org/wiki/Continent\n",
      "https://en.wikipedia.org/wiki/World\n",
      "https://en.wikipedia.org/wiki/Earth\n",
      "https://en.wikipedia.org/wiki/Planet\n",
      "https://en.wikipedia.org/wiki/Astronomical_body\n",
      "https://en.wikipedia.org/wiki/Physical_body\n",
      "https://en.wikipedia.org/wiki/Physics\n",
      "https://en.wikipedia.org/wiki/Ancient_Greek_language\n",
      "https://en.wikipedia.org/wiki/Greek_language\n",
      "https://en.wikipedia.org/wiki/Modern_Greek\n",
      "https://en.wikipedia.org/wiki/Colloquialism\n",
      "https://en.wikipedia.org/wiki/Vernacular\n",
      "https://en.wikipedia.org/wiki/Language\n",
      "https://en.wikipedia.org/wiki/Communication\n",
      "https://en.wikipedia.org/wiki/Meaning_(semiotics)\n"
     ]
    },
    {
     "name": "stderr",
     "output_type": "stream",
     "text": [
      "\r",
      " 15%|█▌        | 15/100 [02:22<13:24,  9.47s/it]"
     ]
    },
    {
     "name": "stdout",
     "output_type": "stream",
     "text": [
      "Categories: Philosophy of languageMeaning (philosophy of language)\n",
      "\n",
      "\n",
      "\n",
      "\n",
      "STARTS AT -----------> https://en.wikipedia.org/wiki/As_Sabain_District\n",
      "https://en.wikipedia.org/wiki/Districts_of_Yemen\n",
      "https://en.wikipedia.org/wiki/Governorates_of_Yemen\n",
      "https://en.wikipedia.org/wiki/Yemen\n",
      "https://en.wikipedia.org/wiki/Geographic_coordinate_system\n",
      "https://en.wikipedia.org/wiki/Coordinate_system\n",
      "https://en.wikipedia.org/wiki/Geometry\n",
      "https://en.wikipedia.org/wiki/Ancient_Greek_language\n",
      "https://en.wikipedia.org/wiki/Greek_language\n",
      "https://en.wikipedia.org/wiki/Modern_Greek\n",
      "https://en.wikipedia.org/wiki/Colloquialism\n",
      "https://en.wikipedia.org/wiki/Vernacular\n",
      "https://en.wikipedia.org/wiki/Language\n",
      "https://en.wikipedia.org/wiki/Communication\n",
      "https://en.wikipedia.org/wiki/Meaning_(semiotics)\n"
     ]
    },
    {
     "name": "stderr",
     "output_type": "stream",
     "text": [
      "\r",
      " 16%|█▌        | 16/100 [02:35<13:35,  9.70s/it]"
     ]
    },
    {
     "name": "stdout",
     "output_type": "stream",
     "text": [
      "Categories: Philosophy of languageMeaning (philosophy of language)\n",
      "\n",
      "\n",
      "\n",
      "\n",
      "STARTS AT -----------> https://en.wikipedia.org/wiki/Spiral_(Stockhausen)\n",
      "https://en.wikipedia.org/wiki/Shortwave_receiver\n",
      "https://en.wikipedia.org/wiki/Radio_receiver\n",
      "https://en.wikipedia.org/wiki/Radio\n",
      "https://en.wikipedia.org/wiki/Radio_wave\n",
      "https://en.wikipedia.org/wiki/Electromagnetic_radiation\n",
      "https://en.wikipedia.org/wiki/Physics\n",
      "https://en.wikipedia.org/wiki/Ancient_Greek_language\n",
      "https://en.wikipedia.org/wiki/Greek_language\n",
      "https://en.wikipedia.org/wiki/Modern_Greek\n",
      "https://en.wikipedia.org/wiki/Colloquialism\n",
      "https://en.wikipedia.org/wiki/Vernacular\n",
      "https://en.wikipedia.org/wiki/Language\n",
      "https://en.wikipedia.org/wiki/Communication\n",
      "https://en.wikipedia.org/wiki/Meaning_(semiotics)\n"
     ]
    },
    {
     "name": "stderr",
     "output_type": "stream",
     "text": [
      "\r",
      " 17%|█▋        | 17/100 [02:47<13:38,  9.86s/it]"
     ]
    },
    {
     "name": "stdout",
     "output_type": "stream",
     "text": [
      "Categories: Philosophy of languageMeaning (philosophy of language)\n",
      "\n",
      "\n",
      "\n",
      "\n",
      "STARTS AT -----------> https://en.wikipedia.org/wiki/Parmena_slamai\n",
      "https://en.wikipedia.org/wiki/Beetle\n",
      "https://en.wikipedia.org/wiki/Insect\n",
      "https://en.wikipedia.org/wiki/Latin\n",
      "https://en.wikipedia.org/wiki/Classical_language\n",
      "https://en.wikipedia.org/wiki/Language\n",
      "https://en.wikipedia.org/wiki/Communication\n",
      "https://en.wikipedia.org/wiki/Meaning_(semiotics)\n"
     ]
    },
    {
     "name": "stderr",
     "output_type": "stream",
     "text": [
      "\r",
      " 18%|█▊        | 18/100 [02:54<13:16,  9.71s/it]"
     ]
    },
    {
     "name": "stdout",
     "output_type": "stream",
     "text": [
      "Categories: Philosophy of languageMeaning (philosophy of language)\n",
      "\n",
      "\n",
      "\n",
      "\n",
      "STARTS AT -----------> https://en.wikipedia.org/wiki/List_of_Iraqi_records_in_swimming\n",
      "https://en.wikipedia.org/wiki/Iraq\n",
      "https://en.wikipedia.org/wiki/Geographic_coordinate_system\n",
      "https://en.wikipedia.org/wiki/Coordinate_system\n",
      "https://en.wikipedia.org/wiki/Geometry\n",
      "https://en.wikipedia.org/wiki/Ancient_Greek_language\n",
      "https://en.wikipedia.org/wiki/Greek_language\n",
      "https://en.wikipedia.org/wiki/Modern_Greek\n",
      "https://en.wikipedia.org/wiki/Colloquialism\n",
      "https://en.wikipedia.org/wiki/Vernacular\n",
      "https://en.wikipedia.org/wiki/Language\n",
      "https://en.wikipedia.org/wiki/Communication\n",
      "https://en.wikipedia.org/wiki/Meaning_(semiotics)\n"
     ]
    },
    {
     "name": "stderr",
     "output_type": "stream",
     "text": [
      "\r",
      " 19%|█▉        | 19/100 [03:06<13:13,  9.79s/it]"
     ]
    },
    {
     "name": "stdout",
     "output_type": "stream",
     "text": [
      "Categories: Philosophy of languageMeaning (philosophy of language)\n",
      "\n",
      "\n",
      "\n",
      "\n",
      "STARTS AT -----------> https://en.wikipedia.org/wiki/Andrew_the_Apostle\n",
      "https://en.wikipedia.org/wiki/Greek_language\n",
      "https://en.wikipedia.org/wiki/Modern_Greek\n",
      "https://en.wikipedia.org/wiki/Colloquialism\n",
      "https://en.wikipedia.org/wiki/Vernacular\n",
      "https://en.wikipedia.org/wiki/Language\n",
      "https://en.wikipedia.org/wiki/Communication\n",
      "https://en.wikipedia.org/wiki/Meaning_(semiotics)\n"
     ]
    },
    {
     "name": "stderr",
     "output_type": "stream",
     "text": [
      "\r",
      " 20%|██        | 20/100 [03:13<12:52,  9.65s/it]"
     ]
    },
    {
     "name": "stdout",
     "output_type": "stream",
     "text": [
      "Categories: Philosophy of languageMeaning (philosophy of language)\n",
      "\n",
      "\n",
      "\n",
      "\n",
      "STARTS AT -----------> https://en.wikipedia.org/wiki/Baro_Vatra\n",
      "https://en.wikipedia.org/wiki/Gopalganj_District_(Bangladesh)\n",
      "https://en.wikipedia.org/wiki/Bengali_language\n",
      "https://en.wikipedia.org/wiki/Endonym\n",
      "https://en.wikipedia.org/wiki/Geographical_place\n",
      "https://en.wikipedia.org/wiki/Geography\n",
      "https://en.wikipedia.org/wiki/Greek_language\n",
      "https://en.wikipedia.org/wiki/Modern_Greek\n",
      "https://en.wikipedia.org/wiki/Colloquialism\n",
      "https://en.wikipedia.org/wiki/Vernacular\n",
      "https://en.wikipedia.org/wiki/Language\n",
      "https://en.wikipedia.org/wiki/Communication\n",
      "https://en.wikipedia.org/wiki/Meaning_(semiotics)\n"
     ]
    },
    {
     "name": "stderr",
     "output_type": "stream",
     "text": [
      "\r",
      " 21%|██        | 21/100 [03:24<12:47,  9.72s/it]"
     ]
    },
    {
     "name": "stdout",
     "output_type": "stream",
     "text": [
      "Categories: Philosophy of languageMeaning (philosophy of language)\n",
      "\n",
      "\n",
      "\n",
      "\n",
      "STARTS AT -----------> https://en.wikipedia.org/wiki/Rudy_Behlmer\n",
      "https://en.wikipedia.org/wiki/History_of_film\n",
      "https://en.wikipedia.org/wiki/Auguste_and_Louis_Lumi%C3%A8re\n",
      "https://en.wikipedia.org/wiki/Film_director\n",
      "https://en.wikipedia.org/wiki/Film\n",
      "https://en.wikipedia.org/wiki/Projection_screen\n",
      "https://en.wikipedia.org/wiki/Image_projector\n",
      "https://en.wikipedia.org/wiki/Optical\n",
      "https://en.wikipedia.org/wiki/Physics\n",
      "https://en.wikipedia.org/wiki/Ancient_Greek_language\n",
      "https://en.wikipedia.org/wiki/Greek_language\n",
      "https://en.wikipedia.org/wiki/Modern_Greek\n",
      "https://en.wikipedia.org/wiki/Colloquialism\n",
      "https://en.wikipedia.org/wiki/Vernacular\n",
      "https://en.wikipedia.org/wiki/Language\n",
      "https://en.wikipedia.org/wiki/Communication\n",
      "https://en.wikipedia.org/wiki/Meaning_(semiotics)\n"
     ]
    },
    {
     "name": "stderr",
     "output_type": "stream",
     "text": [
      "\r",
      " 22%|██▏       | 22/100 [03:38<12:54,  9.93s/it]"
     ]
    },
    {
     "name": "stdout",
     "output_type": "stream",
     "text": [
      "Categories: Philosophy of languageMeaning (philosophy of language)\n",
      "\n",
      "\n",
      "\n",
      "\n",
      "STARTS AT -----------> https://en.wikipedia.org/wiki/Julio_Villalba\n",
      "https://en.wikipedia.org/wiki/Borussia_M%C3%B6nchengladbach\n",
      "https://en.wikipedia.org/wiki/Football_in_Germany\n",
      "https://en.wikipedia.org/wiki/Association_football\n",
      "https://en.wikipedia.org/wiki/Team_sport\n",
      "https://en.wikipedia.org/wiki/Sport\n",
      "https://en.wikipedia.org/wiki/British_English\n",
      "https://en.wikipedia.org/wiki/English_language\n",
      "https://en.wikipedia.org/wiki/West_Germanic_language\n",
      "https://en.wikipedia.org/wiki/Germanic_languages\n",
      "https://en.wikipedia.org/wiki/Indo-European_languages\n",
      "https://en.wikipedia.org/wiki/Language_family\n",
      "https://en.wikipedia.org/wiki/Language\n",
      "https://en.wikipedia.org/wiki/Communication\n",
      "https://en.wikipedia.org/wiki/Meaning_(semiotics)\n"
     ]
    },
    {
     "name": "stderr",
     "output_type": "stream",
     "text": [
      "\r",
      " 23%|██▎       | 23/100 [03:52<12:59, 10.13s/it]"
     ]
    },
    {
     "name": "stdout",
     "output_type": "stream",
     "text": [
      "Categories: Philosophy of languageMeaning (philosophy of language)\n",
      "\n",
      "\n",
      "\n",
      "\n",
      "STARTS AT -----------> https://en.wikipedia.org/wiki/DIMA_(database)\n",
      "https://en.wikipedia.org/wiki/Protein%E2%80%93protein_interaction\n",
      "https://en.wikipedia.org/wiki/Protein\n",
      "https://en.wikipedia.org/wiki/Biomolecule\n",
      "https://en.wikipedia.org/wiki/Molecule\n",
      "https://en.wikipedia.org/wiki/Electrically\n",
      "https://en.wikipedia.org/wiki/Physics\n",
      "https://en.wikipedia.org/wiki/Ancient_Greek_language\n",
      "https://en.wikipedia.org/wiki/Greek_language\n",
      "https://en.wikipedia.org/wiki/Modern_Greek\n",
      "https://en.wikipedia.org/wiki/Colloquialism\n",
      "https://en.wikipedia.org/wiki/Vernacular\n",
      "https://en.wikipedia.org/wiki/Language\n",
      "https://en.wikipedia.org/wiki/Communication\n",
      "https://en.wikipedia.org/wiki/Meaning_(semiotics)\n"
     ]
    },
    {
     "name": "stderr",
     "output_type": "stream",
     "text": [
      "\r",
      " 24%|██▍       | 24/100 [04:06<13:01, 10.28s/it]"
     ]
    },
    {
     "name": "stdout",
     "output_type": "stream",
     "text": [
      "Categories: Philosophy of languageMeaning (philosophy of language)\n",
      "\n",
      "\n",
      "\n",
      "\n",
      "STARTS AT -----------> https://en.wikipedia.org/wiki/Blackbird_(comics)\n",
      "https://en.wikipedia.org/wiki/Fiction\n",
      "https://en.wikipedia.org/wiki/Narrative\n",
      "https://en.wikipedia.org/wiki/Nonfiction\n",
      "https://en.wikipedia.org/wiki/Content_(media)\n",
      "https://en.wikipedia.org/wiki/Information\n",
      "https://en.wikipedia.org/wiki/Uncertainty\n",
      "https://en.wikipedia.org/wiki/Ambiguity\n",
      "https://en.wikipedia.org/wiki/Meaning_(linguistics)\n"
     ]
    },
    {
     "name": "stderr",
     "output_type": "stream",
     "text": [
      "\r",
      " 25%|██▌       | 25/100 [04:14<12:42, 10.16s/it]"
     ]
    },
    {
     "name": "stdout",
     "output_type": "stream",
     "text": [
      "Categories: Meaning (philosophy of language)Philosophical logicPhilosophy of languageSemantics\n",
      "\n",
      "\n",
      "\n",
      "\n",
      "STARTS AT -----------> https://en.wikipedia.org/wiki/2016_Asian_Dragon_Boat_Championships\n",
      "https://en.wikipedia.org/wiki/Puerto_Princessa\n",
      "https://en.wikipedia.org/wiki/Cuyonon_language\n",
      "https://en.wikipedia.org/wiki/Regional_language\n",
      "https://en.wikipedia.org/wiki/Language\n",
      "https://en.wikipedia.org/wiki/Communication\n",
      "https://en.wikipedia.org/wiki/Meaning_(semiotics)\n"
     ]
    },
    {
     "name": "stderr",
     "output_type": "stream",
     "text": [
      "\r",
      " 26%|██▌       | 26/100 [04:20<12:20, 10.00s/it]"
     ]
    },
    {
     "name": "stdout",
     "output_type": "stream",
     "text": [
      "Categories: Philosophy of languageMeaning (philosophy of language)\n",
      "\n",
      "\n",
      "\n",
      "\n",
      "STARTS AT -----------> https://en.wikipedia.org/wiki/Fran%C3%A7ois_Mah%C3%A9\n",
      "https://en.wikipedia.org/wiki/France\n",
      "https://en.wikipedia.org/wiki/French_language\n",
      "https://en.wikipedia.org/wiki/Romance_languages\n",
      "https://en.wikipedia.org/wiki/Vulgar_Latin\n",
      "https://en.wikipedia.org/wiki/Sociolect\n",
      "https://en.wikipedia.org/wiki/Sociolinguistics\n",
      "https://en.wikipedia.org/wiki/Society\n",
      "https://en.wikipedia.org/wiki/Social_group\n",
      "https://en.wikipedia.org/wiki/Social_science\n",
      "https://en.wikipedia.org/wiki/Discipline_(academia)\n",
      "https://en.wikipedia.org/wiki/Branch_(academia)\n",
      "https://en.wikipedia.org/wiki/Knowledge\n",
      "https://en.wikipedia.org/wiki/Fact\n"
     ]
    },
    {
     "name": "stderr",
     "output_type": "stream",
     "text": [
      "\r",
      " 27%|██▋       | 27/100 [04:33<12:20, 10.14s/it]"
     ]
    },
    {
     "name": "stdout",
     "output_type": "stream",
     "text": [
      "Categories: Concepts in epistemologyConcepts in logicPhilosophy of scienceRealityStatementsTruth\n",
      "\n",
      "\n",
      "\n",
      "\n",
      "STARTS AT -----------> https://en.wikipedia.org/wiki/MassCourts\n",
      "https://en.wikipedia.org/wiki/Law_practice_management_software\n",
      "https://en.wikipedia.org/wiki/Software\n",
      "https://en.wikipedia.org/wiki/Computer_system\n",
      "https://en.wikipedia.org/wiki/Arithmetic\n",
      "https://en.wikipedia.org/wiki/Ancient_Greek\n",
      "https://en.wikipedia.org/wiki/Greek_language\n",
      "https://en.wikipedia.org/wiki/Modern_Greek\n",
      "https://en.wikipedia.org/wiki/Colloquialism\n",
      "https://en.wikipedia.org/wiki/Vernacular\n",
      "https://en.wikipedia.org/wiki/Language\n",
      "https://en.wikipedia.org/wiki/Communication\n",
      "https://en.wikipedia.org/wiki/Meaning_(semiotics)\n"
     ]
    },
    {
     "name": "stderr",
     "output_type": "stream",
     "text": [
      "\r",
      " 28%|██▊       | 28/100 [04:44<12:11, 10.16s/it]"
     ]
    },
    {
     "name": "stdout",
     "output_type": "stream",
     "text": [
      "Categories: Philosophy of languageMeaning (philosophy of language)\n",
      "\n",
      "\n",
      "\n",
      "\n",
      "STARTS AT -----------> https://en.wikipedia.org/wiki/Ismail_Tosun\n",
      "https://en.wikipedia.org/wiki/Bozcaada\n",
      "https://en.wikipedia.org/wiki/Greek_language\n",
      "https://en.wikipedia.org/wiki/Modern_Greek\n",
      "https://en.wikipedia.org/wiki/Colloquialism\n",
      "https://en.wikipedia.org/wiki/Vernacular\n",
      "https://en.wikipedia.org/wiki/Language\n",
      "https://en.wikipedia.org/wiki/Communication\n",
      "https://en.wikipedia.org/wiki/Meaning_(semiotics)\n"
     ]
    },
    {
     "name": "stderr",
     "output_type": "stream",
     "text": [
      "\r",
      " 29%|██▉       | 29/100 [04:56<12:06, 10.23s/it]"
     ]
    },
    {
     "name": "stdout",
     "output_type": "stream",
     "text": [
      "Categories: Philosophy of languageMeaning (philosophy of language)\n",
      "\n",
      "\n",
      "\n",
      "\n",
      "STARTS AT -----------> https://en.wikipedia.org/wiki/Joe_Inoue\n",
      "https://en.wikipedia.org/wiki/Americans\n",
      "https://en.wikipedia.org/wiki/Citizenship\n",
      "https://en.wikipedia.org/wiki/Custom_(law)\n",
      "https://en.wikipedia.org/wiki/Law\n",
      "https://en.wikipedia.org/wiki/System\n",
      "https://en.wikipedia.org/wiki/Latin\n",
      "https://en.wikipedia.org/wiki/Classical_language\n",
      "https://en.wikipedia.org/wiki/Language\n",
      "https://en.wikipedia.org/wiki/Communication\n",
      "https://en.wikipedia.org/wiki/Meaning_(semiotics)\n"
     ]
    },
    {
     "name": "stderr",
     "output_type": "stream",
     "text": [
      "\r",
      " 30%|███       | 30/100 [05:06<11:54, 10.21s/it]"
     ]
    },
    {
     "name": "stdout",
     "output_type": "stream",
     "text": [
      "Categories: Philosophy of languageMeaning (philosophy of language)\n",
      "\n",
      "\n",
      "\n",
      "\n",
      "STARTS AT -----------> https://en.wikipedia.org/wiki/Motycz\n",
      "https://en.wikipedia.org/wiki/Village\n",
      "https://en.wikipedia.org/wiki/Human_settlement\n",
      "https://en.wikipedia.org/wiki/Geography\n",
      "https://en.wikipedia.org/wiki/Greek_language\n",
      "https://en.wikipedia.org/wiki/Modern_Greek\n",
      "https://en.wikipedia.org/wiki/Colloquialism\n",
      "https://en.wikipedia.org/wiki/Vernacular\n",
      "https://en.wikipedia.org/wiki/Language\n",
      "https://en.wikipedia.org/wiki/Communication\n",
      "https://en.wikipedia.org/wiki/Meaning_(semiotics)\n"
     ]
    },
    {
     "name": "stderr",
     "output_type": "stream",
     "text": [
      "\r",
      " 31%|███       | 31/100 [05:15<11:41, 10.17s/it]"
     ]
    },
    {
     "name": "stdout",
     "output_type": "stream",
     "text": [
      "Categories: Philosophy of languageMeaning (philosophy of language)\n",
      "\n",
      "\n",
      "\n",
      "\n",
      "STARTS AT -----------> https://en.wikipedia.org/wiki/Trial_Through_Fire\n",
      "https://en.wikipedia.org/wiki/City_of_Fire_(band)\n",
      "https://en.wikipedia.org/wiki/Groove_metal\n",
      "https://en.wikipedia.org/wiki/Heavy_metal_music\n",
      "https://en.wikipedia.org/wiki/Rock_music\n",
      "https://en.wikipedia.org/wiki/Popular_music\n",
      "https://en.wikipedia.org/wiki/Music_industry\n",
      "https://en.wikipedia.org/wiki/Musical_composition\n",
      "https://en.wikipedia.org/wiki/Music\n",
      "https://en.wikipedia.org/wiki/Culture\n",
      "https://en.wikipedia.org/wiki/Social_behavior\n",
      "https://en.wikipedia.org/wiki/Behavior\n",
      "https://en.wikipedia.org/wiki/American_English\n",
      "https://en.wikipedia.org/wiki/United_States_of_America\n",
      "https://en.wikipedia.org/wiki/Geographic_coordinate_system\n",
      "https://en.wikipedia.org/wiki/Coordinate_system\n",
      "https://en.wikipedia.org/wiki/Geometry\n",
      "https://en.wikipedia.org/wiki/Ancient_Greek_language\n",
      "https://en.wikipedia.org/wiki/Greek_language\n",
      "https://en.wikipedia.org/wiki/Modern_Greek\n",
      "https://en.wikipedia.org/wiki/Colloquialism\n",
      "https://en.wikipedia.org/wiki/Vernacular\n",
      "https://en.wikipedia.org/wiki/Language\n",
      "https://en.wikipedia.org/wiki/Communication\n",
      "https://en.wikipedia.org/wiki/Meaning_(semiotics)\n"
     ]
    },
    {
     "name": "stderr",
     "output_type": "stream",
     "text": [
      "\r",
      " 32%|███▏      | 32/100 [05:38<11:59, 10.58s/it]"
     ]
    },
    {
     "name": "stdout",
     "output_type": "stream",
     "text": [
      "Categories: Philosophy of languageMeaning (philosophy of language)\n",
      "\n",
      "\n",
      "\n",
      "\n",
      "STARTS AT -----------> https://en.wikipedia.org/wiki/Tan_Kim_Huat\n",
      "https://en.wikipedia.org/wiki/Fencing\n",
      "https://en.wikipedia.org/wiki/Foil_(fencing)\n",
      "https://en.wikipedia.org/wiki/Fencing_(sport)\n"
     ]
    },
    {
     "name": "stderr",
     "output_type": "stream",
     "text": [
      "\r",
      " 33%|███▎      | 33/100 [05:41<11:33, 10.35s/it]"
     ]
    },
    {
     "name": "stdout",
     "output_type": "stream",
     "text": [
      "https://en.wikipedia.org/wiki/Foil_(fencing)\n",
      "\n",
      " -------------> CYCLED\n",
      "\n",
      "\n",
      "\n",
      "\n",
      "STARTS AT -----------> https://en.wikipedia.org/wiki/Phil_Ohman\n",
      "https://en.wikipedia.org/wiki/United_States\n",
      "https://en.wikipedia.org/wiki/Geographic_coordinate_system\n",
      "https://en.wikipedia.org/wiki/Coordinate_system\n",
      "https://en.wikipedia.org/wiki/Geometry\n",
      "https://en.wikipedia.org/wiki/Ancient_Greek_language\n",
      "https://en.wikipedia.org/wiki/Greek_language\n",
      "https://en.wikipedia.org/wiki/Modern_Greek\n",
      "https://en.wikipedia.org/wiki/Colloquialism\n",
      "https://en.wikipedia.org/wiki/Vernacular\n",
      "https://en.wikipedia.org/wiki/Language\n",
      "https://en.wikipedia.org/wiki/Communication\n",
      "https://en.wikipedia.org/wiki/Meaning_(semiotics)\n"
     ]
    },
    {
     "name": "stderr",
     "output_type": "stream",
     "text": [
      "\r",
      " 34%|███▍      | 34/100 [05:53<11:25, 10.38s/it]"
     ]
    },
    {
     "name": "stdout",
     "output_type": "stream",
     "text": [
      "Categories: Philosophy of languageMeaning (philosophy of language)\n",
      "\n",
      "\n",
      "\n",
      "\n",
      "STARTS AT -----------> https://en.wikipedia.org/wiki/Horda_Tidend\n",
      "https://en.wikipedia.org/wiki/Voss\n",
      "https://en.wikipedia.org/wiki/Municipalities_of_Norway\n",
      "https://en.wikipedia.org/wiki/Norway\n",
      "https://en.wikipedia.org/wiki/Norwegian_language\n",
      "https://en.wikipedia.org/wiki/North_Germanic_languages\n",
      "https://en.wikipedia.org/wiki/Germanic_languages\n",
      "https://en.wikipedia.org/wiki/Indo-European_languages\n",
      "https://en.wikipedia.org/wiki/Language_family\n",
      "https://en.wikipedia.org/wiki/Language\n",
      "https://en.wikipedia.org/wiki/Communication\n",
      "https://en.wikipedia.org/wiki/Meaning_(semiotics)\n"
     ]
    },
    {
     "name": "stderr",
     "output_type": "stream",
     "text": [
      "\r",
      " 35%|███▌      | 35/100 [06:04<11:17, 10.43s/it]"
     ]
    },
    {
     "name": "stdout",
     "output_type": "stream",
     "text": [
      "Categories: Philosophy of languageMeaning (philosophy of language)\n",
      "\n",
      "\n",
      "\n",
      "\n",
      "STARTS AT -----------> https://en.wikipedia.org/wiki/List_of_Bollywood_films_of_1982\n",
      "https://en.wikipedia.org/wiki/Bollywood\n",
      "https://en.wikipedia.org/wiki/Metonymy\n",
      "https://en.wikipedia.org/wiki/British_English\n",
      "https://en.wikipedia.org/wiki/English_language\n",
      "https://en.wikipedia.org/wiki/West_Germanic_language\n",
      "https://en.wikipedia.org/wiki/Germanic_languages\n",
      "https://en.wikipedia.org/wiki/Indo-European_languages\n",
      "https://en.wikipedia.org/wiki/Language_family\n",
      "https://en.wikipedia.org/wiki/Language\n",
      "https://en.wikipedia.org/wiki/Communication\n",
      "https://en.wikipedia.org/wiki/Meaning_(semiotics)\n"
     ]
    },
    {
     "name": "stderr",
     "output_type": "stream",
     "text": [
      "\r",
      " 36%|███▌      | 36/100 [06:16<11:09, 10.46s/it]"
     ]
    },
    {
     "name": "stdout",
     "output_type": "stream",
     "text": [
      "Categories: Philosophy of languageMeaning (philosophy of language)\n",
      "\n",
      "\n",
      "\n",
      "\n",
      "STARTS AT -----------> https://en.wikipedia.org/wiki/Western_Australian_state_election,_1908\n",
      "https://en.wikipedia.org/wiki/Western_Australia\n",
      "https://en.wikipedia.org/wiki/States_and_territories_of_Australia\n",
      "https://en.wikipedia.org/wiki/Australia\n",
      "https://en.wikipedia.org/wiki/Geographic_coordinate_system\n",
      "https://en.wikipedia.org/wiki/Coordinate_system\n",
      "https://en.wikipedia.org/wiki/Geometry\n",
      "https://en.wikipedia.org/wiki/Ancient_Greek_language\n",
      "https://en.wikipedia.org/wiki/Greek_language\n",
      "https://en.wikipedia.org/wiki/Modern_Greek\n",
      "https://en.wikipedia.org/wiki/Colloquialism\n",
      "https://en.wikipedia.org/wiki/Vernacular\n",
      "https://en.wikipedia.org/wiki/Language\n",
      "https://en.wikipedia.org/wiki/Communication\n",
      "https://en.wikipedia.org/wiki/Meaning_(semiotics)\n"
     ]
    },
    {
     "name": "stderr",
     "output_type": "stream",
     "text": [
      "\r",
      " 37%|███▋      | 37/100 [06:30<11:04, 10.55s/it]"
     ]
    },
    {
     "name": "stdout",
     "output_type": "stream",
     "text": [
      "Categories: Philosophy of languageMeaning (philosophy of language)\n",
      "\n",
      "\n",
      "\n",
      "\n",
      "STARTS AT -----------> https://en.wikipedia.org/wiki/Kanichi,_Peru\n",
      "https://en.wikipedia.org/wiki/Ayacucho_Quechua\n",
      "https://en.wikipedia.org/wiki/Southern_Quechua\n",
      "https://en.wikipedia.org/wiki/Quechuan_languages\n",
      "https://en.wikipedia.org/wiki/Indigenous_languages_of_the_Americas\n",
      "https://en.wikipedia.org/wiki/Indigenous_peoples_of_the_Americas\n",
      "https://en.wikipedia.org/wiki/Pre-Columbian\n",
      "https://en.wikipedia.org/wiki/Archaeology_of_the_Americas\n",
      "https://en.wikipedia.org/wiki/Archaeology\n",
      "https://en.wikipedia.org/wiki/Human\n",
      "https://en.wikipedia.org/wiki/Homo_sapiens\n",
      "https://en.wikipedia.org/wiki/Taxonomy_(biology)\n",
      "https://en.wikipedia.org/wiki/Ancient_Greek_language\n",
      "https://en.wikipedia.org/wiki/Greek_language\n",
      "https://en.wikipedia.org/wiki/Modern_Greek\n",
      "https://en.wikipedia.org/wiki/Colloquialism\n",
      "https://en.wikipedia.org/wiki/Vernacular\n",
      "https://en.wikipedia.org/wiki/Language\n",
      "https://en.wikipedia.org/wiki/Communication\n",
      "https://en.wikipedia.org/wiki/Meaning_(semiotics)\n"
     ]
    },
    {
     "name": "stderr",
     "output_type": "stream",
     "text": [
      "\r",
      " 38%|███▊      | 38/100 [06:51<11:11, 10.83s/it]"
     ]
    },
    {
     "name": "stdout",
     "output_type": "stream",
     "text": [
      "Categories: Philosophy of languageMeaning (philosophy of language)\n",
      "\n",
      "\n",
      "\n",
      "\n",
      "STARTS AT -----------> https://en.wikipedia.org/wiki/Medovarce\n",
      "https://en.wikipedia.org/wiki/Village\n",
      "https://en.wikipedia.org/wiki/Human_settlement\n",
      "https://en.wikipedia.org/wiki/Geography\n",
      "https://en.wikipedia.org/wiki/Greek_language\n",
      "https://en.wikipedia.org/wiki/Modern_Greek\n",
      "https://en.wikipedia.org/wiki/Colloquialism\n",
      "https://en.wikipedia.org/wiki/Vernacular\n",
      "https://en.wikipedia.org/wiki/Language\n",
      "https://en.wikipedia.org/wiki/Communication\n",
      "https://en.wikipedia.org/wiki/Meaning_(semiotics)\n"
     ]
    },
    {
     "name": "stderr",
     "output_type": "stream",
     "text": [
      "\r",
      " 39%|███▉      | 39/100 [07:01<10:59, 10.81s/it]"
     ]
    },
    {
     "name": "stdout",
     "output_type": "stream",
     "text": [
      "Categories: Philosophy of languageMeaning (philosophy of language)\n",
      "\n",
      "\n",
      "\n",
      "\n",
      "STARTS AT -----------> https://en.wikipedia.org/wiki/Northeastern_Wisconsin_Zoo\n",
      "https://en.wikipedia.org/wiki/Green_Bay,_Wisconsin\n",
      "https://en.wikipedia.org/wiki/County_seat\n",
      "https://en.wikipedia.org/wiki/Administrative_center\n",
      "https://en.wikipedia.org/wiki/Local_government\n",
      "https://en.wikipedia.org/wiki/Public_administration\n",
      "https://en.wikipedia.org/wiki/Public_policy\n",
      "https://en.wikipedia.org/wiki/Executive_(government)\n",
      "https://en.wikipedia.org/wiki/Authority\n"
     ]
    },
    {
     "name": "stderr",
     "output_type": "stream",
     "text": [
      "\r",
      " 40%|████      | 40/100 [07:10<10:45, 10.76s/it]"
     ]
    },
    {
     "name": "stdout",
     "output_type": "stream",
     "text": [
      "Categories: Political philosophyPhilosophy of lawSocial conceptsGroup processesSocial ethicsAuthority\n",
      "\n",
      "\n",
      "\n",
      "\n",
      "STARTS AT -----------> https://en.wikipedia.org/wiki/Ilex_qianlingshanensis\n",
      "https://en.wikipedia.org/wiki/Qianling_Mountain\n",
      "https://en.wikipedia.org/wiki/Chinese_language\n",
      "https://en.wikipedia.org/wiki/Simplified_Chinese_characters\n",
      "https://en.wikipedia.org/wiki/Chinese_character\n",
      "https://en.wikipedia.org/wiki/Logogram\n",
      "https://en.wikipedia.org/wiki/Written_language\n",
      "https://en.wikipedia.org/wiki/Language\n",
      "https://en.wikipedia.org/wiki/Communication\n",
      "https://en.wikipedia.org/wiki/Meaning_(semiotics)\n"
     ]
    },
    {
     "name": "stderr",
     "output_type": "stream",
     "text": [
      "\r",
      " 41%|████      | 41/100 [07:20<10:33, 10.74s/it]"
     ]
    },
    {
     "name": "stdout",
     "output_type": "stream",
     "text": [
      "Categories: Philosophy of languageMeaning (philosophy of language)\n",
      "\n",
      "\n",
      "\n",
      "\n",
      "STARTS AT -----------> https://en.wikipedia.org/wiki/Parennomos\n",
      "https://en.wikipedia.org/wiki/Geometridae\n",
      "https://en.wikipedia.org/wiki/Family_(biology)\n",
      "https://en.wikipedia.org/wiki/Biological_classification\n",
      "https://en.wikipedia.org/wiki/Ancient_Greek_language\n",
      "https://en.wikipedia.org/wiki/Greek_language\n",
      "https://en.wikipedia.org/wiki/Modern_Greek\n",
      "https://en.wikipedia.org/wiki/Colloquialism\n",
      "https://en.wikipedia.org/wiki/Vernacular\n",
      "https://en.wikipedia.org/wiki/Language\n",
      "https://en.wikipedia.org/wiki/Communication\n",
      "https://en.wikipedia.org/wiki/Meaning_(semiotics)\n"
     ]
    },
    {
     "name": "stderr",
     "output_type": "stream",
     "text": [
      "\r",
      " 42%|████▏     | 42/100 [07:30<10:21, 10.72s/it]"
     ]
    },
    {
     "name": "stdout",
     "output_type": "stream",
     "text": [
      "Categories: Philosophy of languageMeaning (philosophy of language)\n",
      "\n",
      "\n",
      "\n",
      "\n",
      "STARTS AT -----------> https://en.wikipedia.org/wiki/Greymachine\n",
      "https://en.wikipedia.org/wiki/Experimental_music\n",
      "https://en.wikipedia.org/wiki/Indeterminacy_in_music\n",
      "https://en.wikipedia.org/wiki/John_Cage\n"
     ]
    },
    {
     "name": "stderr",
     "output_type": "stream",
     "text": [
      "\r",
      " 43%|████▎     | 43/100 [07:33<10:01, 10.54s/it]"
     ]
    },
    {
     "name": "stdout",
     "output_type": "stream",
     "text": [
      "Categories: 1912 births1992 deaths20th-century classical composersBallet composersAmerican anarchistsAmerican male classical composersAmerican classical composers20th-century American writersAnarchist poetsLGBT artists from the United StatesHarvard University peopleAnarchist musiciansExperimental composersFluxusGuggenheim FellowsKyoto laureates in Arts and PhilosophyLGBT musicians from the United StatesLGBT people from CaliforniaLGBT BuddhistsLGBT composersAmerican opera composersMusicians from Los AngelesMysticsBlack Mountain College facultyWesleyan University facultyMills College facultyContemporary classical music performersAmerican Zen BuddhistsAmerican experimental musiciansAvant-garde pianistsCornish College of the Arts facultyFellows of the American Academy of Arts and SciencesConverts to BuddhismPupils of Arnold SchoenbergPupils of Henry CowellPeople from Stony Point, New York20th-century poets20th-century classical pianists20th-century American pianistsMale opera composersExperiments in Art and Technology collaborating artists20th-century American composers\n",
      "\n",
      "\n",
      "\n",
      "\n",
      "STARTS AT -----------> https://en.wikipedia.org/wiki/Jan_Carinci\n",
      "https://en.wikipedia.org/wiki/London,_England\n",
      "https://en.wikipedia.org/wiki/England\n",
      "https://en.wikipedia.org/wiki/Country\n",
      "https://en.wikipedia.org/wiki/Political_geography\n",
      "https://en.wikipedia.org/wiki/Politics\n",
      "https://en.wikipedia.org/wiki/Greek_language\n",
      "https://en.wikipedia.org/wiki/Modern_Greek\n",
      "https://en.wikipedia.org/wiki/Colloquialism\n",
      "https://en.wikipedia.org/wiki/Vernacular\n",
      "https://en.wikipedia.org/wiki/Language\n",
      "https://en.wikipedia.org/wiki/Communication\n",
      "https://en.wikipedia.org/wiki/Meaning_(semiotics)\n"
     ]
    },
    {
     "name": "stderr",
     "output_type": "stream",
     "text": [
      "\r",
      " 44%|████▍     | 44/100 [07:44<09:51, 10.56s/it]"
     ]
    },
    {
     "name": "stdout",
     "output_type": "stream",
     "text": [
      "Categories: Philosophy of languageMeaning (philosophy of language)\n",
      "\n",
      "\n",
      "\n",
      "\n",
      "STARTS AT -----------> https://en.wikipedia.org/wiki/Marsha_Mehran\n",
      "https://en.wikipedia.org/wiki/Persian_language\n",
      "https://en.wikipedia.org/wiki/Endonym\n",
      "https://en.wikipedia.org/wiki/Geographical_place\n",
      "https://en.wikipedia.org/wiki/Geography\n",
      "https://en.wikipedia.org/wiki/Greek_language\n",
      "https://en.wikipedia.org/wiki/Modern_Greek\n",
      "https://en.wikipedia.org/wiki/Colloquialism\n",
      "https://en.wikipedia.org/wiki/Vernacular\n",
      "https://en.wikipedia.org/wiki/Language\n",
      "https://en.wikipedia.org/wiki/Communication\n",
      "https://en.wikipedia.org/wiki/Meaning_(semiotics)\n"
     ]
    },
    {
     "name": "stderr",
     "output_type": "stream",
     "text": [
      "\r",
      " 45%|████▌     | 45/100 [07:55<09:40, 10.56s/it]"
     ]
    },
    {
     "name": "stdout",
     "output_type": "stream",
     "text": [
      "Categories: Philosophy of languageMeaning (philosophy of language)\n",
      "\n",
      "\n",
      "\n",
      "\n",
      "STARTS AT -----------> https://en.wikipedia.org/wiki/Eight_per_thousand\n",
      "https://en.wikipedia.org/wiki/Italian_language\n",
      "https://en.wikipedia.org/wiki/Romance_languages\n",
      "https://en.wikipedia.org/wiki/Vulgar_Latin\n",
      "https://en.wikipedia.org/wiki/Sociolect\n",
      "https://en.wikipedia.org/wiki/Sociolinguistics\n",
      "https://en.wikipedia.org/wiki/Society\n",
      "https://en.wikipedia.org/wiki/Social_group\n",
      "https://en.wikipedia.org/wiki/Social_science\n",
      "https://en.wikipedia.org/wiki/Discipline_(academia)\n",
      "https://en.wikipedia.org/wiki/Branch_(academia)\n",
      "https://en.wikipedia.org/wiki/Knowledge\n",
      "https://en.wikipedia.org/wiki/Fact\n"
     ]
    },
    {
     "name": "stderr",
     "output_type": "stream",
     "text": [
      "\r",
      " 46%|████▌     | 46/100 [08:07<09:31, 10.59s/it]"
     ]
    },
    {
     "name": "stdout",
     "output_type": "stream",
     "text": [
      "Categories: Concepts in epistemologyConcepts in logicPhilosophy of scienceRealityStatementsTruth\n",
      "\n",
      "\n",
      "\n",
      "\n",
      "STARTS AT -----------> https://en.wikipedia.org/wiki/Fight%2B\n",
      "https://en.wikipedia.org/wiki/Steffen_Tangstad\n",
      "https://en.wikipedia.org/wiki/Norway\n",
      "https://en.wikipedia.org/wiki/Norwegian_language\n",
      "https://en.wikipedia.org/wiki/North_Germanic_languages\n",
      "https://en.wikipedia.org/wiki/Germanic_languages\n",
      "https://en.wikipedia.org/wiki/Indo-European_languages\n",
      "https://en.wikipedia.org/wiki/Language_family\n",
      "https://en.wikipedia.org/wiki/Language\n",
      "https://en.wikipedia.org/wiki/Communication\n",
      "https://en.wikipedia.org/wiki/Meaning_(semiotics)\n"
     ]
    },
    {
     "name": "stderr",
     "output_type": "stream",
     "text": [
      "\r",
      " 47%|████▋     | 47/100 [08:17<09:21, 10.59s/it]"
     ]
    },
    {
     "name": "stdout",
     "output_type": "stream",
     "text": [
      "Categories: Philosophy of languageMeaning (philosophy of language)\n",
      "\n",
      "\n",
      "\n",
      "\n",
      "STARTS AT -----------> https://en.wikipedia.org/wiki/2017%E2%80%9318_Lowland_Football_League\n",
      "https://en.wikipedia.org/wiki/Lowland_Football_League\n",
      "https://en.wikipedia.org/wiki/Association_football\n",
      "https://en.wikipedia.org/wiki/Team_sport\n",
      "https://en.wikipedia.org/wiki/Sport\n",
      "https://en.wikipedia.org/wiki/British_English\n",
      "https://en.wikipedia.org/wiki/English_language\n",
      "https://en.wikipedia.org/wiki/West_Germanic_language\n",
      "https://en.wikipedia.org/wiki/Germanic_languages\n",
      "https://en.wikipedia.org/wiki/Indo-European_languages\n",
      "https://en.wikipedia.org/wiki/Language_family\n",
      "https://en.wikipedia.org/wiki/Language\n",
      "https://en.wikipedia.org/wiki/Communication\n",
      "https://en.wikipedia.org/wiki/Meaning_(semiotics)\n"
     ]
    },
    {
     "name": "stderr",
     "output_type": "stream",
     "text": [
      "\r",
      " 48%|████▊     | 48/100 [08:31<09:13, 10.65s/it]"
     ]
    },
    {
     "name": "stdout",
     "output_type": "stream",
     "text": [
      "Categories: Philosophy of languageMeaning (philosophy of language)\n",
      "\n",
      "\n",
      "\n",
      "\n",
      "STARTS AT -----------> https://en.wikipedia.org/wiki/Saku_Koivu\n",
      "https://en.wikipedia.org/wiki/Finns\n",
      "https://en.wikipedia.org/wiki/Finnish_language\n",
      "https://en.wikipedia.org/wiki/Finnic_language\n",
      "https://en.wikipedia.org/wiki/Uralic_language_family\n",
      "https://en.wikipedia.org/wiki/Language_family\n",
      "https://en.wikipedia.org/wiki/Language\n",
      "https://en.wikipedia.org/wiki/Communication\n",
      "https://en.wikipedia.org/wiki/Meaning_(semiotics)\n"
     ]
    },
    {
     "name": "stderr",
     "output_type": "stream",
     "text": [
      "\r",
      " 49%|████▉     | 49/100 [08:38<08:59, 10.59s/it]"
     ]
    },
    {
     "name": "stdout",
     "output_type": "stream",
     "text": [
      "Categories: Philosophy of languageMeaning (philosophy of language)\n",
      "\n",
      "\n",
      "\n",
      "\n",
      "STARTS AT -----------> https://en.wikipedia.org/wiki/Wilburton_Inn\n",
      "https://en.wikipedia.org/wiki/Manchester_(village),_Vermont\n",
      "https://en.wikipedia.org/wiki/Village_(Vermont)\n",
      "https://en.wikipedia.org/wiki/Vermont\n",
      "https://en.wikipedia.org/wiki/U.S._state\n",
      "https://en.wikipedia.org/wiki/Polity\n",
      "https://en.wikipedia.org/wiki/Identity_(social_science)\n",
      "https://en.wikipedia.org/wiki/Psychology\n",
      "https://en.wikipedia.org/wiki/Science\n",
      "https://en.wikipedia.org/wiki/Latin_language\n",
      "https://en.wikipedia.org/wiki/Classical_language\n",
      "https://en.wikipedia.org/wiki/Language\n",
      "https://en.wikipedia.org/wiki/Communication\n",
      "https://en.wikipedia.org/wiki/Meaning_(semiotics)\n"
     ]
    },
    {
     "name": "stderr",
     "output_type": "stream",
     "text": [
      "\r",
      " 50%|█████     | 50/100 [08:52<08:52, 10.65s/it]"
     ]
    },
    {
     "name": "stdout",
     "output_type": "stream",
     "text": [
      "Categories: Philosophy of languageMeaning (philosophy of language)\n",
      "\n",
      "\n",
      "\n",
      "\n"
     ]
    },
    {
     "name": "stderr",
     "output_type": "stream",
     "text": [
      "\r",
      " 51%|█████     | 51/100 [08:53<08:32, 10.45s/it]"
     ]
    },
    {
     "name": "stdout",
     "output_type": "stream",
     "text": [
      "STARTS AT -----------> https://en.wikipedia.org/wiki/Herczeg\n",
      "ERROR: pulled wrong link, test failed\n",
      "\n",
      "\n",
      "\n",
      "\n",
      "STARTS AT -----------> https://en.wikipedia.org/wiki/2gether_(Warren_Vach%C3%A9_and_Bill_Charlap_album)\n",
      "https://en.wikipedia.org/wiki/Warren_Vach%C3%A9\n",
      "https://en.wikipedia.org/wiki/Rahway,_New_Jersey\n",
      "https://en.wikipedia.org/wiki/City_(New_Jersey)\n",
      "https://en.wikipedia.org/wiki/New_Jersey\n",
      "https://en.wikipedia.org/wiki/U.S._state\n",
      "https://en.wikipedia.org/wiki/Polity\n",
      "https://en.wikipedia.org/wiki/Identity_(social_science)\n",
      "https://en.wikipedia.org/wiki/Psychology\n",
      "https://en.wikipedia.org/wiki/Science\n",
      "https://en.wikipedia.org/wiki/Latin_language\n",
      "https://en.wikipedia.org/wiki/Classical_language\n",
      "https://en.wikipedia.org/wiki/Language\n",
      "https://en.wikipedia.org/wiki/Communication\n",
      "https://en.wikipedia.org/wiki/Meaning_(semiotics)\n"
     ]
    },
    {
     "name": "stderr",
     "output_type": "stream",
     "text": [
      "\r",
      " 52%|█████▏    | 52/100 [09:06<08:24, 10.51s/it]"
     ]
    },
    {
     "name": "stdout",
     "output_type": "stream",
     "text": [
      "Categories: Philosophy of languageMeaning (philosophy of language)\n",
      "\n",
      "\n",
      "\n",
      "\n",
      "STARTS AT -----------> https://en.wikipedia.org/wiki/John_Utendahl\n",
      "https://en.wikipedia.org/wiki/African_American\n",
      "https://en.wikipedia.org/wiki/Ethnic_group\n",
      "https://en.wikipedia.org/wiki/Identity_(social_science)\n",
      "https://en.wikipedia.org/wiki/Psychology\n",
      "https://en.wikipedia.org/wiki/Science\n",
      "https://en.wikipedia.org/wiki/Latin_language\n",
      "https://en.wikipedia.org/wiki/Classical_language\n",
      "https://en.wikipedia.org/wiki/Language\n",
      "https://en.wikipedia.org/wiki/Communication\n",
      "https://en.wikipedia.org/wiki/Meaning_(semiotics)\n"
     ]
    },
    {
     "name": "stderr",
     "output_type": "stream",
     "text": [
      "\r",
      " 53%|█████▎    | 53/100 [09:16<08:13, 10.50s/it]"
     ]
    },
    {
     "name": "stdout",
     "output_type": "stream",
     "text": [
      "Categories: Philosophy of languageMeaning (philosophy of language)\n",
      "\n",
      "\n",
      "\n",
      "\n",
      "STARTS AT -----------> https://en.wikipedia.org/wiki/Dan_Rotman\n",
      "https://en.wikipedia.org/wiki/United_States\n",
      "https://en.wikipedia.org/wiki/Geographic_coordinate_system\n",
      "https://en.wikipedia.org/wiki/Coordinate_system\n",
      "https://en.wikipedia.org/wiki/Geometry\n",
      "https://en.wikipedia.org/wiki/Ancient_Greek_language\n",
      "https://en.wikipedia.org/wiki/Greek_language\n",
      "https://en.wikipedia.org/wiki/Modern_Greek\n",
      "https://en.wikipedia.org/wiki/Colloquialism\n",
      "https://en.wikipedia.org/wiki/Vernacular\n",
      "https://en.wikipedia.org/wiki/Language\n",
      "https://en.wikipedia.org/wiki/Communication\n",
      "https://en.wikipedia.org/wiki/Meaning_(semiotics)\n"
     ]
    },
    {
     "name": "stderr",
     "output_type": "stream",
     "text": [
      "\r",
      " 54%|█████▍    | 54/100 [09:29<08:04, 10.54s/it]"
     ]
    },
    {
     "name": "stdout",
     "output_type": "stream",
     "text": [
      "Categories: Philosophy of languageMeaning (philosophy of language)\n",
      "\n",
      "\n",
      "\n",
      "\n",
      "STARTS AT -----------> https://en.wikipedia.org/wiki/Jean-Michel_Capoue\n",
      "https://en.wikipedia.org/wiki/Association_football\n",
      "https://en.wikipedia.org/wiki/Team_sport\n",
      "https://en.wikipedia.org/wiki/Sport\n",
      "https://en.wikipedia.org/wiki/British_English\n",
      "https://en.wikipedia.org/wiki/English_language\n",
      "https://en.wikipedia.org/wiki/West_Germanic_language\n",
      "https://en.wikipedia.org/wiki/Germanic_languages\n",
      "https://en.wikipedia.org/wiki/Indo-European_languages\n",
      "https://en.wikipedia.org/wiki/Language_family\n",
      "https://en.wikipedia.org/wiki/Language\n",
      "https://en.wikipedia.org/wiki/Communication\n",
      "https://en.wikipedia.org/wiki/Meaning_(semiotics)\n"
     ]
    },
    {
     "name": "stderr",
     "output_type": "stream",
     "text": [
      "\r",
      " 55%|█████▌    | 55/100 [09:41<07:56, 10.58s/it]"
     ]
    },
    {
     "name": "stdout",
     "output_type": "stream",
     "text": [
      "Categories: Philosophy of languageMeaning (philosophy of language)\n",
      "\n",
      "\n",
      "\n",
      "\n",
      "STARTS AT -----------> https://en.wikipedia.org/wiki/Tight_Fittin%27_Jeans\n",
      "https://en.wikipedia.org/wiki/Conway_Twitty\n",
      "https://en.wikipedia.org/wiki/Stage_name\n",
      "https://en.wikipedia.org/wiki/Pseudonym\n",
      "https://en.wikipedia.org/wiki/Name\n",
      "https://en.wikipedia.org/wiki/Term_(language)\n",
      "https://en.wikipedia.org/wiki/Word\n",
      "https://en.wikipedia.org/wiki/Linguistics\n",
      "https://en.wikipedia.org/wiki/Language\n",
      "https://en.wikipedia.org/wiki/Communication\n",
      "https://en.wikipedia.org/wiki/Meaning_(semiotics)\n"
     ]
    },
    {
     "name": "stderr",
     "output_type": "stream",
     "text": [
      "\r",
      " 56%|█████▌    | 56/100 [09:50<07:43, 10.54s/it]"
     ]
    },
    {
     "name": "stdout",
     "output_type": "stream",
     "text": [
      "Categories: Philosophy of languageMeaning (philosophy of language)\n",
      "\n",
      "\n",
      "\n",
      "\n",
      "STARTS AT -----------> https://en.wikipedia.org/wiki/WAEZ\n",
      "https://en.wikipedia.org/wiki/FM_broadcasting\n",
      "https://en.wikipedia.org/wiki/Radio_broadcasting\n",
      "https://en.wikipedia.org/wiki/Radio_waves\n",
      "https://en.wikipedia.org/wiki/Electromagnetic_radiation\n",
      "https://en.wikipedia.org/wiki/Physics\n",
      "https://en.wikipedia.org/wiki/Ancient_Greek_language\n",
      "https://en.wikipedia.org/wiki/Greek_language\n",
      "https://en.wikipedia.org/wiki/Modern_Greek\n",
      "https://en.wikipedia.org/wiki/Colloquialism\n",
      "https://en.wikipedia.org/wiki/Vernacular\n",
      "https://en.wikipedia.org/wiki/Language\n",
      "https://en.wikipedia.org/wiki/Communication\n",
      "https://en.wikipedia.org/wiki/Meaning_(semiotics)\n"
     ]
    },
    {
     "name": "stderr",
     "output_type": "stream",
     "text": [
      "\r",
      " 57%|█████▋    | 57/100 [10:02<07:34, 10.56s/it]"
     ]
    },
    {
     "name": "stdout",
     "output_type": "stream",
     "text": [
      "Categories: Philosophy of languageMeaning (philosophy of language)\n",
      "\n",
      "\n",
      "\n",
      "\n",
      "STARTS AT -----------> https://en.wikipedia.org/wiki/Leit%C3%A3o_(futsal_player)\n",
      "https://en.wikipedia.org/wiki/Futsal\n",
      "https://en.wikipedia.org/wiki/Association_football\n",
      "https://en.wikipedia.org/wiki/Team_sport\n",
      "https://en.wikipedia.org/wiki/Sport\n",
      "https://en.wikipedia.org/wiki/British_English\n",
      "https://en.wikipedia.org/wiki/English_language\n",
      "https://en.wikipedia.org/wiki/West_Germanic_language\n",
      "https://en.wikipedia.org/wiki/Germanic_languages\n",
      "https://en.wikipedia.org/wiki/Indo-European_languages\n",
      "https://en.wikipedia.org/wiki/Language_family\n",
      "https://en.wikipedia.org/wiki/Language\n",
      "https://en.wikipedia.org/wiki/Communication\n",
      "https://en.wikipedia.org/wiki/Meaning_(semiotics)\n"
     ]
    },
    {
     "name": "stderr",
     "output_type": "stream",
     "text": [
      "\r",
      " 58%|█████▊    | 58/100 [10:16<07:26, 10.63s/it]"
     ]
    },
    {
     "name": "stdout",
     "output_type": "stream",
     "text": [
      "Categories: Philosophy of languageMeaning (philosophy of language)\n",
      "\n",
      "\n",
      "\n",
      "\n",
      "STARTS AT -----------> https://en.wikipedia.org/wiki/Cable_Head,_Prince_Edward_Island\n",
      "https://en.wikipedia.org/wiki/List_of_communities_in_Prince_Edward_Island\n",
      "https://en.wikipedia.org/wiki/Prince_Edward_Island\n",
      "https://en.wikipedia.org/wiki/French_language\n",
      "https://en.wikipedia.org/wiki/Romance_languages\n",
      "https://en.wikipedia.org/wiki/Vulgar_Latin\n",
      "https://en.wikipedia.org/wiki/Sociolect\n",
      "https://en.wikipedia.org/wiki/Sociolinguistics\n",
      "https://en.wikipedia.org/wiki/Society\n",
      "https://en.wikipedia.org/wiki/Social_group\n",
      "https://en.wikipedia.org/wiki/Social_science\n",
      "https://en.wikipedia.org/wiki/Discipline_(academia)\n",
      "https://en.wikipedia.org/wiki/Branch_(academia)\n",
      "https://en.wikipedia.org/wiki/Knowledge\n",
      "https://en.wikipedia.org/wiki/Fact\n"
     ]
    },
    {
     "name": "stderr",
     "output_type": "stream",
     "text": [
      "\r",
      " 59%|█████▉    | 59/100 [10:30<07:18, 10.69s/it]"
     ]
    },
    {
     "name": "stdout",
     "output_type": "stream",
     "text": [
      "Categories: Concepts in epistemologyConcepts in logicPhilosophy of scienceRealityStatementsTruth\n",
      "\n",
      "\n",
      "\n",
      "\n",
      "STARTS AT -----------> https://en.wikipedia.org/wiki/Roy_Stryker\n",
      "https://en.wikipedia.org/wiki/Photojournalism\n",
      "https://en.wikipedia.org/wiki/Journalism\n",
      "https://en.wikipedia.org/wiki/Report\n",
      "https://en.wikipedia.org/wiki/Information\n",
      "https://en.wikipedia.org/wiki/Uncertainty\n",
      "https://en.wikipedia.org/wiki/Ambiguity\n",
      "https://en.wikipedia.org/wiki/Meaning_(linguistics)\n"
     ]
    },
    {
     "name": "stderr",
     "output_type": "stream",
     "text": [
      "\r",
      " 60%|██████    | 60/100 [10:36<07:04, 10.61s/it]"
     ]
    },
    {
     "name": "stdout",
     "output_type": "stream",
     "text": [
      "Categories: Meaning (philosophy of language)Philosophical logicPhilosophy of languageSemantics\n",
      "\n",
      "\n",
      "\n",
      "\n",
      "STARTS AT -----------> https://en.wikipedia.org/wiki/Erin_go_bragh\n",
      "https://en.wikipedia.org/wiki/Anglicisation\n",
      "https://en.wikipedia.org/wiki/Romanisation\n",
      "https://en.wikipedia.org/wiki/Linguistics\n",
      "https://en.wikipedia.org/wiki/Language\n",
      "https://en.wikipedia.org/wiki/Communication\n",
      "https://en.wikipedia.org/wiki/Meaning_(semiotics)\n"
     ]
    },
    {
     "name": "stderr",
     "output_type": "stream",
     "text": [
      "\r",
      " 61%|██████    | 61/100 [10:41<06:50, 10.52s/it]"
     ]
    },
    {
     "name": "stdout",
     "output_type": "stream",
     "text": [
      "Categories: Philosophy of languageMeaning (philosophy of language)\n",
      "\n",
      "\n",
      "\n",
      "\n",
      "STARTS AT -----------> https://en.wikipedia.org/wiki/Adrienna_Jenkins\n",
      "https://en.wikipedia.org/wiki/Mixed_martial_arts\n",
      "https://en.wikipedia.org/wiki/Combat_sport\n",
      "https://en.wikipedia.org/wiki/Contact_sport\n",
      "https://en.wikipedia.org/wiki/Sport\n",
      "https://en.wikipedia.org/wiki/British_English\n",
      "https://en.wikipedia.org/wiki/English_language\n",
      "https://en.wikipedia.org/wiki/West_Germanic_language\n",
      "https://en.wikipedia.org/wiki/Germanic_languages\n",
      "https://en.wikipedia.org/wiki/Indo-European_languages\n",
      "https://en.wikipedia.org/wiki/Language_family\n",
      "https://en.wikipedia.org/wiki/Language\n",
      "https://en.wikipedia.org/wiki/Communication\n",
      "https://en.wikipedia.org/wiki/Meaning_(semiotics)\n"
     ]
    },
    {
     "name": "stderr",
     "output_type": "stream",
     "text": [
      "\r",
      " 62%|██████▏   | 62/100 [10:54<06:41, 10.56s/it]"
     ]
    },
    {
     "name": "stdout",
     "output_type": "stream",
     "text": [
      "Categories: Philosophy of languageMeaning (philosophy of language)\n",
      "\n",
      "\n",
      "\n",
      "\n",
      "STARTS AT -----------> https://en.wikipedia.org/wiki/Carolyn_McCarthy\n",
      "https://en.wikipedia.org/wiki/United_States_House_of_Representatives\n",
      "https://en.wikipedia.org/wiki/Lower_house\n",
      "https://en.wikipedia.org/wiki/Debate_chamber\n",
      "https://en.wikipedia.org/wiki/Debate\n",
      "https://en.wikipedia.org/wiki/Argument\n",
      "https://en.wikipedia.org/wiki/Logic\n",
      "https://en.wikipedia.org/wiki/Ancient_Greek_language\n",
      "https://en.wikipedia.org/wiki/Greek_language\n",
      "https://en.wikipedia.org/wiki/Modern_Greek\n",
      "https://en.wikipedia.org/wiki/Colloquialism\n",
      "https://en.wikipedia.org/wiki/Vernacular\n",
      "https://en.wikipedia.org/wiki/Language\n",
      "https://en.wikipedia.org/wiki/Communication\n",
      "https://en.wikipedia.org/wiki/Meaning_(semiotics)\n"
     ]
    },
    {
     "name": "stderr",
     "output_type": "stream",
     "text": [
      "\r",
      " 63%|██████▎   | 63/100 [11:08<06:32, 10.61s/it]"
     ]
    },
    {
     "name": "stdout",
     "output_type": "stream",
     "text": [
      "Categories: Philosophy of languageMeaning (philosophy of language)\n",
      "\n",
      "\n",
      "\n",
      "\n",
      "STARTS AT -----------> https://en.wikipedia.org/wiki/1912_College_Baseball_All-Southern_Team\n",
      "https://en.wikipedia.org/wiki/Baseball\n",
      "https://en.wikipedia.org/wiki/Bat-and-ball_games\n",
      "https://en.wikipedia.org/wiki/Golf\n",
      "https://en.wikipedia.org/wiki/Sport\n",
      "https://en.wikipedia.org/wiki/British_English\n",
      "https://en.wikipedia.org/wiki/English_language\n",
      "https://en.wikipedia.org/wiki/West_Germanic_language\n",
      "https://en.wikipedia.org/wiki/Germanic_languages\n",
      "https://en.wikipedia.org/wiki/Indo-European_languages\n",
      "https://en.wikipedia.org/wiki/Language_family\n",
      "https://en.wikipedia.org/wiki/Language\n",
      "https://en.wikipedia.org/wiki/Communication\n",
      "https://en.wikipedia.org/wiki/Meaning_(semiotics)\n"
     ]
    },
    {
     "name": "stderr",
     "output_type": "stream",
     "text": [
      "\r",
      " 64%|██████▍   | 64/100 [11:21<06:23, 10.65s/it]"
     ]
    },
    {
     "name": "stdout",
     "output_type": "stream",
     "text": [
      "Categories: Philosophy of languageMeaning (philosophy of language)\n",
      "\n",
      "\n",
      "\n",
      "\n",
      "STARTS AT -----------> https://en.wikipedia.org/wiki/John_Walker_Soccer_Complex\n",
      "https://en.wikipedia.org/wiki/Soccer-specific_stadium\n",
      "https://en.wikipedia.org/wiki/Association_football\n",
      "https://en.wikipedia.org/wiki/Team_sport\n",
      "https://en.wikipedia.org/wiki/Sport\n",
      "https://en.wikipedia.org/wiki/British_English\n",
      "https://en.wikipedia.org/wiki/English_language\n",
      "https://en.wikipedia.org/wiki/West_Germanic_language\n",
      "https://en.wikipedia.org/wiki/Germanic_languages\n",
      "https://en.wikipedia.org/wiki/Indo-European_languages\n",
      "https://en.wikipedia.org/wiki/Language_family\n",
      "https://en.wikipedia.org/wiki/Language\n",
      "https://en.wikipedia.org/wiki/Communication\n",
      "https://en.wikipedia.org/wiki/Meaning_(semiotics)\n"
     ]
    },
    {
     "name": "stderr",
     "output_type": "stream",
     "text": [
      "\r",
      " 65%|██████▌   | 65/100 [11:35<06:14, 10.70s/it]"
     ]
    },
    {
     "name": "stdout",
     "output_type": "stream",
     "text": [
      "Categories: Philosophy of languageMeaning (philosophy of language)\n",
      "\n",
      "\n",
      "\n",
      "\n",
      "STARTS AT -----------> https://en.wikipedia.org/wiki/Ben_Cotton\n",
      "https://en.wikipedia.org/wiki/Stargate_Atlantis\n",
      "https://en.wikipedia.org/wiki/Television_in_Canada\n",
      "https://en.wikipedia.org/wiki/Montreal\n",
      "https://en.wikipedia.org/wiki/File:Montreal-English-pronunciation.oga\n"
     ]
    },
    {
     "name": "stderr",
     "output_type": "stream",
     "text": [
      "\r",
      " 66%|██████▌   | 66/100 [11:39<06:00, 10.60s/it]"
     ]
    },
    {
     "name": "stdout",
     "output_type": "stream",
     "text": [
      "ERROR: pulled wrong link, test failed\n",
      "\n",
      "\n",
      "\n",
      "\n",
      "STARTS AT -----------> https://en.wikipedia.org/wiki/Grand_Prix_de_Litt%C3%A9rature_Am%C3%A9ricaine\n",
      "https://en.wikipedia.org/wiki/Literary_award\n",
      "https://en.wikipedia.org/wiki/Award\n",
      "https://en.wikipedia.org/wiki/Recognition_(sociology)\n",
      "https://en.wikipedia.org/wiki/Sociology\n",
      "https://en.wikipedia.org/wiki/Society\n",
      "https://en.wikipedia.org/wiki/Social_group\n",
      "https://en.wikipedia.org/wiki/Social_science\n",
      "https://en.wikipedia.org/wiki/Discipline_(academia)\n",
      "https://en.wikipedia.org/wiki/Branch_(academia)\n",
      "https://en.wikipedia.org/wiki/Knowledge\n",
      "https://en.wikipedia.org/wiki/Fact\n"
     ]
    },
    {
     "name": "stderr",
     "output_type": "stream",
     "text": [
      "\r",
      " 67%|██████▋   | 67/100 [11:49<05:49, 10.59s/it]"
     ]
    },
    {
     "name": "stdout",
     "output_type": "stream",
     "text": [
      "Categories: Concepts in epistemologyConcepts in logicPhilosophy of scienceRealityStatementsTruth\n",
      "\n",
      "\n",
      "\n",
      "\n",
      "STARTS AT -----------> https://en.wikipedia.org/wiki/Capaya_District\n",
      "https://en.wikipedia.org/wiki/Districts_of_Peru\n",
      "https://en.wikipedia.org/wiki/District\n",
      "https://en.wikipedia.org/wiki/Administrative_division\n",
      "https://en.wikipedia.org/wiki/Country\n",
      "https://en.wikipedia.org/wiki/Political_geography\n",
      "https://en.wikipedia.org/wiki/Politics\n",
      "https://en.wikipedia.org/wiki/Greek_language\n",
      "https://en.wikipedia.org/wiki/Modern_Greek\n",
      "https://en.wikipedia.org/wiki/Colloquialism\n",
      "https://en.wikipedia.org/wiki/Vernacular\n",
      "https://en.wikipedia.org/wiki/Language\n",
      "https://en.wikipedia.org/wiki/Communication\n",
      "https://en.wikipedia.org/wiki/Meaning_(semiotics)\n"
     ]
    },
    {
     "name": "stderr",
     "output_type": "stream",
     "text": [
      "\r",
      " 68%|██████▊   | 68/100 [12:02<05:39, 10.62s/it]"
     ]
    },
    {
     "name": "stdout",
     "output_type": "stream",
     "text": [
      "Categories: Philosophy of languageMeaning (philosophy of language)\n",
      "\n",
      "\n",
      "\n",
      "\n",
      "STARTS AT -----------> https://en.wikipedia.org/wiki/French_Flute_School\n",
      "https://en.wikipedia.org/wiki/Claude-Paul_Taffanel\n",
      "https://en.wikipedia.org/wiki/Flautist\n",
      "https://en.wikipedia.org/wiki/Musical_instrument\n",
      "https://en.wikipedia.org/wiki/Music\n",
      "https://en.wikipedia.org/wiki/Culture\n",
      "https://en.wikipedia.org/wiki/Social_behavior\n",
      "https://en.wikipedia.org/wiki/Behavior\n",
      "https://en.wikipedia.org/wiki/American_English\n",
      "https://en.wikipedia.org/wiki/United_States_of_America\n",
      "https://en.wikipedia.org/wiki/Geographic_coordinate_system\n",
      "https://en.wikipedia.org/wiki/Coordinate_system\n",
      "https://en.wikipedia.org/wiki/Geometry\n",
      "https://en.wikipedia.org/wiki/Ancient_Greek_language\n",
      "https://en.wikipedia.org/wiki/Greek_language\n",
      "https://en.wikipedia.org/wiki/Modern_Greek\n",
      "https://en.wikipedia.org/wiki/Colloquialism\n",
      "https://en.wikipedia.org/wiki/Vernacular\n",
      "https://en.wikipedia.org/wiki/Language\n",
      "https://en.wikipedia.org/wiki/Communication\n",
      "https://en.wikipedia.org/wiki/Meaning_(semiotics)\n"
     ]
    },
    {
     "name": "stderr",
     "output_type": "stream",
     "text": [
      "\r",
      " 69%|██████▉   | 69/100 [12:21<05:32, 10.74s/it]"
     ]
    },
    {
     "name": "stdout",
     "output_type": "stream",
     "text": [
      "Categories: Philosophy of languageMeaning (philosophy of language)\n",
      "\n",
      "\n",
      "\n",
      "\n",
      "STARTS AT -----------> https://en.wikipedia.org/wiki/Seraucourt-le-Grand\n",
      "https://en.wikipedia.org/wiki/Communes_of_France\n",
      "https://en.wikipedia.org/wiki/Administrative_divisions\n",
      "https://en.wikipedia.org/wiki/Country\n",
      "https://en.wikipedia.org/wiki/Political_geography\n",
      "https://en.wikipedia.org/wiki/Politics\n",
      "https://en.wikipedia.org/wiki/Greek_language\n",
      "https://en.wikipedia.org/wiki/Modern_Greek\n",
      "https://en.wikipedia.org/wiki/Colloquialism\n",
      "https://en.wikipedia.org/wiki/Vernacular\n",
      "https://en.wikipedia.org/wiki/Language\n",
      "https://en.wikipedia.org/wiki/Communication\n",
      "https://en.wikipedia.org/wiki/Meaning_(semiotics)\n"
     ]
    },
    {
     "name": "stderr",
     "output_type": "stream",
     "text": [
      "\r",
      " 70%|███████   | 70/100 [12:31<05:22, 10.74s/it]"
     ]
    },
    {
     "name": "stdout",
     "output_type": "stream",
     "text": [
      "Categories: Philosophy of languageMeaning (philosophy of language)\n",
      "\n",
      "\n",
      "\n",
      "\n",
      "STARTS AT -----------> https://en.wikipedia.org/wiki/Quebec-Israel_Committee\n",
      "https://en.wikipedia.org/wiki/Canada\n",
      "https://en.wikipedia.org/wiki/Geographic_coordinate_system\n",
      "https://en.wikipedia.org/wiki/Coordinate_system\n",
      "https://en.wikipedia.org/wiki/Geometry\n",
      "https://en.wikipedia.org/wiki/Ancient_Greek_language\n",
      "https://en.wikipedia.org/wiki/Greek_language\n",
      "https://en.wikipedia.org/wiki/Modern_Greek\n",
      "https://en.wikipedia.org/wiki/Colloquialism\n",
      "https://en.wikipedia.org/wiki/Vernacular\n",
      "https://en.wikipedia.org/wiki/Language\n",
      "https://en.wikipedia.org/wiki/Communication\n",
      "https://en.wikipedia.org/wiki/Meaning_(semiotics)\n"
     ]
    },
    {
     "name": "stderr",
     "output_type": "stream",
     "text": [
      "\r",
      " 71%|███████   | 71/100 [12:42<05:11, 10.73s/it]"
     ]
    },
    {
     "name": "stdout",
     "output_type": "stream",
     "text": [
      "Categories: Philosophy of languageMeaning (philosophy of language)\n",
      "\n",
      "\n",
      "\n",
      "\n",
      "STARTS AT -----------> https://en.wikipedia.org/wiki/Jurjevac_Punitova%C4%8Dki\n",
      "https://en.wikipedia.org/wiki/Village\n",
      "https://en.wikipedia.org/wiki/Human_settlement\n",
      "https://en.wikipedia.org/wiki/Geography\n",
      "https://en.wikipedia.org/wiki/Greek_language\n",
      "https://en.wikipedia.org/wiki/Modern_Greek\n",
      "https://en.wikipedia.org/wiki/Colloquialism\n",
      "https://en.wikipedia.org/wiki/Vernacular\n",
      "https://en.wikipedia.org/wiki/Language\n",
      "https://en.wikipedia.org/wiki/Communication\n",
      "https://en.wikipedia.org/wiki/Meaning_(semiotics)\n"
     ]
    },
    {
     "name": "stderr",
     "output_type": "stream",
     "text": [
      "\r",
      " 72%|███████▏  | 72/100 [12:51<04:59, 10.71s/it]"
     ]
    },
    {
     "name": "stdout",
     "output_type": "stream",
     "text": [
      "Categories: Philosophy of languageMeaning (philosophy of language)\n",
      "\n",
      "\n",
      "\n",
      "\n",
      "STARTS AT -----------> https://en.wikipedia.org/wiki/Adet\n",
      "https://en.wikipedia.org/wiki/Ethiopia\n",
      "https://en.wikipedia.org/wiki/Geographic_coordinate_system\n",
      "https://en.wikipedia.org/wiki/Coordinate_system\n",
      "https://en.wikipedia.org/wiki/Geometry\n",
      "https://en.wikipedia.org/wiki/Ancient_Greek_language\n",
      "https://en.wikipedia.org/wiki/Greek_language\n",
      "https://en.wikipedia.org/wiki/Modern_Greek\n",
      "https://en.wikipedia.org/wiki/Colloquialism\n",
      "https://en.wikipedia.org/wiki/Vernacular\n",
      "https://en.wikipedia.org/wiki/Language\n",
      "https://en.wikipedia.org/wiki/Communication\n",
      "https://en.wikipedia.org/wiki/Meaning_(semiotics)\n"
     ]
    },
    {
     "name": "stderr",
     "output_type": "stream",
     "text": [
      "\r",
      " 73%|███████▎  | 73/100 [13:02<04:49, 10.72s/it]"
     ]
    },
    {
     "name": "stdout",
     "output_type": "stream",
     "text": [
      "Categories: Philosophy of languageMeaning (philosophy of language)\n",
      "\n",
      "\n",
      "\n",
      "\n",
      "STARTS AT -----------> https://en.wikipedia.org/wiki/Brzezice,_Masovian_Voivodeship\n",
      "https://en.wikipedia.org/wiki/Human_settlement\n",
      "https://en.wikipedia.org/wiki/Geography\n",
      "https://en.wikipedia.org/wiki/Greek_language\n",
      "https://en.wikipedia.org/wiki/Modern_Greek\n",
      "https://en.wikipedia.org/wiki/Colloquialism\n",
      "https://en.wikipedia.org/wiki/Vernacular\n",
      "https://en.wikipedia.org/wiki/Language\n",
      "https://en.wikipedia.org/wiki/Communication\n",
      "https://en.wikipedia.org/wiki/Meaning_(semiotics)\n"
     ]
    },
    {
     "name": "stderr",
     "output_type": "stream",
     "text": [
      "\r",
      " 74%|███████▍  | 74/100 [13:11<04:38, 10.70s/it]"
     ]
    },
    {
     "name": "stdout",
     "output_type": "stream",
     "text": [
      "Categories: Philosophy of languageMeaning (philosophy of language)\n",
      "\n",
      "\n",
      "\n",
      "\n",
      "STARTS AT -----------> https://en.wikipedia.org/wiki/Dar_ul_Ihsan_railway_station\n",
      "https://en.wikipedia.org/wiki/Urdu_language\n"
     ]
    },
    {
     "name": "stderr",
     "output_type": "stream",
     "text": [
      "\r",
      " 75%|███████▌  | 75/100 [13:13<04:24, 10.58s/it]"
     ]
    },
    {
     "name": "stdout",
     "output_type": "stream",
     "text": [
      "https://en.wikipedia.org/wiki/Urdu_language\n",
      "\n",
      " -------------> CYCLED\n",
      "\n",
      "\n",
      "\n",
      "\n",
      "STARTS AT -----------> https://en.wikipedia.org/wiki/Wilhelm_Anderson\n",
      "https://en.wikipedia.org/wiki/Belarusian_language\n",
      "https://en.wikipedia.org/wiki/Belarus\n",
      "https://en.wikipedia.org/wiki/Geographic_coordinate_system\n",
      "https://en.wikipedia.org/wiki/Coordinate_system\n",
      "https://en.wikipedia.org/wiki/Geometry\n",
      "https://en.wikipedia.org/wiki/Ancient_Greek_language\n",
      "https://en.wikipedia.org/wiki/Greek_language\n",
      "https://en.wikipedia.org/wiki/Modern_Greek\n",
      "https://en.wikipedia.org/wiki/Colloquialism\n",
      "https://en.wikipedia.org/wiki/Vernacular\n",
      "https://en.wikipedia.org/wiki/Language\n",
      "https://en.wikipedia.org/wiki/Communication\n",
      "https://en.wikipedia.org/wiki/Meaning_(semiotics)\n"
     ]
    },
    {
     "name": "stderr",
     "output_type": "stream",
     "text": [
      "\r",
      " 76%|███████▌  | 76/100 [13:25<04:14, 10.60s/it]"
     ]
    },
    {
     "name": "stdout",
     "output_type": "stream",
     "text": [
      "Categories: Philosophy of languageMeaning (philosophy of language)\n",
      "\n",
      "\n",
      "\n",
      "\n",
      "STARTS AT -----------> https://en.wikipedia.org/wiki/Matt_C._Harris\n",
      "https://en.wikipedia.org/wiki/Village_Ventures\n",
      "https://en.wikipedia.org/wiki/Private_equity\n",
      "https://en.wikipedia.org/wiki/Investment_fund\n",
      "https://en.wikipedia.org/wiki/Investment\n",
      "https://en.wikipedia.org/wiki/Time\n",
      "https://en.wikipedia.org/wiki/Sequence\n",
      "https://en.wikipedia.org/wiki/Mathematics\n",
      "https://en.wikipedia.org/wiki/Ancient_Greek\n",
      "https://en.wikipedia.org/wiki/Greek_language\n",
      "https://en.wikipedia.org/wiki/Modern_Greek\n",
      "https://en.wikipedia.org/wiki/Colloquialism\n",
      "https://en.wikipedia.org/wiki/Vernacular\n",
      "https://en.wikipedia.org/wiki/Language\n",
      "https://en.wikipedia.org/wiki/Communication\n",
      "https://en.wikipedia.org/wiki/Meaning_(semiotics)\n"
     ]
    },
    {
     "name": "stderr",
     "output_type": "stream",
     "text": [
      "\r",
      " 77%|███████▋  | 77/100 [13:41<04:05, 10.66s/it]"
     ]
    },
    {
     "name": "stdout",
     "output_type": "stream",
     "text": [
      "Categories: Philosophy of languageMeaning (philosophy of language)\n",
      "\n",
      "\n",
      "\n",
      "\n",
      "STARTS AT -----------> https://en.wikipedia.org/wiki/Nimco_Ahmed\n",
      "https://en.wikipedia.org/wiki/Somali_language\n",
      "https://en.wikipedia.org/wiki/Afroasiatic_languages\n",
      "https://en.wikipedia.org/wiki/Language_family\n",
      "https://en.wikipedia.org/wiki/Language\n",
      "https://en.wikipedia.org/wiki/Communication\n",
      "https://en.wikipedia.org/wiki/Meaning_(semiotics)\n"
     ]
    },
    {
     "name": "stderr",
     "output_type": "stream",
     "text": [
      "\r",
      " 78%|███████▊  | 78/100 [13:48<03:53, 10.62s/it]"
     ]
    },
    {
     "name": "stdout",
     "output_type": "stream",
     "text": [
      "Categories: Philosophy of languageMeaning (philosophy of language)\n",
      "\n",
      "\n",
      "\n",
      "\n",
      "STARTS AT -----------> https://en.wikipedia.org/wiki/Arthur_Dorman\n",
      "https://en.wikipedia.org/wiki/Order_of_the_British_Empire\n",
      "https://en.wikipedia.org/wiki/Order_of_chivalry\n",
      "https://en.wikipedia.org/wiki/Order_(honour)\n",
      "https://en.wikipedia.org/wiki/Honour\n",
      "https://en.wikipedia.org/wiki/British_English\n",
      "https://en.wikipedia.org/wiki/English_language\n",
      "https://en.wikipedia.org/wiki/West_Germanic_language\n",
      "https://en.wikipedia.org/wiki/Germanic_languages\n",
      "https://en.wikipedia.org/wiki/Indo-European_languages\n",
      "https://en.wikipedia.org/wiki/Language_family\n",
      "https://en.wikipedia.org/wiki/Language\n",
      "https://en.wikipedia.org/wiki/Communication\n",
      "https://en.wikipedia.org/wiki/Meaning_(semiotics)\n"
     ]
    },
    {
     "name": "stderr",
     "output_type": "stream",
     "text": [
      "\r",
      " 79%|███████▉  | 79/100 [14:01<03:43, 10.66s/it]"
     ]
    },
    {
     "name": "stdout",
     "output_type": "stream",
     "text": [
      "Categories: Philosophy of languageMeaning (philosophy of language)\n",
      "\n",
      "\n",
      "\n",
      "\n",
      "STARTS AT -----------> https://en.wikipedia.org/wiki/Haikou_dialect\n",
      "https://en.wikipedia.org/wiki/Hainanese\n",
      "https://en.wikipedia.org/wiki/Hainan_Romanised\n",
      "https://en.wikipedia.org/wiki/Pe%CC%8Dh-o%C4%93-j%C4%AB\n",
      "https://en.wikipedia.org/wiki/Orthography\n",
      "https://en.wikipedia.org/wiki/Convention_(norm)\n",
      "https://en.wikipedia.org/wiki/Norm_(philosophy)\n"
     ]
    },
    {
     "name": "stderr",
     "output_type": "stream",
     "text": [
      "\r",
      " 80%|████████  | 80/100 [14:06<03:31, 10.59s/it]"
     ]
    },
    {
     "name": "stdout",
     "output_type": "stream",
     "text": [
      "Categories: Concepts in ethicsConsensus realityPhilosophy of languagePhilosophy of lawSocial concepts\n",
      "\n",
      "\n",
      "\n",
      "\n",
      "STARTS AT -----------> https://en.wikipedia.org/wiki/Old_Brook_(England)\n",
      "https://en.wikipedia.org/wiki/Shaw_and_Crompton\n",
      "https://en.wikipedia.org/wiki/Civil_parishes_in_England\n",
      "https://en.wikipedia.org/wiki/England\n",
      "https://en.wikipedia.org/wiki/Country\n",
      "https://en.wikipedia.org/wiki/Political_geography\n",
      "https://en.wikipedia.org/wiki/Politics\n",
      "https://en.wikipedia.org/wiki/Greek_language\n",
      "https://en.wikipedia.org/wiki/Modern_Greek\n",
      "https://en.wikipedia.org/wiki/Colloquialism\n",
      "https://en.wikipedia.org/wiki/Vernacular\n",
      "https://en.wikipedia.org/wiki/Language\n",
      "https://en.wikipedia.org/wiki/Communication\n",
      "https://en.wikipedia.org/wiki/Meaning_(semiotics)\n"
     ]
    },
    {
     "name": "stderr",
     "output_type": "stream",
     "text": [
      "\r",
      " 81%|████████  | 81/100 [14:18<03:21, 10.60s/it]"
     ]
    },
    {
     "name": "stdout",
     "output_type": "stream",
     "text": [
      "Categories: Philosophy of languageMeaning (philosophy of language)\n",
      "\n",
      "\n",
      "\n",
      "\n",
      "STARTS AT -----------> https://en.wikipedia.org/wiki/Hills_Ferry,_California\n",
      "https://en.wikipedia.org/wiki/Unincorporated_area\n",
      "https://en.wikipedia.org/wiki/Real_property\n",
      "https://en.wikipedia.org/wiki/England\n",
      "https://en.wikipedia.org/wiki/Country\n",
      "https://en.wikipedia.org/wiki/Political_geography\n",
      "https://en.wikipedia.org/wiki/Politics\n",
      "https://en.wikipedia.org/wiki/Greek_language\n",
      "https://en.wikipedia.org/wiki/Modern_Greek\n",
      "https://en.wikipedia.org/wiki/Colloquialism\n",
      "https://en.wikipedia.org/wiki/Vernacular\n",
      "https://en.wikipedia.org/wiki/Language\n",
      "https://en.wikipedia.org/wiki/Communication\n",
      "https://en.wikipedia.org/wiki/Meaning_(semiotics)\n"
     ]
    },
    {
     "name": "stderr",
     "output_type": "stream",
     "text": [
      "\r",
      " 82%|████████▏ | 82/100 [14:30<03:11, 10.62s/it]"
     ]
    },
    {
     "name": "stdout",
     "output_type": "stream",
     "text": [
      "Categories: Philosophy of languageMeaning (philosophy of language)\n",
      "\n",
      "\n",
      "\n",
      "\n",
      "STARTS AT -----------> https://en.wikipedia.org/wiki/Cycas_campestris\n",
      "https://en.wikipedia.org/wiki/Cycad\n",
      "https://en.wikipedia.org/wiki/Seed_plant\n",
      "https://en.wikipedia.org/wiki/Plant\n",
      "https://en.wikipedia.org/wiki/Multicellular_organism\n",
      "https://en.wikipedia.org/wiki/Organism\n",
      "https://en.wikipedia.org/wiki/Biology\n",
      "https://en.wikipedia.org/wiki/Natural_science\n",
      "https://en.wikipedia.org/wiki/Science\n",
      "https://en.wikipedia.org/wiki/Latin_language\n",
      "https://en.wikipedia.org/wiki/Classical_language\n",
      "https://en.wikipedia.org/wiki/Language\n",
      "https://en.wikipedia.org/wiki/Communication\n",
      "https://en.wikipedia.org/wiki/Meaning_(semiotics)\n"
     ]
    },
    {
     "name": "stderr",
     "output_type": "stream",
     "text": [
      "\r",
      " 83%|████████▎ | 83/100 [14:43<03:00, 10.65s/it]"
     ]
    },
    {
     "name": "stdout",
     "output_type": "stream",
     "text": [
      "Categories: Philosophy of languageMeaning (philosophy of language)\n",
      "\n",
      "\n",
      "\n",
      "\n",
      "STARTS AT -----------> https://en.wikipedia.org/wiki/Daniel_Alexander_Cameron\n",
      "https://en.wikipedia.org/wiki/Canada\n",
      "https://en.wikipedia.org/wiki/Geographic_coordinate_system\n",
      "https://en.wikipedia.org/wiki/Coordinate_system\n",
      "https://en.wikipedia.org/wiki/Geometry\n",
      "https://en.wikipedia.org/wiki/Ancient_Greek_language\n",
      "https://en.wikipedia.org/wiki/Greek_language\n",
      "https://en.wikipedia.org/wiki/Modern_Greek\n",
      "https://en.wikipedia.org/wiki/Colloquialism\n",
      "https://en.wikipedia.org/wiki/Vernacular\n",
      "https://en.wikipedia.org/wiki/Language\n",
      "https://en.wikipedia.org/wiki/Communication\n",
      "https://en.wikipedia.org/wiki/Meaning_(semiotics)\n"
     ]
    },
    {
     "name": "stderr",
     "output_type": "stream",
     "text": [
      "\r",
      " 84%|████████▍ | 84/100 [14:54<02:50, 10.65s/it]"
     ]
    },
    {
     "name": "stdout",
     "output_type": "stream",
     "text": [
      "Categories: Philosophy of languageMeaning (philosophy of language)\n",
      "\n",
      "\n",
      "\n",
      "\n",
      "STARTS AT -----------> https://en.wikipedia.org/wiki/Swiss_Suite\n",
      "https://en.wikipedia.org/wiki/Oliver_Nelson\n",
      "https://en.wikipedia.org/wiki/Jazz\n",
      "https://en.wikipedia.org/wiki/Music_genre\n",
      "https://en.wikipedia.org/wiki/Music\n",
      "https://en.wikipedia.org/wiki/Culture\n",
      "https://en.wikipedia.org/wiki/Social_behavior\n",
      "https://en.wikipedia.org/wiki/Behavior\n",
      "https://en.wikipedia.org/wiki/American_English\n",
      "https://en.wikipedia.org/wiki/United_States_of_America\n",
      "https://en.wikipedia.org/wiki/Geographic_coordinate_system\n",
      "https://en.wikipedia.org/wiki/Coordinate_system\n",
      "https://en.wikipedia.org/wiki/Geometry\n",
      "https://en.wikipedia.org/wiki/Ancient_Greek_language\n",
      "https://en.wikipedia.org/wiki/Greek_language\n",
      "https://en.wikipedia.org/wiki/Modern_Greek\n",
      "https://en.wikipedia.org/wiki/Colloquialism\n",
      "https://en.wikipedia.org/wiki/Vernacular\n",
      "https://en.wikipedia.org/wiki/Language\n",
      "https://en.wikipedia.org/wiki/Communication\n",
      "https://en.wikipedia.org/wiki/Meaning_(semiotics)\n"
     ]
    },
    {
     "name": "stderr",
     "output_type": "stream",
     "text": [
      "\r",
      " 85%|████████▌ | 85/100 [15:13<02:41, 10.75s/it]"
     ]
    },
    {
     "name": "stdout",
     "output_type": "stream",
     "text": [
      "Categories: Philosophy of languageMeaning (philosophy of language)\n",
      "\n",
      "\n",
      "\n",
      "\n",
      "STARTS AT -----------> https://en.wikipedia.org/wiki/Vazesht\n",
      "https://en.wikipedia.org/wiki/Persian_language\n",
      "https://en.wikipedia.org/wiki/Endonym\n",
      "https://en.wikipedia.org/wiki/Geographical_place\n",
      "https://en.wikipedia.org/wiki/Geography\n",
      "https://en.wikipedia.org/wiki/Greek_language\n",
      "https://en.wikipedia.org/wiki/Modern_Greek\n",
      "https://en.wikipedia.org/wiki/Colloquialism\n",
      "https://en.wikipedia.org/wiki/Vernacular\n",
      "https://en.wikipedia.org/wiki/Language\n",
      "https://en.wikipedia.org/wiki/Communication\n",
      "https://en.wikipedia.org/wiki/Meaning_(semiotics)\n"
     ]
    },
    {
     "name": "stderr",
     "output_type": "stream",
     "text": [
      "\r",
      " 86%|████████▌ | 86/100 [15:23<02:30, 10.74s/it]"
     ]
    },
    {
     "name": "stdout",
     "output_type": "stream",
     "text": [
      "Categories: Philosophy of languageMeaning (philosophy of language)\n",
      "\n",
      "\n",
      "\n",
      "\n",
      "STARTS AT -----------> https://en.wikipedia.org/wiki/Udamaluwa\n",
      "https://en.wikipedia.org/wiki/Sri_Lanka\n",
      "https://en.wikipedia.org/wiki/Geographic_coordinate_system\n",
      "https://en.wikipedia.org/wiki/Coordinate_system\n",
      "https://en.wikipedia.org/wiki/Geometry\n",
      "https://en.wikipedia.org/wiki/Ancient_Greek_language\n",
      "https://en.wikipedia.org/wiki/Greek_language\n",
      "https://en.wikipedia.org/wiki/Modern_Greek\n",
      "https://en.wikipedia.org/wiki/Colloquialism\n",
      "https://en.wikipedia.org/wiki/Vernacular\n",
      "https://en.wikipedia.org/wiki/Language\n",
      "https://en.wikipedia.org/wiki/Communication\n",
      "https://en.wikipedia.org/wiki/Meaning_(semiotics)\n"
     ]
    },
    {
     "name": "stderr",
     "output_type": "stream",
     "text": [
      "\r",
      " 87%|████████▋ | 87/100 [15:34<02:19, 10.74s/it]"
     ]
    },
    {
     "name": "stdout",
     "output_type": "stream",
     "text": [
      "Categories: Philosophy of languageMeaning (philosophy of language)\n",
      "\n",
      "\n",
      "\n",
      "\n",
      "STARTS AT -----------> https://en.wikipedia.org/wiki/Michael_Folk\n",
      "https://en.wikipedia.org/wiki/Martinsburg,_West_Virginia\n",
      "https://en.wikipedia.org/wiki/County_seat\n",
      "https://en.wikipedia.org/wiki/Administrative_center\n",
      "https://en.wikipedia.org/wiki/Local_government\n",
      "https://en.wikipedia.org/wiki/Public_administration\n",
      "https://en.wikipedia.org/wiki/Public_policy\n",
      "https://en.wikipedia.org/wiki/Executive_(government)\n",
      "https://en.wikipedia.org/wiki/Authority\n"
     ]
    },
    {
     "name": "stderr",
     "output_type": "stream",
     "text": [
      "\r",
      " 88%|████████▊ | 88/100 [15:40<02:08, 10.69s/it]"
     ]
    },
    {
     "name": "stdout",
     "output_type": "stream",
     "text": [
      "Categories: Political philosophyPhilosophy of lawSocial conceptsGroup processesSocial ethicsAuthority\n",
      "\n",
      "\n",
      "\n",
      "\n",
      "STARTS AT -----------> https://en.wikipedia.org/wiki/Carr_Peak\n",
      "https://en.wikipedia.org/wiki/Chiricahua_Peak\n",
      "https://en.wikipedia.org/wiki/Chiricahua_Mountains\n",
      "https://en.wikipedia.org/wiki/Massif\n",
      "https://en.wikipedia.org/wiki/Geology\n",
      "https://en.wikipedia.org/wiki/Ancient_Greek\n",
      "https://en.wikipedia.org/wiki/Greek_language\n",
      "https://en.wikipedia.org/wiki/Modern_Greek\n",
      "https://en.wikipedia.org/wiki/Colloquialism\n",
      "https://en.wikipedia.org/wiki/Vernacular\n",
      "https://en.wikipedia.org/wiki/Language\n",
      "https://en.wikipedia.org/wiki/Communication\n",
      "https://en.wikipedia.org/wiki/Meaning_(semiotics)\n"
     ]
    },
    {
     "name": "stderr",
     "output_type": "stream",
     "text": [
      "\r",
      " 89%|████████▉ | 89/100 [15:53<01:57, 10.71s/it]"
     ]
    },
    {
     "name": "stdout",
     "output_type": "stream",
     "text": [
      "Categories: Philosophy of languageMeaning (philosophy of language)\n",
      "\n",
      "\n",
      "\n",
      "\n",
      "STARTS AT -----------> https://en.wikipedia.org/wiki/Categories_for_the_Working_Mathematician\n",
      "https://en.wikipedia.org/wiki/Category_theory\n",
      "https://en.wikipedia.org/wiki/Mathematical_structure\n",
      "https://en.wikipedia.org/wiki/Mathematics\n",
      "https://en.wikipedia.org/wiki/Ancient_Greek\n",
      "https://en.wikipedia.org/wiki/Greek_language\n",
      "https://en.wikipedia.org/wiki/Modern_Greek\n",
      "https://en.wikipedia.org/wiki/Colloquialism\n",
      "https://en.wikipedia.org/wiki/Vernacular\n",
      "https://en.wikipedia.org/wiki/Language\n",
      "https://en.wikipedia.org/wiki/Communication\n",
      "https://en.wikipedia.org/wiki/Meaning_(semiotics)\n"
     ]
    },
    {
     "name": "stderr",
     "output_type": "stream",
     "text": [
      "\r",
      " 90%|█████████ | 90/100 [16:02<01:46, 10.70s/it]"
     ]
    },
    {
     "name": "stdout",
     "output_type": "stream",
     "text": [
      "Categories: Philosophy of languageMeaning (philosophy of language)\n",
      "\n",
      "\n",
      "\n",
      "\n",
      "STARTS AT -----------> https://en.wikipedia.org/wiki/Simon_Spencer\n",
      "https://en.wikipedia.org/wiki/Association_football\n",
      "https://en.wikipedia.org/wiki/Team_sport\n",
      "https://en.wikipedia.org/wiki/Sport\n",
      "https://en.wikipedia.org/wiki/British_English\n",
      "https://en.wikipedia.org/wiki/English_language\n",
      "https://en.wikipedia.org/wiki/West_Germanic_language\n",
      "https://en.wikipedia.org/wiki/Germanic_languages\n",
      "https://en.wikipedia.org/wiki/Indo-European_languages\n",
      "https://en.wikipedia.org/wiki/Language_family\n",
      "https://en.wikipedia.org/wiki/Language\n",
      "https://en.wikipedia.org/wiki/Communication\n",
      "https://en.wikipedia.org/wiki/Meaning_(semiotics)\n"
     ]
    },
    {
     "name": "stderr",
     "output_type": "stream",
     "text": [
      "\r",
      " 91%|█████████ | 91/100 [16:14<01:36, 10.71s/it]"
     ]
    },
    {
     "name": "stdout",
     "output_type": "stream",
     "text": [
      "Categories: Philosophy of languageMeaning (philosophy of language)\n",
      "\n",
      "\n",
      "\n",
      "\n",
      "STARTS AT -----------> https://en.wikipedia.org/wiki/Ted_Paige\n",
      "https://en.wikipedia.org/wiki/Fellow_of_the_Royal_Society\n",
      "https://en.wikipedia.org/wiki/Royal_Society\n",
      "https://en.wikipedia.org/wiki/Learned_society\n",
      "https://en.wikipedia.org/wiki/Organisation\n",
      "https://en.wikipedia.org/wiki/Entity\n",
      "https://en.wikipedia.org/wiki/Existence\n"
     ]
    },
    {
     "name": "stderr",
     "output_type": "stream",
     "text": [
      "\r",
      " 92%|█████████▏| 92/100 [16:19<01:25, 10.64s/it]"
     ]
    },
    {
     "name": "stdout",
     "output_type": "stream",
     "text": [
      "Categories: OntologyConcepts in metaphysicsPhilosophy of lifeRealityAssumption\n",
      "\n",
      "\n",
      "\n",
      "\n",
      "STARTS AT -----------> https://en.wikipedia.org/wiki/2012_in_China\n",
      "https://en.wikipedia.org/wiki/China\n",
      "https://en.wikipedia.org/wiki/Unitary_state\n",
      "https://en.wikipedia.org/wiki/State_(polity)\n",
      "https://en.wikipedia.org/wiki/Political\n",
      "https://en.wikipedia.org/wiki/Greek_language\n",
      "https://en.wikipedia.org/wiki/Modern_Greek\n",
      "https://en.wikipedia.org/wiki/Colloquialism\n",
      "https://en.wikipedia.org/wiki/Vernacular\n",
      "https://en.wikipedia.org/wiki/Language\n",
      "https://en.wikipedia.org/wiki/Communication\n",
      "https://en.wikipedia.org/wiki/Meaning_(semiotics)\n"
     ]
    },
    {
     "name": "stderr",
     "output_type": "stream",
     "text": [
      "\r",
      " 93%|█████████▎| 93/100 [16:29<01:14, 10.64s/it]"
     ]
    },
    {
     "name": "stdout",
     "output_type": "stream",
     "text": [
      "Categories: Philosophy of languageMeaning (philosophy of language)\n",
      "\n",
      "\n",
      "\n",
      "\n",
      "STARTS AT -----------> https://en.wikipedia.org/wiki/Crewe_Gresty_Lane_TMD\n",
      "https://en.wikipedia.org/wiki/Traction_maintenance_depot\n",
      "https://en.wikipedia.org/wiki/United_Kingdom\n",
      "https://en.wikipedia.org/wiki/Country\n",
      "https://en.wikipedia.org/wiki/Political_geography\n",
      "https://en.wikipedia.org/wiki/Politics\n",
      "https://en.wikipedia.org/wiki/Greek_language\n",
      "https://en.wikipedia.org/wiki/Modern_Greek\n",
      "https://en.wikipedia.org/wiki/Colloquialism\n",
      "https://en.wikipedia.org/wiki/Vernacular\n",
      "https://en.wikipedia.org/wiki/Language\n",
      "https://en.wikipedia.org/wiki/Communication\n",
      "https://en.wikipedia.org/wiki/Meaning_(semiotics)\n"
     ]
    },
    {
     "name": "stderr",
     "output_type": "stream",
     "text": [
      "\r",
      " 94%|█████████▍| 94/100 [16:40<01:03, 10.64s/it]"
     ]
    },
    {
     "name": "stdout",
     "output_type": "stream",
     "text": [
      "Categories: Philosophy of languageMeaning (philosophy of language)\n",
      "\n",
      "\n",
      "\n",
      "\n",
      "STARTS AT -----------> https://en.wikipedia.org/wiki/Blossom_Dearie_Sings_Comden_and_Green\n",
      "https://en.wikipedia.org/wiki/1959_in_music\n",
      "https://en.wikipedia.org/wiki/Hot_100_number-one_hits_of_1959_(United_States)\n",
      "https://en.wikipedia.org/wiki/Billboard_magazine\n",
      "https://en.wikipedia.org/wiki/Eldridge_Industries\n",
      "https://en.wikipedia.org/wiki/Private_equity\n",
      "https://en.wikipedia.org/wiki/Investment_fund\n",
      "https://en.wikipedia.org/wiki/Investment\n",
      "https://en.wikipedia.org/wiki/Time\n",
      "https://en.wikipedia.org/wiki/Sequence\n",
      "https://en.wikipedia.org/wiki/Mathematics\n",
      "https://en.wikipedia.org/wiki/Ancient_Greek\n",
      "https://en.wikipedia.org/wiki/Greek_language\n",
      "https://en.wikipedia.org/wiki/Modern_Greek\n",
      "https://en.wikipedia.org/wiki/Colloquialism\n",
      "https://en.wikipedia.org/wiki/Vernacular\n",
      "https://en.wikipedia.org/wiki/Language\n",
      "https://en.wikipedia.org/wiki/Communication\n",
      "https://en.wikipedia.org/wiki/Meaning_(semiotics)\n"
     ]
    },
    {
     "name": "stderr",
     "output_type": "stream",
     "text": [
      "\r",
      " 95%|█████████▌| 95/100 [16:56<00:53, 10.70s/it]"
     ]
    },
    {
     "name": "stdout",
     "output_type": "stream",
     "text": [
      "Categories: Philosophy of languageMeaning (philosophy of language)\n",
      "\n",
      "\n",
      "\n",
      "\n",
      "STARTS AT -----------> https://en.wikipedia.org/wiki/The_Sword_of_the_Lady\n",
      "https://en.wikipedia.org/wiki/Alternate_history\n",
      "https://en.wikipedia.org/wiki/Genre\n",
      "https://en.wikipedia.org/wiki/French_language\n",
      "https://en.wikipedia.org/wiki/Romance_languages\n",
      "https://en.wikipedia.org/wiki/Vulgar_Latin\n",
      "https://en.wikipedia.org/wiki/Sociolect\n",
      "https://en.wikipedia.org/wiki/Sociolinguistics\n",
      "https://en.wikipedia.org/wiki/Society\n",
      "https://en.wikipedia.org/wiki/Social_group\n",
      "https://en.wikipedia.org/wiki/Social_science\n",
      "https://en.wikipedia.org/wiki/Discipline_(academia)\n",
      "https://en.wikipedia.org/wiki/Branch_(academia)\n",
      "https://en.wikipedia.org/wiki/Knowledge\n",
      "https://en.wikipedia.org/wiki/Fact\n"
     ]
    },
    {
     "name": "stderr",
     "output_type": "stream",
     "text": [
      "\r",
      " 96%|█████████▌| 96/100 [17:10<00:42, 10.73s/it]"
     ]
    },
    {
     "name": "stdout",
     "output_type": "stream",
     "text": [
      "Categories: Concepts in epistemologyConcepts in logicPhilosophy of scienceRealityStatementsTruth\n",
      "\n",
      "\n",
      "\n",
      "\n",
      "STARTS AT -----------> https://en.wikipedia.org/wiki/Tadashi_Irie\n",
      "https://en.wikipedia.org/wiki/Uwajima,_Ehime\n",
      "https://en.wikipedia.org/wiki/Cities_of_Japan\n",
      "https://en.wikipedia.org/wiki/Public_administration\n",
      "https://en.wikipedia.org/wiki/Public_policy\n",
      "https://en.wikipedia.org/wiki/Executive_(government)\n",
      "https://en.wikipedia.org/wiki/Authority\n"
     ]
    },
    {
     "name": "stderr",
     "output_type": "stream",
     "text": [
      "\r",
      " 97%|█████████▋| 97/100 [17:15<00:32, 10.68s/it]"
     ]
    },
    {
     "name": "stdout",
     "output_type": "stream",
     "text": [
      "Categories: Political philosophyPhilosophy of lawSocial conceptsGroup processesSocial ethicsAuthority\n",
      "\n",
      "\n",
      "\n",
      "\n",
      "STARTS AT -----------> https://en.wikipedia.org/wiki/Toledo_Area_Regional_Transit_Authority\n",
      "https://en.wikipedia.org/wiki/Toledo,_Ohio\n",
      "https://en.wikipedia.org/wiki/County_seat\n",
      "https://en.wikipedia.org/wiki/Administrative_center\n",
      "https://en.wikipedia.org/wiki/Local_government\n",
      "https://en.wikipedia.org/wiki/Public_administration\n",
      "https://en.wikipedia.org/wiki/Public_policy\n",
      "https://en.wikipedia.org/wiki/Executive_(government)\n",
      "https://en.wikipedia.org/wiki/Authority\n"
     ]
    },
    {
     "name": "stderr",
     "output_type": "stream",
     "text": [
      "\r",
      " 98%|█████████▊| 98/100 [17:23<00:21, 10.65s/it]"
     ]
    },
    {
     "name": "stdout",
     "output_type": "stream",
     "text": [
      "Categories: Political philosophyPhilosophy of lawSocial conceptsGroup processesSocial ethicsAuthority\n",
      "\n",
      "\n",
      "\n",
      "\n",
      "STARTS AT -----------> https://en.wikipedia.org/wiki/Lisa_Papademetriou\n",
      "https://en.wikipedia.org/wiki/United_States\n",
      "https://en.wikipedia.org/wiki/Geographic_coordinate_system\n",
      "https://en.wikipedia.org/wiki/Coordinate_system\n",
      "https://en.wikipedia.org/wiki/Geometry\n",
      "https://en.wikipedia.org/wiki/Ancient_Greek_language\n",
      "https://en.wikipedia.org/wiki/Greek_language\n",
      "https://en.wikipedia.org/wiki/Modern_Greek\n",
      "https://en.wikipedia.org/wiki/Colloquialism\n",
      "https://en.wikipedia.org/wiki/Vernacular\n",
      "https://en.wikipedia.org/wiki/Language\n",
      "https://en.wikipedia.org/wiki/Communication\n",
      "https://en.wikipedia.org/wiki/Meaning_(semiotics)\n"
     ]
    },
    {
     "name": "stderr",
     "output_type": "stream",
     "text": [
      "\r",
      " 99%|█████████▉| 99/100 [17:35<00:10, 10.66s/it]"
     ]
    },
    {
     "name": "stdout",
     "output_type": "stream",
     "text": [
      "Categories: Philosophy of languageMeaning (philosophy of language)\n",
      "\n",
      "\n",
      "\n",
      "\n",
      "STARTS AT -----------> https://en.wikipedia.org/wiki/White_River,_Indiana\n",
      "https://en.wikipedia.org/wiki/Unincorporated_community\n",
      "https://en.wikipedia.org/wiki/Real_property\n",
      "https://en.wikipedia.org/wiki/England\n",
      "https://en.wikipedia.org/wiki/Country\n",
      "https://en.wikipedia.org/wiki/Political_geography\n",
      "https://en.wikipedia.org/wiki/Politics\n",
      "https://en.wikipedia.org/wiki/Greek_language\n",
      "https://en.wikipedia.org/wiki/Modern_Greek\n",
      "https://en.wikipedia.org/wiki/Colloquialism\n",
      "https://en.wikipedia.org/wiki/Vernacular\n",
      "https://en.wikipedia.org/wiki/Language\n",
      "https://en.wikipedia.org/wiki/Communication\n",
      "https://en.wikipedia.org/wiki/Meaning_(semiotics)\n"
     ]
    },
    {
     "name": "stderr",
     "output_type": "stream",
     "text": [
      "\r",
      "100%|██████████| 100/100 [17:47<00:00, 10.68s/it]"
     ]
    },
    {
     "name": "stdout",
     "output_type": "stream",
     "text": [
      "Categories: Philosophy of languageMeaning (philosophy of language)\n",
      "\n",
      "\n",
      "\n",
      "\n"
     ]
    },
    {
     "name": "stderr",
     "output_type": "stream",
     "text": [
      "\n"
     ]
    }
   ],
   "source": [
    "steps = []\n",
    "ledToPhi = []\n",
    "for i in tqdm(range(100)):\n",
    "    url = \"https://en.wikipedia.org/wiki/Special:Random\"\n",
    "    result, num_steps = tryDiveToPhilosophy(url)\n",
    "    ledToPhi.append(result)\n",
    "    if result:\n",
    "        steps.append(num_steps)\n",
    "    print(\"\\n\\n\\n\")"
   ]
  },
  {
   "cell_type": "code",
   "execution_count": 3,
   "metadata": {
    "collapsed": false
   },
   "outputs": [
    {
     "data": {
      "image/png": "[encoded data removed]",
      "text/plain": [
       "<matplotlib.figure.Figure at 0x7f5a386ca748>"
      ]
     },
     "metadata": {},
     "output_type": "display_data"
    }
   ],
   "source": [
    "import matplotlib.pyplot as plt\n",
    "import numpy as np\n",
    "\n",
    "plt.hist(steps)\n",
    "plt.show()\n"
   ]
  },
  {
   "cell_type": "code",
   "execution_count": 4,
   "metadata": {
    "collapsed": false
   },
   "outputs": [
    {
     "name": "stdout",
     "output_type": "stream",
     "text": [
      "Пришло к философии в % 0.94\n"
     ]
    }
   ],
   "source": [
    "print(\"Пришло к философии в %\", ledToPhi.count(True) / len(ledToPhi))"
   ]
  }
 ],
 "metadata": {
  "kernelspec": {
   "display_name": "Python 3",
   "language": "python",
   "name": "python3"
  },
  "language_info": {
   "codemirror_mode": {
    "name": "ipython",
    "version": 3
   },
   "file_extension": ".py",
   "mimetype": "text/x-python",
   "name": "python",
   "nbconvert_exporter": "python",
   "pygments_lexer": "ipython3",
   "version": "3.4.2"
  }
 },
 "nbformat": 4,
 "nbformat_minor": 2
}
