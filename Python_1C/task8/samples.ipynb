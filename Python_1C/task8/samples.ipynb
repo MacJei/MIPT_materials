{
 "cells": [
  {
   "cell_type": "markdown",
   "metadata": {
    "deletable": true,
    "editable": true
   },
   "source": [
    "## \"Обычные запросы\" в google"
   ]
  },
  {
   "cell_type": "code",
   "execution_count": 1,
   "metadata": {
    "collapsed": false,
    "deletable": true,
    "editable": true
   },
   "outputs": [
    {
     "data": {
      "text/html": [
       "<i>0.</i>  <a href=\"http://www.google.com/url?q=https://ru.wikipedia.org/wiki/Hello,_world!&amp;sa=U&amp;ved=0ahUKEwjDvIPLx_jaAhVvhaYKHe3aAggQFggUMAA&amp;usg=AOvVaw0aNhjVTeifwXkDSfobMMy1\" target=\"_blank\"><b>Hello</b>, <b>world</b>! — Википедия</a>"
      ],
      "text/plain": [
       "<IPython.core.display.HTML object>"
      ]
     },
     "metadata": {},
     "output_type": "display_data"
    },
    {
     "data": {
      "text/html": [
       "<i>1.</i>  <a href=\"http://www.google.com/url?q=https://en.wikipedia.org/wiki/%2522Hello,_World!%2522_program&amp;sa=U&amp;ved=0ahUKEwjDvIPLx_jaAhVvhaYKHe3aAggQFggeMAE&amp;usg=AOvVaw3nbGTPyDf5uxTKr4LRKF_r\" target=\"_blank\">\"<b>Hello</b>, <b>World</b>!\" program - Wikipedia</a>"
      ],
      "text/plain": [
       "<IPython.core.display.HTML object>"
      ]
     },
     "metadata": {},
     "output_type": "display_data"
    },
    {
     "data": {
      "text/html": [
       "<i>2.</i>  <a href=\"http://www.google.com/url?q=http://helloworld.ru/&amp;sa=U&amp;ved=0ahUKEwjDvIPLx_jaAhVvhaYKHe3aAggQFggkMAI&amp;usg=AOvVaw1UWpuOhjnDuWZy6wT0XXCO\" target=\"_blank\"><b>HELLOWORLD</b>.RU</a>"
      ],
      "text/plain": [
       "<IPython.core.display.HTML object>"
      ]
     },
     "metadata": {},
     "output_type": "display_data"
    },
    {
     "data": {
      "text/html": [
       "<i>3.</i>  <a href=\"http://www.google.com/url?q=https://www.helloworld.com.au/&amp;sa=U&amp;ved=0ahUKEwjDvIPLx_jaAhVvhaYKHe3aAggQFggpMAM&amp;usg=AOvVaw3yGw0e8h5ADFYxqvrsIbRL\" target=\"_blank\"><b>Helloworld</b> Travel – Deals on Accommodation, Flights, Cruises and ...</a>"
      ],
      "text/plain": [
       "<IPython.core.display.HTML object>"
      ]
     },
     "metadata": {},
     "output_type": "display_data"
    },
    {
     "data": {
      "text/html": [
       "<i>4.</i>  <a href=\"http://www.google.com/url?q=https://vk.com/helloworldru&amp;sa=U&amp;ved=0ahUKEwjDvIPLx_jaAhVvhaYKHe3aAggQFggvMAQ&amp;usg=AOvVaw12VqlDJlth9C6hkn9Gz3Ks\" target=\"_blank\"><b>HelloWorld</b>: Бюджетные путешествия | ВКонтакте</a>"
      ],
      "text/plain": [
       "<IPython.core.display.HTML object>"
      ]
     },
     "metadata": {},
     "output_type": "display_data"
    },
    {
     "data": {
      "text/html": [
       "<i>5.</i>  <a href=\"http://www.google.com/url?q=http://lurkmore.to/%25D0%259A%25D0%25BE%25D0%25BF%25D0%25B8%25D0%25BF%25D0%25B0%25D1%2581%25D1%2582%25D0%25B0:Hello,_world!&amp;sa=U&amp;ved=0ahUKEwjDvIPLx_jaAhVvhaYKHe3aAggQFgg1MAU&amp;usg=AOvVaw0iFMuewnSFRk22Ie6ZuHVS\" target=\"_blank\">Копипаста:<b>Hello</b>, <b>world</b>! — Lurkmore</a>"
      ],
      "text/plain": [
       "<IPython.core.display.HTML object>"
      ]
     },
     "metadata": {},
     "output_type": "display_data"
    },
    {
     "data": {
      "text/html": [
       "<i>6.</i>  <a href=\"http://www.google.com/search?q=Hello,+World!&amp;newwindow=1&amp;ie=UTF-8&amp;prmd=ivns&amp;tbm=isch&amp;tbo=u&amp;source=univ&amp;sa=X&amp;ved=0ahUKEwjDvIPLx_jaAhVvhaYKHe3aAggQsAQIQQ\">Картинки по запросу <b>Hello, World!</b></a>"
      ],
      "text/plain": [
       "<IPython.core.display.HTML object>"
      ]
     },
     "metadata": {},
     "output_type": "display_data"
    },
    {
     "data": {
      "text/html": [
       "<i>7.</i>  <a href=\"http://www.google.com/url?q=http://www.helloworld.com/&amp;sa=U&amp;ved=0ahUKEwjDvIPLx_jaAhVvhaYKHe3aAggQFghNMAs&amp;usg=AOvVaw0U79GiIydmbdLxn6UjH57R\" target=\"_blank\"><b>HelloWorld</b>, A Merkle Company</a>"
      ],
      "text/plain": [
       "<IPython.core.display.HTML object>"
      ]
     },
     "metadata": {},
     "output_type": "display_data"
    },
    {
     "data": {
      "text/html": [
       "<i>8.</i>  <a href=\"http://www.google.com/url?q=https://www.youtube.com/watch%3Fv%3DYw6u6YkTgQ4&amp;sa=U&amp;ved=0ahUKEwjDvIPLx_jaAhVvhaYKHe3aAggQtwIIVDAM&amp;usg=AOvVaw3joV6AhhWkqN8gxQ9vkI0J\" target=\"_blank\"><b>hello world</b> - YouTube</a>"
      ],
      "text/plain": [
       "<IPython.core.display.HTML object>"
      ]
     },
     "metadata": {},
     "output_type": "display_data"
    },
    {
     "data": {
      "text/html": [
       "<i>9.</i>  <a href=\"http://www.google.com/url?q=https://hub.docker.com/_/hello-world/&amp;sa=U&amp;ved=0ahUKEwjDvIPLx_jaAhVvhaYKHe3aAggQFghXMA0&amp;usg=AOvVaw1iucf_dj9BYCEWfLn60phh\" target=\"_blank\">library/<b>hello</b>-<b>world</b> - Docker Hub</a>"
      ],
      "text/plain": [
       "<IPython.core.display.HTML object>"
      ]
     },
     "metadata": {},
     "output_type": "display_data"
    }
   ],
   "source": [
    "from requests import get, post\n",
    "import urllib\n",
    "import urllib.parse\n",
    "from bs4 import BeautifulSoup\n",
    "from IPython.core.display import display, HTML\n",
    "\n",
    "\n",
    "def google(query):\n",
    "    template = 'https://www.google.ru/search?{}'\n",
    "    url = template.format(urllib.parse.urlencode({'q' : query}))\n",
    "    req = get(url)\n",
    "    \n",
    "    assert req.status_code == 200, 'request failed'\n",
    "    soup = BeautifulSoup(req.text, \"lxml\")\n",
    "    \n",
    "    for i, li in enumerate(soup.findAll('h3', attrs={'class' : 'r'})):\n",
    "        link = li.find('a')\n",
    "        if link:\n",
    "            link['href'] = 'http://www.google.com' +  link['href']\n",
    "            link = '<i>{}.</i>  {}'.format(i, link)\n",
    "            display(HTML(str(link)))\n",
    "\n",
    "            \n",
    "google('Hello, World!')"
   ]
  },
  {
   "cell_type": "code",
   "execution_count": 2,
   "metadata": {
    "collapsed": false,
    "deletable": true,
    "editable": true
   },
   "outputs": [],
   "source": [
    "query = 'Hello, World!'\n",
    "template = 'https://www.google.ru/search?{}'\n",
    "url = template.format(urllib.parse.urlencode({'q' : query}))\n",
    "req = get(url)\n",
    "\n",
    "assert req.status_code == 200, 'request failed'\n",
    "soup = BeautifulSoup(req.text, \"html.parser\")\n",
    "\n",
    "for i, li in enumerate(soup.findAll('h3', attrs={'class' : 'r'})):\n",
    "    link = li.find('a')\n",
    "    if link:\n",
    "        link['href'] = 'http://www.google.com' +  link['href']\n",
    "        # link = '<i>{}.</i>  {}'.format(i, link)\n"
   ]
  },
  {
   "cell_type": "code",
   "execution_count": 3,
   "metadata": {
    "collapsed": false,
    "deletable": true,
    "editable": true
   },
   "outputs": [
    {
     "data": {
      "text/plain": [
       "'library/hello-world - Docker Hub'"
      ]
     },
     "execution_count": 3,
     "metadata": {},
     "output_type": "execute_result"
    }
   ],
   "source": [
    "link.text"
   ]
  },
  {
   "cell_type": "markdown",
   "metadata": {
    "deletable": true,
    "editable": true
   },
   "source": [
    "## Метод get"
   ]
  },
  {
   "cell_type": "code",
   "execution_count": 4,
   "metadata": {
    "collapsed": false,
    "deletable": true,
    "editable": true
   },
   "outputs": [
    {
     "ename": "IndexError",
     "evalue": "list index out of range",
     "output_type": "error",
     "traceback": [
      "\u001b[0;31m---------------------------------------------------------------------------\u001b[0m",
      "\u001b[0;31mIndexError\u001b[0m                                Traceback (most recent call last)",
      "\u001b[0;32m<ipython-input-4-7b11b385b14e>\u001b[0m in \u001b[0;36m<module>\u001b[0;34m()\u001b[0m\n\u001b[1;32m      7\u001b[0m \u001b[0msoup\u001b[0m \u001b[0;34m=\u001b[0m \u001b[0mBeautifulSoup\u001b[0m\u001b[0;34m(\u001b[0m\u001b[0mreq\u001b[0m\u001b[0;34m.\u001b[0m\u001b[0mtext\u001b[0m\u001b[0;34m,\u001b[0m \u001b[0;34m\"html.parser\"\u001b[0m\u001b[0;34m)\u001b[0m\u001b[0;34m\u001b[0m\u001b[0m\n\u001b[1;32m      8\u001b[0m \u001b[0;34m\u001b[0m\u001b[0m\n\u001b[0;32m----> 9\u001b[0;31m \u001b[0mdisplay\u001b[0m\u001b[0;34m(\u001b[0m\u001b[0mHTML\u001b[0m\u001b[0;34m(\u001b[0m\u001b[0mstr\u001b[0m\u001b[0;34m(\u001b[0m\u001b[0msoup\u001b[0m\u001b[0;34m.\u001b[0m\u001b[0mfindAll\u001b[0m\u001b[0;34m(\u001b[0m\u001b[0;34m\"table\"\u001b[0m\u001b[0;34m,\u001b[0m \u001b[0mattrs\u001b[0m\u001b[0;34m=\u001b[0m\u001b[0;34m{\u001b[0m\u001b[0;34m\"class\"\u001b[0m\u001b[0;34m:\u001b[0m \u001b[0;34m\"images_table\"\u001b[0m\u001b[0;34m}\u001b[0m\u001b[0;34m)\u001b[0m\u001b[0;34m[\u001b[0m\u001b[0;36m0\u001b[0m\u001b[0;34m]\u001b[0m\u001b[0;34m)\u001b[0m\u001b[0;34m)\u001b[0m\u001b[0;34m)\u001b[0m\u001b[0;34m\u001b[0m\u001b[0m\n\u001b[0m",
      "\u001b[0;31mIndexError\u001b[0m: list index out of range"
     ]
    }
   ],
   "source": [
    "query = \"\"\n",
    "template = 'http://localhost:80/'\n",
    "url = template.format(urllib.parse.urlencode({'q' : query}))\n",
    "req = get(url)\n",
    "\n",
    "assert req.status_code == 200, 'request failed'\n",
    "soup = BeautifulSoup(req.text, \"html.parser\")\n",
    "\n",
    "display(HTML(str(soup.findAll(\"table\", attrs={\"class\": \"images_table\"})[0])))"
   ]
  },
  {
   "cell_type": "markdown",
   "metadata": {
    "deletable": true,
    "editable": true
   },
   "source": [
    "## Метод post"
   ]
  },
  {
   "cell_type": "code",
   "execution_count": 5,
   "metadata": {
    "collapsed": false,
    "deletable": true,
    "editable": true
   },
   "outputs": [
    {
     "data": {
      "text/html": [
       "<!DOCTYPE HTML PUBLIC \"-//IETF//DTD HTML 2.0//EN\">\n",
       "<html><head>\n",
       "<title>404 Not Found</title>\n",
       "</head><body>\n",
       "<h1>Not Found</h1>\n",
       "<p>The requested URL /login was not found on this server.</p>\n",
       "<hr>\n",
       "<address>Apache/2.4.10 (Debian) Server at localhost Port 80</address>\n",
       "</body></html>\n"
      ],
      "text/plain": [
       "<IPython.core.display.HTML object>"
      ]
     },
     "metadata": {},
     "output_type": "display_data"
    }
   ],
   "source": [
    "def login(username, password):\n",
    "    req = post(\"http://localhost:80/login\", data={\"username\": username, \"password\": password})\n",
    "    display(HTML(str(req.text)))\n",
    "    \n",
    "login(\"king_menin\", \"pass\")"
   ]
  },
  {
   "cell_type": "code",
   "execution_count": null,
   "metadata": {
    "collapsed": true,
    "deletable": true,
    "editable": true
   },
   "outputs": [],
   "source": []
  }
 ],
 "metadata": {
  "kernelspec": {
   "display_name": "Python 3",
   "language": "python",
   "name": "python3"
  },
  "language_info": {
   "codemirror_mode": {
    "name": "ipython",
    "version": 3
   },
   "file_extension": ".py",
   "mimetype": "text/x-python",
   "name": "python",
   "nbconvert_exporter": "python",
   "pygments_lexer": "ipython3",
   "version": "3.4.2"
  }
 },
 "nbformat": 4,
 "nbformat_minor": 2
}
