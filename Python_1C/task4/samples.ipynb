{
 "cells": [
  {
   "cell_type": "code",
   "execution_count": 1,
   "metadata": {
    "collapsed": true,
    "deletable": true,
    "editable": true
   },
   "outputs": [],
   "source": [
    "%load_ext autoreload\n",
    "\n",
    "%autoreload 2"
   ]
  },
  {
   "cell_type": "markdown",
   "metadata": {
    "deletable": true,
    "editable": true
   },
   "source": [
    "# Анонимные функции"
   ]
  },
  {
   "cell_type": "code",
   "execution_count": 243,
   "metadata": {
    "collapsed": false,
    "deletable": true,
    "editable": true
   },
   "outputs": [
    {
     "name": "stdout",
     "output_type": "stream",
     "text": [
      "ABCDEFGHIJKLMNOPQRSTUVWXYZ\n",
      "abcdefghijklmnopqrstuvwxyz\n"
     ]
    }
   ],
   "source": [
    "from string import ascii_lowercase, ascii_uppercase\n",
    "\n",
    "upper = lambda x: x.upper()\n",
    "print(*map(upper, ascii_lowercase), sep=\"\")\n",
    "print(*map(lambda x: x.lower(), ascii_uppercase), sep=\"\")"
   ]
  },
  {
   "cell_type": "code",
   "execution_count": 241,
   "metadata": {
    "collapsed": false,
    "deletable": true,
    "editable": true
   },
   "outputs": [
    {
     "data": {
      "text/plain": [
       "<function __main__.<lambda>>"
      ]
     },
     "execution_count": 241,
     "metadata": {},
     "output_type": "execute_result"
    }
   ],
   "source": [
    "upper"
   ]
  },
  {
   "cell_type": "markdown",
   "metadata": {
    "deletable": true,
    "editable": true
   },
   "source": [
    "# Области видимости переменных"
   ]
  },
  {
   "cell_type": "markdown",
   "metadata": {
    "collapsed": true,
    "deletable": true,
    "editable": true
   },
   "source": [
    "### Work flow constructions"
   ]
  },
  {
   "cell_type": "code",
   "execution_count": 2,
   "metadata": {
    "collapsed": false,
    "deletable": true,
    "editable": true
   },
   "outputs": [
    {
     "name": "stdout",
     "output_type": "stream",
     "text": [
      "99 9\n"
     ]
    }
   ],
   "source": [
    "for index in range(100):\n",
    "    sub_index = index // 10\n",
    "    pass\n",
    "print(index, sub_index)"
   ]
  },
  {
   "cell_type": "code",
   "execution_count": 3,
   "metadata": {
    "collapsed": false,
    "deletable": true,
    "editable": true
   },
   "outputs": [
    {
     "name": "stdout",
     "output_type": "stream",
     "text": [
      "100 True\n"
     ]
    }
   ],
   "source": [
    "outer_int = 100\n",
    "if outer_int > 10:\n",
    "    inner_checker = True\n",
    "else:\n",
    "    inner_checker = False\n",
    "print(outer_int, inner_checker)"
   ]
  },
  {
   "cell_type": "code",
   "execution_count": 4,
   "metadata": {
    "collapsed": false,
    "deletable": true,
    "editable": true
   },
   "outputs": [
    {
     "name": "stdout",
     "output_type": "stream",
     "text": [
      "100 False\n"
     ]
    }
   ],
   "source": [
    "outer_int = 100\n",
    "if outer_int < 10:\n",
    "    inner_checker = True\n",
    "else:\n",
    "    inner_checker = False\n",
    "print(outer_int, inner_checker)"
   ]
  },
  {
   "cell_type": "code",
   "execution_count": 5,
   "metadata": {
    "collapsed": false,
    "deletable": true,
    "editable": true
   },
   "outputs": [
    {
     "name": "stdout",
     "output_type": "stream",
     "text": [
      "9 9 81 81\n"
     ]
    }
   ],
   "source": [
    "for i in range(10):\n",
    "    for j in range(10):\n",
    "        k = i * j\n",
    "        if k > 50:\n",
    "            z = k\n",
    "print(i, j, k, z)"
   ]
  },
  {
   "cell_type": "markdown",
   "metadata": {
    "deletable": true,
    "editable": true
   },
   "source": [
    "### Functions"
   ]
  },
  {
   "cell_type": "code",
   "execution_count": 6,
   "metadata": {
    "collapsed": true,
    "deletable": true,
    "editable": true
   },
   "outputs": [],
   "source": [
    "def mul(*args):\n",
    "    if not len(args):\n",
    "        print(\"Length of args is zero!\")\n",
    "    res = 1\n",
    "    for arg in args:\n",
    "        if isinstance(arg, int) or isinstance(arg, float):\n",
    "            res *= arg\n",
    "        else:\n",
    "            print(\"Skip arg {} (not int or float)\".format(arg))\n",
    "    return res"
   ]
  },
  {
   "cell_type": "code",
   "execution_count": 7,
   "metadata": {
    "collapsed": false,
    "deletable": true,
    "editable": true
   },
   "outputs": [
    {
     "ename": "NameError",
     "evalue": "name 'res' is not defined",
     "output_type": "error",
     "traceback": [
      "\u001b[0;31m---------------------------------------------------------------------------\u001b[0m",
      "\u001b[0;31mNameError\u001b[0m                                 Traceback (most recent call last)",
      "\u001b[0;32m<ipython-input-7-2bc7c0cc4173>\u001b[0m in \u001b[0;36m<module>\u001b[0;34m()\u001b[0m\n\u001b[0;32m----> 1\u001b[0;31m \u001b[0mprint\u001b[0m\u001b[1;33m(\u001b[0m\u001b[0mres\u001b[0m\u001b[1;33m)\u001b[0m\u001b[1;33m\u001b[0m\u001b[0m\n\u001b[0m",
      "\u001b[0;31mNameError\u001b[0m: name 'res' is not defined"
     ]
    }
   ],
   "source": [
    "print(res)"
   ]
  },
  {
   "cell_type": "code",
   "execution_count": 8,
   "metadata": {
    "collapsed": false,
    "deletable": true,
    "editable": true
   },
   "outputs": [
    {
     "name": "stdout",
     "output_type": "stream",
     "text": [
      "Length of args is zero!\n"
     ]
    },
    {
     "data": {
      "text/plain": [
       "1"
      ]
     },
     "execution_count": 8,
     "metadata": {},
     "output_type": "execute_result"
    }
   ],
   "source": [
    "mul()"
   ]
  },
  {
   "cell_type": "code",
   "execution_count": 9,
   "metadata": {
    "collapsed": false,
    "deletable": true,
    "editable": true,
    "scrolled": true
   },
   "outputs": [
    {
     "data": {
      "text/plain": [
       "12"
      ]
     },
     "execution_count": 9,
     "metadata": {},
     "output_type": "execute_result"
    }
   ],
   "source": [
    "mul(1, 2, 3, -1, -2)"
   ]
  },
  {
   "cell_type": "code",
   "execution_count": 10,
   "metadata": {
    "collapsed": false,
    "deletable": true,
    "editable": true
   },
   "outputs": [
    {
     "name": "stdout",
     "output_type": "stream",
     "text": [
      "Skip arg -2 (not int or float)\n"
     ]
    },
    {
     "data": {
      "text/plain": [
       "-6"
      ]
     },
     "execution_count": 10,
     "metadata": {},
     "output_type": "execute_result"
    }
   ],
   "source": [
    "mul(1, 2, 3, -1, \"-2\")"
   ]
  },
  {
   "cell_type": "code",
   "execution_count": 11,
   "metadata": {
    "collapsed": false,
    "deletable": true,
    "editable": true
   },
   "outputs": [
    {
     "name": "stdout",
     "output_type": "stream",
     "text": [
      "Outer index 0\n",
      "Outer index 1\n",
      "Outer index 2\n",
      "Outer index 3\n",
      "Outer index 4\n"
     ]
    }
   ],
   "source": [
    "def print_outer_index():\n",
    "    print(\"Outer index {}\".format(index_))\n",
    "for index_ in range(5):\n",
    "    print_outer_index()"
   ]
  },
  {
   "cell_type": "markdown",
   "metadata": {
    "deletable": true,
    "editable": true
   },
   "source": [
    "### LEBG Rule :)"
   ]
  },
  {
   "cell_type": "code",
   "execution_count": 12,
   "metadata": {
    "collapsed": false,
    "deletable": true,
    "editable": true
   },
   "outputs": [
    {
     "data": {
      "text/plain": [
       "10"
      ]
     },
     "execution_count": 12,
     "metadata": {},
     "output_type": "execute_result"
    }
   ],
   "source": [
    "# built-in\n",
    "sum(range(5))"
   ]
  },
  {
   "cell_type": "code",
   "execution_count": 13,
   "metadata": {
    "collapsed": true,
    "deletable": true,
    "editable": true
   },
   "outputs": [],
   "source": [
    "# global\n",
    "sum = 9"
   ]
  },
  {
   "cell_type": "code",
   "execution_count": 134,
   "metadata": {
    "collapsed": true,
    "deletable": true,
    "editable": true
   },
   "outputs": [],
   "source": [
    "def outer():\n",
    "    # enclosing\n",
    "    sum = 8\n",
    "    def inner():\n",
    "        # enclosing\n",
    "        def inner2():\n",
    "            # local\n",
    "            sum = 6\n",
    "            print(sum)\n",
    "        print(sum)\n",
    "        inner2()\n",
    "    inner()\n",
    "    print(sum)"
   ]
  },
  {
   "cell_type": "code",
   "execution_count": 135,
   "metadata": {
    "collapsed": false,
    "deletable": true,
    "editable": true
   },
   "outputs": [
    {
     "name": "stdout",
     "output_type": "stream",
     "text": [
      "8\n",
      "6\n",
      "8\n"
     ]
    },
    {
     "data": {
      "text/plain": [
       "(9, None)"
      ]
     },
     "execution_count": 135,
     "metadata": {},
     "output_type": "execute_result"
    }
   ],
   "source": [
    "sum, outer()"
   ]
  },
  {
   "cell_type": "markdown",
   "metadata": {
    "deletable": true,
    "editable": true
   },
   "source": [
    "### WTF?"
   ]
  },
  {
   "cell_type": "code",
   "execution_count": 1,
   "metadata": {
    "collapsed": false,
    "deletable": true,
    "editable": true
   },
   "outputs": [
    {
     "name": "stdout",
     "output_type": "stream",
     "text": [
      "[]\n"
     ]
    }
   ],
   "source": [
    "a = []\n",
    "def f():\n",
    "    print(a)\n",
    "f()"
   ]
  },
  {
   "cell_type": "code",
   "execution_count": 2,
   "metadata": {
    "collapsed": false,
    "deletable": true,
    "editable": true
   },
   "outputs": [
    {
     "ename": "UnboundLocalError",
     "evalue": "local variable 'a' referenced before assignment",
     "output_type": "error",
     "traceback": [
      "\u001b[0;31m---------------------------------------------------------------------------\u001b[0m",
      "\u001b[0;31mUnboundLocalError\u001b[0m                         Traceback (most recent call last)",
      "\u001b[0;32m<ipython-input-2-bf352926adc5>\u001b[0m in \u001b[0;36m<module>\u001b[0;34m()\u001b[0m\n\u001b[1;32m      3\u001b[0m     \u001b[0mprint\u001b[0m\u001b[1;33m(\u001b[0m\u001b[0ma\u001b[0m\u001b[1;33m)\u001b[0m\u001b[1;33m\u001b[0m\u001b[0m\n\u001b[1;32m      4\u001b[0m     \u001b[0ma\u001b[0m \u001b[1;33m=\u001b[0m \u001b[1;33m[\u001b[0m\u001b[1;33m]\u001b[0m\u001b[1;33m\u001b[0m\u001b[0m\n\u001b[0;32m----> 5\u001b[0;31m \u001b[0mf\u001b[0m\u001b[1;33m(\u001b[0m\u001b[1;33m)\u001b[0m\u001b[1;33m\u001b[0m\u001b[0m\n\u001b[0m",
      "\u001b[0;32m<ipython-input-2-bf352926adc5>\u001b[0m in \u001b[0;36mf\u001b[0;34m()\u001b[0m\n\u001b[1;32m      1\u001b[0m \u001b[0ma\u001b[0m \u001b[1;33m=\u001b[0m \u001b[1;33m[\u001b[0m\u001b[1;33m]\u001b[0m\u001b[1;33m\u001b[0m\u001b[0m\n\u001b[1;32m      2\u001b[0m \u001b[1;32mdef\u001b[0m \u001b[0mf\u001b[0m\u001b[1;33m(\u001b[0m\u001b[1;33m)\u001b[0m\u001b[1;33m:\u001b[0m\u001b[1;33m\u001b[0m\u001b[0m\n\u001b[0;32m----> 3\u001b[0;31m     \u001b[0mprint\u001b[0m\u001b[1;33m(\u001b[0m\u001b[0ma\u001b[0m\u001b[1;33m)\u001b[0m\u001b[1;33m\u001b[0m\u001b[0m\n\u001b[0m\u001b[1;32m      4\u001b[0m     \u001b[0ma\u001b[0m \u001b[1;33m=\u001b[0m \u001b[1;33m[\u001b[0m\u001b[1;33m]\u001b[0m\u001b[1;33m\u001b[0m\u001b[0m\n\u001b[1;32m      5\u001b[0m \u001b[0mf\u001b[0m\u001b[1;33m(\u001b[0m\u001b[1;33m)\u001b[0m\u001b[1;33m\u001b[0m\u001b[0m\n",
      "\u001b[0;31mUnboundLocalError\u001b[0m: local variable 'a' referenced before assignment"
     ]
    }
   ],
   "source": [
    "a = []\n",
    "def f():\n",
    "    print(a)\n",
    "    a = []\n",
    "f()"
   ]
  },
  {
   "cell_type": "code",
   "execution_count": 121,
   "metadata": {
    "collapsed": false,
    "deletable": true,
    "editable": true
   },
   "outputs": [
    {
     "ename": "UnboundLocalError",
     "evalue": "local variable 'a' referenced before assignment",
     "output_type": "error",
     "traceback": [
      "\u001b[0;31m---------------------------------------------------------------------------\u001b[0m",
      "\u001b[0;31mUnboundLocalError\u001b[0m                         Traceback (most recent call last)",
      "\u001b[0;32m<ipython-input-121-7421dde9c456>\u001b[0m in \u001b[0;36m<module>\u001b[0;34m()\u001b[0m\n\u001b[1;32m      3\u001b[0m     \u001b[0mprint\u001b[0m\u001b[1;33m(\u001b[0m\u001b[0ma\u001b[0m\u001b[1;33m)\u001b[0m\u001b[1;33m\u001b[0m\u001b[0m\n\u001b[1;32m      4\u001b[0m     \u001b[0ma\u001b[0m \u001b[1;33m=\u001b[0m \u001b[1;36m5\u001b[0m\u001b[1;33m\u001b[0m\u001b[0m\n\u001b[0;32m----> 5\u001b[0;31m \u001b[0mf\u001b[0m\u001b[1;33m(\u001b[0m\u001b[1;33m)\u001b[0m\u001b[1;33m\u001b[0m\u001b[0m\n\u001b[0m",
      "\u001b[0;32m<ipython-input-121-7421dde9c456>\u001b[0m in \u001b[0;36mf\u001b[0;34m()\u001b[0m\n\u001b[1;32m      1\u001b[0m \u001b[0ma\u001b[0m \u001b[1;33m=\u001b[0m \u001b[1;36m10\u001b[0m\u001b[1;33m\u001b[0m\u001b[0m\n\u001b[1;32m      2\u001b[0m \u001b[1;32mdef\u001b[0m \u001b[0mf\u001b[0m\u001b[1;33m(\u001b[0m\u001b[1;33m)\u001b[0m\u001b[1;33m:\u001b[0m\u001b[1;33m\u001b[0m\u001b[0m\n\u001b[0;32m----> 3\u001b[0;31m     \u001b[0mprint\u001b[0m\u001b[1;33m(\u001b[0m\u001b[0ma\u001b[0m\u001b[1;33m)\u001b[0m\u001b[1;33m\u001b[0m\u001b[0m\n\u001b[0m\u001b[1;32m      4\u001b[0m     \u001b[0ma\u001b[0m \u001b[1;33m=\u001b[0m \u001b[1;36m5\u001b[0m\u001b[1;33m\u001b[0m\u001b[0m\n\u001b[1;32m      5\u001b[0m \u001b[0mf\u001b[0m\u001b[1;33m(\u001b[0m\u001b[1;33m)\u001b[0m\u001b[1;33m\u001b[0m\u001b[0m\n",
      "\u001b[0;31mUnboundLocalError\u001b[0m: local variable 'a' referenced before assignment"
     ]
    }
   ],
   "source": [
    "a = 10\n",
    "def f():\n",
    "    print(a)\n",
    "    a = 5 \n",
    "f()"
   ]
  },
  {
   "cell_type": "markdown",
   "metadata": {
    "deletable": true,
    "editable": true
   },
   "source": [
    "### Globals and Locals"
   ]
  },
  {
   "cell_type": "code",
   "execution_count": 87,
   "metadata": {
    "collapsed": false,
    "deletable": true,
    "editable": true
   },
   "outputs": [
    {
     "data": {
      "text/plain": [
       "True"
      ]
     },
     "execution_count": 87,
     "metadata": {},
     "output_type": "execute_result"
    }
   ],
   "source": [
    "globals() is locals()"
   ]
  },
  {
   "cell_type": "code",
   "execution_count": 96,
   "metadata": {
    "collapsed": true,
    "deletable": true,
    "editable": true
   },
   "outputs": [],
   "source": [
    "a = 10\n",
    "def get_locals(x):\n",
    "    a = 1\n",
    "    print(locals())"
   ]
  },
  {
   "cell_type": "code",
   "execution_count": 97,
   "metadata": {
    "collapsed": false,
    "deletable": true,
    "editable": true
   },
   "outputs": [
    {
     "name": "stdout",
     "output_type": "stream",
     "text": [
      "{'a': 1, 'x': 5}\n"
     ]
    }
   ],
   "source": [
    "get_locals(5)"
   ]
  },
  {
   "cell_type": "code",
   "execution_count": 90,
   "metadata": {
    "collapsed": true,
    "deletable": true,
    "editable": true
   },
   "outputs": [],
   "source": [
    "def get_globals():\n",
    "    sum = 1\n",
    "    print(globals())"
   ]
  },
  {
   "cell_type": "code",
   "execution_count": 93,
   "metadata": {
    "collapsed": false,
    "deletable": true,
    "editable": true
   },
   "outputs": [
    {
     "name": "stdout",
     "output_type": "stream",
     "text": [
      "{'__name__': '__main__', '__doc__': 'Automatically created module for IPython interactive environment', '__package__': None, '__loader__': None, '__spec__': None, '__builtin__': <module 'builtins' (built-in)>, '__builtins__': <module 'builtins' (built-in)>, '_ih': ['', \"get_ipython().magic('load_ext autoreload')\\n\\nget_ipython().magic('autoreload 2')\", 'for index in range(100):\\n    sub_index = index // 10\\n    pass\\nprint(index, sub_index)', 'outer_int = 100\\nif outer_int > 10:\\n    inner_checker = True\\nelse:\\n    inner_checker = False\\nprint(outer_int, inner_checker)', 'outer_int = 100\\nif outer_int < 10:\\n    inner_checker = True\\nelse:\\n    inner_checker = False\\nprint(outer_int, inner_checker)', 'for i in range(10):\\n    for j in range(10):\\n        k = i * j\\n        if k > 50:\\n            z = k\\nprint(i, j, k, z)', 'def mul(*args):\\n    if not len(args):\\n        print(\"Length of args is zero!\")\\n    res = 1\\n    for arg in args:\\n        if isinstance(arg, int) or isinstance(arg, float):\\n            res *= arg\\n        else:\\n            print(\"Skip arg {} (not int or float)\".format(arg))\\n    return res', 'print(res)', 'mul()', 'mul(1, 2, 3, -1, -2)', 'mul(1, 2, 3, -1, \"-2\")', 'def print_outer_index():\\n    print(\"Outer index {}\".format(index_))\\nfor index_ in range(5):\\n    print_outer_index()', '# built-in\\nsum(range(5))', '# global\\nsum = 9', 'dir()', 'def outer():\\n    # enclosing\\n    def inner():\\n        # enclosing\\n        def inner2():\\n            # local\\n            sum = 6\\n            print(sum)\\n        # sum = 7\\n        try:\\n            print(sum)\\n        except NameError:\\n            print(\"NameError exeption!\")\\n        inner2()\\n    inner()\\n    sum = 8\\n    print(sum)', 'outer()', 'def outer():\\n    # enclosing\\n    def inner():\\n        # enclosing\\n        \\n        # sum = 7\\n        try:\\n            print(sum)\\n        except NameError:\\n            print(\"NameError exeption!\")\\n        def inner2():\\n            # local\\n            sum = 6\\n            print(sum)\\n        inner2()\\n    inner()\\n    sum = 8\\n    print(sum)', 'outer()', 'def outer():\\n    print(sum)\\n    # enclosing\\n    def inner():\\n        # enclosing\\n        def inner2():\\n            # local\\n            sum = 6\\n            print(sum)\\n        # sum = 7\\n        try:\\n            print(sum)\\n        except NameError:\\n            print(\"NameError exeption!\")\\n        inner2()\\n    inner()\\n    sum = 8\\n    print(sum)', 'outer()', 'def outer():\\n    sum = 10\\n    # enclosing\\n    def inner():\\n        # enclosing\\n        def inner2():\\n            # local\\n            sum = 6\\n            print(sum)\\n        # sum = 7\\n        try:\\n            print(sum)\\n        except NameError:\\n            print(\"NameError exeption!\")\\n        inner2()\\n    inner()\\n    sum = 8\\n    print(sum)', 'outer()', 'def outer():\\n    # enclosing\\n    def inner():\\n        # enclosing\\n        def inner2():\\n            # local\\n            sum = 6\\n            print(sum)\\n        # sum = 7\\n        try:\\n            print(sum)\\n        except NameError:\\n            print(\"NameError exeption!\")\\n        inner2()\\n    inner()\\n    sum = 8\\n    print(sum)', 'outer()', 'def outer():\\n    # enclosing\\n    def inner():\\n        # enclosing\\n        def inner2():\\n            # local\\n            sum = 6\\n            print(sum)\\n        inner2()\\n        # sum = 7\\n        try:\\n            print(sum)\\n        except NameError:\\n            print(\"NameError exeption!\")\\n    inner()\\n    sum = 8\\n    print(sum)', 'outer()', 'def outer():\\n    # enclosing\\n    def inner():\\n        # enclosing\\n        def inner2():\\n            # local\\n            sum = 6\\n            print(sum)\\n        inner2()\\n        # sum = 7\\n        try:\\n            print(sum)\\n        except NameError:\\n            print(\"NameError exeption!\")\\n    inner()\\n    # sum = 8\\n    print(sum)', 'outer()', 'def outer():\\n    # enclosing\\n    def inner():\\n        # enclosing\\n        def inner2():\\n            # local\\n            sum = 6\\n            print(sum)\\n        inner2()\\n        # sum = 7\\n        try:\\n            print(sum)\\n        except NameError:\\n            print(\"NameError exeption!\")\\n    inner()\\n    # sum = 8\\n    print(sum)', 'outer()', 'def outer():\\n    # enclosing\\n    def inner():\\n        # enclosing\\n        def inner2():\\n            # local\\n            sum = 6\\n            print(sum)\\n        inner2()\\n        # sum = 7\\n        try:\\n            print(sum)\\n        except NameError:\\n            print(\"NameError exeption!\")\\n    inner()\\n    sum = 8\\n    print(sum)', 'outer()', 'def outer():\\n    # enclosing\\n    def inner():\\n        # enclosing\\n        def inner2():\\n            # local\\n            sum = 6\\n            print(sum)\\n        inner2()\\n        # sum = 7\\n        try:\\n            print(sum)\\n        except NameError:\\n            print(\"NameError exeption!\")\\n    inner()\\n    # sum = 8\\n    print(sum)', 'outer()', 'def outer():\\n    # enclosing\\n    def inner():\\n        # enclosing\\n        def inner2():\\n            # local\\n            sum = 6\\n            print(sum)\\n        inner2()\\n        # sum = 7\\n        try:\\n            print(sum)\\n        except NameError:\\n            print(\"NameError exeption!\")\\n    inner()\\n    sum = 8\\n    print(sum)', 'outer()', '**VARS_IN_SCOPE', 'VARS_IN_SCOPE', 'def outer():\\n    # enclosing\\n    def inner():\\n        # enclosing\\n        def inner2():\\n            # local\\n            sum = 6\\n            print(sum)\\n        inner2()\\n        # sum = 7\\n        try:\\n            print(sum)\\n        except NameError:\\n            print(\"NameError exeption!\")\\n    sum = 8\\n    inner()\\n    sum = 8\\n    print(sum)', 'outer()', 'def outer():\\n    # enclosing\\n    def inner():\\n        # enclosing\\n        def inner2():\\n            # local\\n            sum = 6\\n            print(sum)\\n        inner2()\\n        # sum = 7\\n        try:\\n            print(sum)\\n        except NameError:\\n            print(\"NameError exeption!\")\\n    inner()\\n    # sum = 8\\n    print(sum)', 'outer()', 'def outer():\\n    # enclosing\\n    def inner():\\n        # enclosing\\n        def inner2():\\n            # local\\n            sum = 6\\n            print(sum)\\n        inner2()\\n        # sum = 7\\n        try:\\n            print(sum)\\n        except NameError:\\n            print(\"NameError exeption!\")\\n    inner()\\n    sum = 8\\n    print(sum)', 'outer()', 'def outer():\\n    # enclosing\\n    def inner():\\n        # enclosing\\n        def inner2():\\n            # local\\n            sum = 6\\n            print(sum)\\n        inner2()\\n        # sum = 7\\n        try:\\n            print(sum)\\n        except NameError:\\n            print(\"NameError exeption!\")\\n    inner()\\n    # sum = 8\\n    print(sum)', 'outer()', 'def outer():\\n    # enclosing\\n    def inner():\\n        # enclosing\\n        def inner2():\\n            # local\\n            sum = 6\\n            print(sum)\\n        inner2()\\n        sum = 7\\n        try:\\n            print(sum)\\n        except NameError:\\n            print(\"NameError exeption!\")\\n    inner()\\n    sum = 8\\n    print(sum)', 'outer(), 9', 'def outer():\\n    # enclosing\\n    def inner():\\n        # enclosing\\n        def inner2():\\n            # local\\n            sum = 6\\n            print(sum)\\n        inner2()\\n        sum = 7\\n        try:\\n            print(sum)\\n        except NameError:\\n            print(\"NameError exeption!\")\\n    inner()\\n    sum = 8\\n    print(sum)', 'outer(), 9', 'def outer():\\n    # enclosing\\n    def inner():\\n        # enclosing\\n        def inner2():\\n            # local\\n            sum = 6\\n            print(sum)\\n        # sum = 7\\n        try:\\n            print(sum)\\n        except NameError:\\n            print(\"NameError exeption!\")\\n        inner2()\\n    inner()\\n    sum = 8\\n    print(sum)', 'outer()', 'def outer():\\n    # enclosing\\n    def inner():\\n        # enclosing\\n        def inner2():\\n            # local\\n            sum = 6\\n            print(sum)\\n        inner2()\\n        # sum = 7\\n        try:\\n            print(sum)\\n        except NameError:\\n            print(\"NameError exeption!\")\\n    inner()\\n    sum = 8\\n    print(sum)', 'outer()', 'def outer():\\n    # enclosing\\n    def inner():\\n        # enclosing\\n        def inner2():\\n            # local\\n            sum = 6\\n            print(sum)\\n        inner2()\\n        # sum = 7\\n        try:\\n            print(sum)\\n        except NameError:\\n            print(\"NameError exeption!\")\\n    inner()\\n    # sum = 8\\n    print(sum)', 'outer()', 'def outer():\\n    # enclosing\\n    def inner():\\n        # enclosing\\n        def inner2():\\n            # local\\n            sum = 6\\n            print(sum)\\n        inner2()\\n        # sum = 7\\n        try:\\n            print(sum)\\n        except NameError:\\n            print(\"NameError exeption!\")\\n    inner()\\n    # sum = 8\\n    print(sum)', 'outer()', 'def outer():\\n    # enclosing\\n    def inner():\\n        # enclosing\\n        def inner2():\\n            # local\\n            sum = 6\\n            print(sum)\\n        inner2()\\n        sum = 7\\n        try:\\n            print(sum)\\n        except NameError:\\n            print(\"NameError exeption!\")\\n    inner()\\n    sum = 8\\n    print(sum)', 'outer(), 9', 'def outer():\\n    # enclosing\\n    def inner():\\n        # enclosing\\n        def inner2():\\n            # local\\n            sum = 6\\n            print(sum)\\n        sum = 7\\n        try:\\n            print(sum)\\n        except NameError:\\n            print(\"NameError exeption!\")\\n        inner2()\\n    inner()\\n    sum = 8\\n    print(sum)', 'outer()', 'def outer():\\n    # enclosing\\n    def inner():\\n        # enclosing\\n        def inner2():\\n            # local\\n            sum = 6\\n            print(sum)\\n        inner2()\\n        # sum = 7\\n        try:\\n            print(sum)\\n        except NameError:\\n            print(\"NameError exeption!\")\\n    inner()\\n    sum = 8\\n    print(sum)', 'outer()', 'def outer():\\n    # enclosing\\n    def inner():\\n        # enclosing\\n        def inner2():\\n            # local\\n            sum = 6\\n            print(sum)\\n        inner2()\\n        # sum = 7\\n        try:\\n            print(sum)\\n        except NameError:\\n            print(\"NameError exeption!\")\\n    inner()\\n    # sum = 8\\n    print(sum)', 'outer()', 'def outer():\\n    # enclosing\\n    def inner():\\n        # enclosing\\n        def inner2():\\n            # local\\n            sum = 6\\n            print(sum)\\n        inner2()\\n        # sum = 7\\n        try:\\n            print(sum)\\n        except NameError:\\n            print(\"NameError exeption!\")\\n    inner()\\n    sum = 8\\n    print(sum)', 'outer(), 9', 'def outer():\\n    # enclosing\\n    def inner():\\n        # enclosing\\n        def inner2():\\n            # local\\n            sum = 6\\n            print(sum)\\n        inner2()\\n        # sum = 7\\n        try:\\n            print(sum)\\n        except NameError:\\n            print(\"NameError exeption!\")\\n    inner()\\n    sum = 8\\n    print(sum)', 'outer()', 'def outer():\\n    # enclosing\\n    def inner():\\n        # enclosing\\n        def inner2():\\n            # local\\n            sum = 6\\n            print(sum)\\n        inner2()\\n        # sum = 7\\n        try:\\n            print(sum)\\n        except NameError:\\n            print(\"NameError exeption!\")\\n    inner()\\n    # sum = 8\\n    print(sum)', 'outer()', 'sum, outer()', 'sum, outer()', 'def outer():\\n    # enclosing\\n    def inner():\\n        # enclosing\\n        def inner2():\\n            # local\\n            sum = 6\\n            print(sum)\\n        inner2()\\n        # sum = 7\\n        try:\\n            print(sum)\\n        except NameError:\\n            print(\"NameError exeption!\")\\n    inner()\\n    sum = 8\\n    print(sum)', 'sum, outer()', 'def outer():\\n    # enclosing\\n    def inner():\\n        # enclosing\\n        def inner2():\\n            # local\\n            sum = 6\\n            print(sum)\\n        inner2()\\n        # sum = 7\\n        try:\\n            print(sum)\\n        except NameError:\\n            print(\"NameError exeption!\")\\n    inner()\\n    # sum = 8\\n    print(sum)', 'sum, outer()', 'def outer():\\n    # enclosing\\n    def inner():\\n        # enclosing\\n        def inner2():\\n            # local\\n            sum = 6\\n            print(sum)\\n        inner2()\\n        # sum = 7\\n        try:\\n            print(sum)\\n        except NameError:\\n            print(\"NameError exeption!\")\\n    inner()\\n    sum = 8\\n    print(sum)', 'sum, outer()', 'def outer():\\n    # enclosing\\n    def inner():\\n        # enclosing\\n        def inner2():\\n            # local\\n            sum = 6\\n            print(sum)\\n        sum = 7\\n        try:\\n            print(sum)\\n        except NameError:\\n            print(\"NameError exeption!\")\\n        inner2()\\n    inner()\\n    sum = 8\\n    print(sum)', 'outer()', 'def outer():\\n    # enclosing\\n    def inner():\\n        # enclosing\\n        def inner2():\\n            # local\\n            sum = 6\\n            print(sum)\\n        inner2()\\n        # sum = 7\\n        try:\\n            print(sum)\\n        except NameError:\\n            print(\"NameError exeption!\")\\n    inner()\\n    sum = 8\\n    print(sum)', 'sum, outer()', 'def outer():\\n    # enclosing\\n    def inner():\\n        # enclosing\\n        def inner2():\\n            # local\\n            sum = 6\\n            print(sum)\\n        inner2()\\n        # sum = 7\\n        try:\\n            print(sum)\\n        except NameError:\\n            print(\"NameError exeption!\")\\n    inner()\\n    # sum = 8\\n    print(sum)', 'sum, outer()', 'globals() is locals()', 'def get_locals():\\n    sum = 1\\n    print(locals())', 'get_locals()', 'def get_globals():\\n    sum = 1\\n    print(globals())', 'get_globals()', 'get_globals().keys()', 'get_globals()'], '_oh': {8: 1, 9: 12, 10: -6, 12: 10, 14: ['In', 'Out', '_', '_10', '_12', '_8', '_9', '__', '___', '__builtin__', '__builtins__', '__doc__', '__loader__', '__name__', '__package__', '__spec__', '_dh', '_i', '_i1', '_i10', '_i11', '_i12', '_i13', '_i14', '_i2', '_i3', '_i4', '_i5', '_i6', '_i7', '_i8', '_i9', '_ih', '_ii', '_iii', '_oh', '_sh', 'exit', 'get_ipython', 'i', 'index', 'index_', 'inner_checker', 'j', 'k', 'mul', 'outer_int', 'print_outer_index', 'quit', 'sub_index', 'sum', 'z'], 48: (None, 9), 50: (None, 9), 60: (None, 9), 68: (None, 9), 73: (9, None), 74: (9, None), 76: (9, None), 78: (9, None), 80: (9, None), 84: (9, None), 86: (9, None), 87: True}, '_dh': ['C:\\\\Users\\\\Yoga\\\\Desktop\\\\моя папка\\\\работа\\\\python course\\\\project teacher\\\\lesson 4'], '_sh': <module 'IPython.core.shadowns' from 'C:\\\\ProgramData\\\\Anaconda3\\\\lib\\\\site-packages\\\\IPython\\\\core\\\\shadowns.py'>, 'In': ['', \"get_ipython().magic('load_ext autoreload')\\n\\nget_ipython().magic('autoreload 2')\", 'for index in range(100):\\n    sub_index = index // 10\\n    pass\\nprint(index, sub_index)', 'outer_int = 100\\nif outer_int > 10:\\n    inner_checker = True\\nelse:\\n    inner_checker = False\\nprint(outer_int, inner_checker)', 'outer_int = 100\\nif outer_int < 10:\\n    inner_checker = True\\nelse:\\n    inner_checker = False\\nprint(outer_int, inner_checker)', 'for i in range(10):\\n    for j in range(10):\\n        k = i * j\\n        if k > 50:\\n            z = k\\nprint(i, j, k, z)', 'def mul(*args):\\n    if not len(args):\\n        print(\"Length of args is zero!\")\\n    res = 1\\n    for arg in args:\\n        if isinstance(arg, int) or isinstance(arg, float):\\n            res *= arg\\n        else:\\n            print(\"Skip arg {} (not int or float)\".format(arg))\\n    return res', 'print(res)', 'mul()', 'mul(1, 2, 3, -1, -2)', 'mul(1, 2, 3, -1, \"-2\")', 'def print_outer_index():\\n    print(\"Outer index {}\".format(index_))\\nfor index_ in range(5):\\n    print_outer_index()', '# built-in\\nsum(range(5))', '# global\\nsum = 9', 'dir()', 'def outer():\\n    # enclosing\\n    def inner():\\n        # enclosing\\n        def inner2():\\n            # local\\n            sum = 6\\n            print(sum)\\n        # sum = 7\\n        try:\\n            print(sum)\\n        except NameError:\\n            print(\"NameError exeption!\")\\n        inner2()\\n    inner()\\n    sum = 8\\n    print(sum)', 'outer()', 'def outer():\\n    # enclosing\\n    def inner():\\n        # enclosing\\n        \\n        # sum = 7\\n        try:\\n            print(sum)\\n        except NameError:\\n            print(\"NameError exeption!\")\\n        def inner2():\\n            # local\\n            sum = 6\\n            print(sum)\\n        inner2()\\n    inner()\\n    sum = 8\\n    print(sum)', 'outer()', 'def outer():\\n    print(sum)\\n    # enclosing\\n    def inner():\\n        # enclosing\\n        def inner2():\\n            # local\\n            sum = 6\\n            print(sum)\\n        # sum = 7\\n        try:\\n            print(sum)\\n        except NameError:\\n            print(\"NameError exeption!\")\\n        inner2()\\n    inner()\\n    sum = 8\\n    print(sum)', 'outer()', 'def outer():\\n    sum = 10\\n    # enclosing\\n    def inner():\\n        # enclosing\\n        def inner2():\\n            # local\\n            sum = 6\\n            print(sum)\\n        # sum = 7\\n        try:\\n            print(sum)\\n        except NameError:\\n            print(\"NameError exeption!\")\\n        inner2()\\n    inner()\\n    sum = 8\\n    print(sum)', 'outer()', 'def outer():\\n    # enclosing\\n    def inner():\\n        # enclosing\\n        def inner2():\\n            # local\\n            sum = 6\\n            print(sum)\\n        # sum = 7\\n        try:\\n            print(sum)\\n        except NameError:\\n            print(\"NameError exeption!\")\\n        inner2()\\n    inner()\\n    sum = 8\\n    print(sum)', 'outer()', 'def outer():\\n    # enclosing\\n    def inner():\\n        # enclosing\\n        def inner2():\\n            # local\\n            sum = 6\\n            print(sum)\\n        inner2()\\n        # sum = 7\\n        try:\\n            print(sum)\\n        except NameError:\\n            print(\"NameError exeption!\")\\n    inner()\\n    sum = 8\\n    print(sum)', 'outer()', 'def outer():\\n    # enclosing\\n    def inner():\\n        # enclosing\\n        def inner2():\\n            # local\\n            sum = 6\\n            print(sum)\\n        inner2()\\n        # sum = 7\\n        try:\\n            print(sum)\\n        except NameError:\\n            print(\"NameError exeption!\")\\n    inner()\\n    # sum = 8\\n    print(sum)', 'outer()', 'def outer():\\n    # enclosing\\n    def inner():\\n        # enclosing\\n        def inner2():\\n            # local\\n            sum = 6\\n            print(sum)\\n        inner2()\\n        # sum = 7\\n        try:\\n            print(sum)\\n        except NameError:\\n            print(\"NameError exeption!\")\\n    inner()\\n    # sum = 8\\n    print(sum)', 'outer()', 'def outer():\\n    # enclosing\\n    def inner():\\n        # enclosing\\n        def inner2():\\n            # local\\n            sum = 6\\n            print(sum)\\n        inner2()\\n        # sum = 7\\n        try:\\n            print(sum)\\n        except NameError:\\n            print(\"NameError exeption!\")\\n    inner()\\n    sum = 8\\n    print(sum)', 'outer()', 'def outer():\\n    # enclosing\\n    def inner():\\n        # enclosing\\n        def inner2():\\n            # local\\n            sum = 6\\n            print(sum)\\n        inner2()\\n        # sum = 7\\n        try:\\n            print(sum)\\n        except NameError:\\n            print(\"NameError exeption!\")\\n    inner()\\n    # sum = 8\\n    print(sum)', 'outer()', 'def outer():\\n    # enclosing\\n    def inner():\\n        # enclosing\\n        def inner2():\\n            # local\\n            sum = 6\\n            print(sum)\\n        inner2()\\n        # sum = 7\\n        try:\\n            print(sum)\\n        except NameError:\\n            print(\"NameError exeption!\")\\n    inner()\\n    sum = 8\\n    print(sum)', 'outer()', '**VARS_IN_SCOPE', 'VARS_IN_SCOPE', 'def outer():\\n    # enclosing\\n    def inner():\\n        # enclosing\\n        def inner2():\\n            # local\\n            sum = 6\\n            print(sum)\\n        inner2()\\n        # sum = 7\\n        try:\\n            print(sum)\\n        except NameError:\\n            print(\"NameError exeption!\")\\n    sum = 8\\n    inner()\\n    sum = 8\\n    print(sum)', 'outer()', 'def outer():\\n    # enclosing\\n    def inner():\\n        # enclosing\\n        def inner2():\\n            # local\\n            sum = 6\\n            print(sum)\\n        inner2()\\n        # sum = 7\\n        try:\\n            print(sum)\\n        except NameError:\\n            print(\"NameError exeption!\")\\n    inner()\\n    # sum = 8\\n    print(sum)', 'outer()', 'def outer():\\n    # enclosing\\n    def inner():\\n        # enclosing\\n        def inner2():\\n            # local\\n            sum = 6\\n            print(sum)\\n        inner2()\\n        # sum = 7\\n        try:\\n            print(sum)\\n        except NameError:\\n            print(\"NameError exeption!\")\\n    inner()\\n    sum = 8\\n    print(sum)', 'outer()', 'def outer():\\n    # enclosing\\n    def inner():\\n        # enclosing\\n        def inner2():\\n            # local\\n            sum = 6\\n            print(sum)\\n        inner2()\\n        # sum = 7\\n        try:\\n            print(sum)\\n        except NameError:\\n            print(\"NameError exeption!\")\\n    inner()\\n    # sum = 8\\n    print(sum)', 'outer()', 'def outer():\\n    # enclosing\\n    def inner():\\n        # enclosing\\n        def inner2():\\n            # local\\n            sum = 6\\n            print(sum)\\n        inner2()\\n        sum = 7\\n        try:\\n            print(sum)\\n        except NameError:\\n            print(\"NameError exeption!\")\\n    inner()\\n    sum = 8\\n    print(sum)', 'outer(), 9', 'def outer():\\n    # enclosing\\n    def inner():\\n        # enclosing\\n        def inner2():\\n            # local\\n            sum = 6\\n            print(sum)\\n        inner2()\\n        sum = 7\\n        try:\\n            print(sum)\\n        except NameError:\\n            print(\"NameError exeption!\")\\n    inner()\\n    sum = 8\\n    print(sum)', 'outer(), 9', 'def outer():\\n    # enclosing\\n    def inner():\\n        # enclosing\\n        def inner2():\\n            # local\\n            sum = 6\\n            print(sum)\\n        # sum = 7\\n        try:\\n            print(sum)\\n        except NameError:\\n            print(\"NameError exeption!\")\\n        inner2()\\n    inner()\\n    sum = 8\\n    print(sum)', 'outer()', 'def outer():\\n    # enclosing\\n    def inner():\\n        # enclosing\\n        def inner2():\\n            # local\\n            sum = 6\\n            print(sum)\\n        inner2()\\n        # sum = 7\\n        try:\\n            print(sum)\\n        except NameError:\\n            print(\"NameError exeption!\")\\n    inner()\\n    sum = 8\\n    print(sum)', 'outer()', 'def outer():\\n    # enclosing\\n    def inner():\\n        # enclosing\\n        def inner2():\\n            # local\\n            sum = 6\\n            print(sum)\\n        inner2()\\n        # sum = 7\\n        try:\\n            print(sum)\\n        except NameError:\\n            print(\"NameError exeption!\")\\n    inner()\\n    # sum = 8\\n    print(sum)', 'outer()', 'def outer():\\n    # enclosing\\n    def inner():\\n        # enclosing\\n        def inner2():\\n            # local\\n            sum = 6\\n            print(sum)\\n        inner2()\\n        # sum = 7\\n        try:\\n            print(sum)\\n        except NameError:\\n            print(\"NameError exeption!\")\\n    inner()\\n    # sum = 8\\n    print(sum)', 'outer()', 'def outer():\\n    # enclosing\\n    def inner():\\n        # enclosing\\n        def inner2():\\n            # local\\n            sum = 6\\n            print(sum)\\n        inner2()\\n        sum = 7\\n        try:\\n            print(sum)\\n        except NameError:\\n            print(\"NameError exeption!\")\\n    inner()\\n    sum = 8\\n    print(sum)', 'outer(), 9', 'def outer():\\n    # enclosing\\n    def inner():\\n        # enclosing\\n        def inner2():\\n            # local\\n            sum = 6\\n            print(sum)\\n        sum = 7\\n        try:\\n            print(sum)\\n        except NameError:\\n            print(\"NameError exeption!\")\\n        inner2()\\n    inner()\\n    sum = 8\\n    print(sum)', 'outer()', 'def outer():\\n    # enclosing\\n    def inner():\\n        # enclosing\\n        def inner2():\\n            # local\\n            sum = 6\\n            print(sum)\\n        inner2()\\n        # sum = 7\\n        try:\\n            print(sum)\\n        except NameError:\\n            print(\"NameError exeption!\")\\n    inner()\\n    sum = 8\\n    print(sum)', 'outer()', 'def outer():\\n    # enclosing\\n    def inner():\\n        # enclosing\\n        def inner2():\\n            # local\\n            sum = 6\\n            print(sum)\\n        inner2()\\n        # sum = 7\\n        try:\\n            print(sum)\\n        except NameError:\\n            print(\"NameError exeption!\")\\n    inner()\\n    # sum = 8\\n    print(sum)', 'outer()', 'def outer():\\n    # enclosing\\n    def inner():\\n        # enclosing\\n        def inner2():\\n            # local\\n            sum = 6\\n            print(sum)\\n        inner2()\\n        # sum = 7\\n        try:\\n            print(sum)\\n        except NameError:\\n            print(\"NameError exeption!\")\\n    inner()\\n    sum = 8\\n    print(sum)', 'outer(), 9', 'def outer():\\n    # enclosing\\n    def inner():\\n        # enclosing\\n        def inner2():\\n            # local\\n            sum = 6\\n            print(sum)\\n        inner2()\\n        # sum = 7\\n        try:\\n            print(sum)\\n        except NameError:\\n            print(\"NameError exeption!\")\\n    inner()\\n    sum = 8\\n    print(sum)', 'outer()', 'def outer():\\n    # enclosing\\n    def inner():\\n        # enclosing\\n        def inner2():\\n            # local\\n            sum = 6\\n            print(sum)\\n        inner2()\\n        # sum = 7\\n        try:\\n            print(sum)\\n        except NameError:\\n            print(\"NameError exeption!\")\\n    inner()\\n    # sum = 8\\n    print(sum)', 'outer()', 'sum, outer()', 'sum, outer()', 'def outer():\\n    # enclosing\\n    def inner():\\n        # enclosing\\n        def inner2():\\n            # local\\n            sum = 6\\n            print(sum)\\n        inner2()\\n        # sum = 7\\n        try:\\n            print(sum)\\n        except NameError:\\n            print(\"NameError exeption!\")\\n    inner()\\n    sum = 8\\n    print(sum)', 'sum, outer()', 'def outer():\\n    # enclosing\\n    def inner():\\n        # enclosing\\n        def inner2():\\n            # local\\n            sum = 6\\n            print(sum)\\n        inner2()\\n        # sum = 7\\n        try:\\n            print(sum)\\n        except NameError:\\n            print(\"NameError exeption!\")\\n    inner()\\n    # sum = 8\\n    print(sum)', 'sum, outer()', 'def outer():\\n    # enclosing\\n    def inner():\\n        # enclosing\\n        def inner2():\\n            # local\\n            sum = 6\\n            print(sum)\\n        inner2()\\n        # sum = 7\\n        try:\\n            print(sum)\\n        except NameError:\\n            print(\"NameError exeption!\")\\n    inner()\\n    sum = 8\\n    print(sum)', 'sum, outer()', 'def outer():\\n    # enclosing\\n    def inner():\\n        # enclosing\\n        def inner2():\\n            # local\\n            sum = 6\\n            print(sum)\\n        sum = 7\\n        try:\\n            print(sum)\\n        except NameError:\\n            print(\"NameError exeption!\")\\n        inner2()\\n    inner()\\n    sum = 8\\n    print(sum)', 'outer()', 'def outer():\\n    # enclosing\\n    def inner():\\n        # enclosing\\n        def inner2():\\n            # local\\n            sum = 6\\n            print(sum)\\n        inner2()\\n        # sum = 7\\n        try:\\n            print(sum)\\n        except NameError:\\n            print(\"NameError exeption!\")\\n    inner()\\n    sum = 8\\n    print(sum)', 'sum, outer()', 'def outer():\\n    # enclosing\\n    def inner():\\n        # enclosing\\n        def inner2():\\n            # local\\n            sum = 6\\n            print(sum)\\n        inner2()\\n        # sum = 7\\n        try:\\n            print(sum)\\n        except NameError:\\n            print(\"NameError exeption!\")\\n    inner()\\n    # sum = 8\\n    print(sum)', 'sum, outer()', 'globals() is locals()', 'def get_locals():\\n    sum = 1\\n    print(locals())', 'get_locals()', 'def get_globals():\\n    sum = 1\\n    print(globals())', 'get_globals()', 'get_globals().keys()', 'get_globals()'], 'Out': {8: 1, 9: 12, 10: -6, 12: 10, 14: ['In', 'Out', '_', '_10', '_12', '_8', '_9', '__', '___', '__builtin__', '__builtins__', '__doc__', '__loader__', '__name__', '__package__', '__spec__', '_dh', '_i', '_i1', '_i10', '_i11', '_i12', '_i13', '_i14', '_i2', '_i3', '_i4', '_i5', '_i6', '_i7', '_i8', '_i9', '_ih', '_ii', '_iii', '_oh', '_sh', 'exit', 'get_ipython', 'i', 'index', 'index_', 'inner_checker', 'j', 'k', 'mul', 'outer_int', 'print_outer_index', 'quit', 'sub_index', 'sum', 'z'], 48: (None, 9), 50: (None, 9), 60: (None, 9), 68: (None, 9), 73: (9, None), 74: (9, None), 76: (9, None), 78: (9, None), 80: (9, None), 84: (9, None), 86: (9, None), 87: True}, 'get_ipython': <bound method InteractiveShell.get_ipython of <ipykernel.zmqshell.ZMQInteractiveShell object at 0x000000CC00D51BE0>>, 'exit': <IPython.core.autocall.ZMQExitAutocall object at 0x000000CC00D950F0>, 'quit': <IPython.core.autocall.ZMQExitAutocall object at 0x000000CC00D950F0>, '_': True, '__': (9, None), '___': (9, None), '_i': 'get_globals().keys()', '_ii': 'get_globals()', '_iii': 'def get_globals():\\n    sum = 1\\n    print(globals())', '_i1': '%load_ext autoreload\\n\\n%autoreload 2', '_i2': 'for index in range(100):\\n    sub_index = index // 10\\n    pass\\nprint(index, sub_index)', 'index': 99, 'sub_index': 9, '_i3': 'outer_int = 100\\nif outer_int > 10:\\n    inner_checker = True\\nelse:\\n    inner_checker = False\\nprint(outer_int, inner_checker)', 'outer_int': 100, 'inner_checker': False, '_i4': 'outer_int = 100\\nif outer_int < 10:\\n    inner_checker = True\\nelse:\\n    inner_checker = False\\nprint(outer_int, inner_checker)', '_i5': 'for i in range(10):\\n    for j in range(10):\\n        k = i * j\\n        if k > 50:\\n            z = k\\nprint(i, j, k, z)', 'i': 9, 'j': 9, 'k': 81, 'z': 81, '_i6': 'def mul(*args):\\n    if not len(args):\\n        print(\"Length of args is zero!\")\\n    res = 1\\n    for arg in args:\\n        if isinstance(arg, int) or isinstance(arg, float):\\n            res *= arg\\n        else:\\n            print(\"Skip arg {} (not int or float)\".format(arg))\\n    return res', 'mul': <function mul at 0x000000CC01C0C488>, '_i7': 'print(res)', '_i8': 'mul()', '_8': 1, '_i9': 'mul(1, 2, 3, -1, -2)', '_9': 12, '_i10': 'mul(1, 2, 3, -1, \"-2\")', '_10': -6, '_i11': 'def print_outer_index():\\n    print(\"Outer index {}\".format(index_))\\nfor index_ in range(5):\\n    print_outer_index()', 'print_outer_index': <function print_outer_index at 0x000000CC01BF4840>, 'index_': 4, '_i12': '# built-in\\nsum(range(5))', '_12': 10, '_i13': '# global\\nsum = 9', 'sum': 9, '_i14': 'dir()', '_14': ['In', 'Out', '_', '_10', '_12', '_8', '_9', '__', '___', '__builtin__', '__builtins__', '__doc__', '__loader__', '__name__', '__package__', '__spec__', '_dh', '_i', '_i1', '_i10', '_i11', '_i12', '_i13', '_i14', '_i2', '_i3', '_i4', '_i5', '_i6', '_i7', '_i8', '_i9', '_ih', '_ii', '_iii', '_oh', '_sh', 'exit', 'get_ipython', 'i', 'index', 'index_', 'inner_checker', 'j', 'k', 'mul', 'outer_int', 'print_outer_index', 'quit', 'sub_index', 'sum', 'z'], '_i15': 'def outer():\\n    # enclosing\\n    def inner():\\n        # enclosing\\n        def inner2():\\n            # local\\n            sum = 6\\n            print(sum)\\n        # sum = 7\\n        try:\\n            print(sum)\\n        except NameError:\\n            print(\"NameError exeption!\")\\n        inner2()\\n    inner()\\n    sum = 8\\n    print(sum)', 'outer': <function outer at 0x000000CC01BF4730>, '_i16': 'outer()', '_i17': 'def outer():\\n    # enclosing\\n    def inner():\\n        # enclosing\\n        \\n        # sum = 7\\n        try:\\n            print(sum)\\n        except NameError:\\n            print(\"NameError exeption!\")\\n        def inner2():\\n            # local\\n            sum = 6\\n            print(sum)\\n        inner2()\\n    inner()\\n    sum = 8\\n    print(sum)', '_i18': 'outer()', '_i19': 'def outer():\\n    print(sum)\\n    # enclosing\\n    def inner():\\n        # enclosing\\n        def inner2():\\n            # local\\n            sum = 6\\n            print(sum)\\n        # sum = 7\\n        try:\\n            print(sum)\\n        except NameError:\\n            print(\"NameError exeption!\")\\n        inner2()\\n    inner()\\n    sum = 8\\n    print(sum)', '_i20': 'outer()', '_i21': 'def outer():\\n    sum = 10\\n    # enclosing\\n    def inner():\\n        # enclosing\\n        def inner2():\\n            # local\\n            sum = 6\\n            print(sum)\\n        # sum = 7\\n        try:\\n            print(sum)\\n        except NameError:\\n            print(\"NameError exeption!\")\\n        inner2()\\n    inner()\\n    sum = 8\\n    print(sum)', '_i22': 'outer()', '_i23': 'def outer():\\n    # enclosing\\n    def inner():\\n        # enclosing\\n        def inner2():\\n            # local\\n            sum = 6\\n            print(sum)\\n        # sum = 7\\n        try:\\n            print(sum)\\n        except NameError:\\n            print(\"NameError exeption!\")\\n        inner2()\\n    inner()\\n    sum = 8\\n    print(sum)', '_i24': 'outer()', '_i25': 'def outer():\\n    # enclosing\\n    def inner():\\n        # enclosing\\n        def inner2():\\n            # local\\n            sum = 6\\n            print(sum)\\n        inner2()\\n        # sum = 7\\n        try:\\n            print(sum)\\n        except NameError:\\n            print(\"NameError exeption!\")\\n    inner()\\n    sum = 8\\n    print(sum)', '_i26': 'outer()', '_i27': 'def outer():\\n    # enclosing\\n    def inner():\\n        # enclosing\\n        def inner2():\\n            # local\\n            sum = 6\\n            print(sum)\\n        inner2()\\n        # sum = 7\\n        try:\\n            print(sum)\\n        except NameError:\\n            print(\"NameError exeption!\")\\n    inner()\\n    # sum = 8\\n    print(sum)', '_i28': 'outer()', '_i29': 'def outer():\\n    # enclosing\\n    def inner():\\n        # enclosing\\n        def inner2():\\n            # local\\n            sum = 6\\n            print(sum)\\n        inner2()\\n        # sum = 7\\n        try:\\n            print(sum)\\n        except NameError:\\n            print(\"NameError exeption!\")\\n    inner()\\n    # sum = 8\\n    print(sum)', '_i30': 'outer()', '_i31': 'def outer():\\n    # enclosing\\n    def inner():\\n        # enclosing\\n        def inner2():\\n            # local\\n            sum = 6\\n            print(sum)\\n        inner2()\\n        # sum = 7\\n        try:\\n            print(sum)\\n        except NameError:\\n            print(\"NameError exeption!\")\\n    inner()\\n    sum = 8\\n    print(sum)', '_i32': 'outer()', '_i33': 'def outer():\\n    # enclosing\\n    def inner():\\n        # enclosing\\n        def inner2():\\n            # local\\n            sum = 6\\n            print(sum)\\n        inner2()\\n        # sum = 7\\n        try:\\n            print(sum)\\n        except NameError:\\n            print(\"NameError exeption!\")\\n    inner()\\n    # sum = 8\\n    print(sum)', '_i34': 'outer()', '_i35': 'def outer():\\n    # enclosing\\n    def inner():\\n        # enclosing\\n        def inner2():\\n            # local\\n            sum = 6\\n            print(sum)\\n        inner2()\\n        # sum = 7\\n        try:\\n            print(sum)\\n        except NameError:\\n            print(\"NameError exeption!\")\\n    inner()\\n    sum = 8\\n    print(sum)', '_i36': 'outer()', '_i37': '**VARS_IN_SCOPE', '_i38': 'VARS_IN_SCOPE', '_i39': 'def outer():\\n    # enclosing\\n    def inner():\\n        # enclosing\\n        def inner2():\\n            # local\\n            sum = 6\\n            print(sum)\\n        inner2()\\n        # sum = 7\\n        try:\\n            print(sum)\\n        except NameError:\\n            print(\"NameError exeption!\")\\n    sum = 8\\n    inner()\\n    sum = 8\\n    print(sum)', '_i40': 'outer()', '_i41': 'def outer():\\n    # enclosing\\n    def inner():\\n        # enclosing\\n        def inner2():\\n            # local\\n            sum = 6\\n            print(sum)\\n        inner2()\\n        # sum = 7\\n        try:\\n            print(sum)\\n        except NameError:\\n            print(\"NameError exeption!\")\\n    inner()\\n    # sum = 8\\n    print(sum)', '_i42': 'outer()', '_i43': 'def outer():\\n    # enclosing\\n    def inner():\\n        # enclosing\\n        def inner2():\\n            # local\\n            sum = 6\\n            print(sum)\\n        inner2()\\n        # sum = 7\\n        try:\\n            print(sum)\\n        except NameError:\\n            print(\"NameError exeption!\")\\n    inner()\\n    sum = 8\\n    print(sum)', '_i44': 'outer()', '_i45': 'def outer():\\n    # enclosing\\n    def inner():\\n        # enclosing\\n        def inner2():\\n            # local\\n            sum = 6\\n            print(sum)\\n        inner2()\\n        # sum = 7\\n        try:\\n            print(sum)\\n        except NameError:\\n            print(\"NameError exeption!\")\\n    inner()\\n    # sum = 8\\n    print(sum)', '_i46': 'outer()', '_i47': 'def outer():\\n    # enclosing\\n    def inner():\\n        # enclosing\\n        def inner2():\\n            # local\\n            sum = 6\\n            print(sum)\\n        inner2()\\n        sum = 7\\n        try:\\n            print(sum)\\n        except NameError:\\n            print(\"NameError exeption!\")\\n    inner()\\n    sum = 8\\n    print(sum)', '_i48': 'outer(), 9', '_48': (None, 9), '_i49': 'def outer():\\n    # enclosing\\n    def inner():\\n        # enclosing\\n        def inner2():\\n            # local\\n            sum = 6\\n            print(sum)\\n        inner2()\\n        sum = 7\\n        try:\\n            print(sum)\\n        except NameError:\\n            print(\"NameError exeption!\")\\n    inner()\\n    sum = 8\\n    print(sum)', '_i50': 'outer(), 9', '_50': (None, 9), '_i51': 'def outer():\\n    # enclosing\\n    def inner():\\n        # enclosing\\n        def inner2():\\n            # local\\n            sum = 6\\n            print(sum)\\n        # sum = 7\\n        try:\\n            print(sum)\\n        except NameError:\\n            print(\"NameError exeption!\")\\n        inner2()\\n    inner()\\n    sum = 8\\n    print(sum)', '_i52': 'outer()', '_i53': 'def outer():\\n    # enclosing\\n    def inner():\\n        # enclosing\\n        def inner2():\\n            # local\\n            sum = 6\\n            print(sum)\\n        inner2()\\n        # sum = 7\\n        try:\\n            print(sum)\\n        except NameError:\\n            print(\"NameError exeption!\")\\n    inner()\\n    sum = 8\\n    print(sum)', '_i54': 'outer()', '_i55': 'def outer():\\n    # enclosing\\n    def inner():\\n        # enclosing\\n        def inner2():\\n            # local\\n            sum = 6\\n            print(sum)\\n        inner2()\\n        # sum = 7\\n        try:\\n            print(sum)\\n        except NameError:\\n            print(\"NameError exeption!\")\\n    inner()\\n    # sum = 8\\n    print(sum)', '_i56': 'outer()', '_i57': 'def outer():\\n    # enclosing\\n    def inner():\\n        # enclosing\\n        def inner2():\\n            # local\\n            sum = 6\\n            print(sum)\\n        inner2()\\n        # sum = 7\\n        try:\\n            print(sum)\\n        except NameError:\\n            print(\"NameError exeption!\")\\n    inner()\\n    # sum = 8\\n    print(sum)', '_i58': 'outer()', '_i59': 'def outer():\\n    # enclosing\\n    def inner():\\n        # enclosing\\n        def inner2():\\n            # local\\n            sum = 6\\n            print(sum)\\n        inner2()\\n        sum = 7\\n        try:\\n            print(sum)\\n        except NameError:\\n            print(\"NameError exeption!\")\\n    inner()\\n    sum = 8\\n    print(sum)', '_i60': 'outer(), 9', '_60': (None, 9), '_i61': 'def outer():\\n    # enclosing\\n    def inner():\\n        # enclosing\\n        def inner2():\\n            # local\\n            sum = 6\\n            print(sum)\\n        sum = 7\\n        try:\\n            print(sum)\\n        except NameError:\\n            print(\"NameError exeption!\")\\n        inner2()\\n    inner()\\n    sum = 8\\n    print(sum)', '_i62': 'outer()', '_i63': 'def outer():\\n    # enclosing\\n    def inner():\\n        # enclosing\\n        def inner2():\\n            # local\\n            sum = 6\\n            print(sum)\\n        inner2()\\n        # sum = 7\\n        try:\\n            print(sum)\\n        except NameError:\\n            print(\"NameError exeption!\")\\n    inner()\\n    sum = 8\\n    print(sum)', '_i64': 'outer()', '_i65': 'def outer():\\n    # enclosing\\n    def inner():\\n        # enclosing\\n        def inner2():\\n            # local\\n            sum = 6\\n            print(sum)\\n        inner2()\\n        # sum = 7\\n        try:\\n            print(sum)\\n        except NameError:\\n            print(\"NameError exeption!\")\\n    inner()\\n    # sum = 8\\n    print(sum)', '_i66': 'outer()', '_i67': 'def outer():\\n    # enclosing\\n    def inner():\\n        # enclosing\\n        def inner2():\\n            # local\\n            sum = 6\\n            print(sum)\\n        inner2()\\n        # sum = 7\\n        try:\\n            print(sum)\\n        except NameError:\\n            print(\"NameError exeption!\")\\n    inner()\\n    sum = 8\\n    print(sum)', '_i68': 'outer(), 9', '_68': (None, 9), '_i69': 'def outer():\\n    # enclosing\\n    def inner():\\n        # enclosing\\n        def inner2():\\n            # local\\n            sum = 6\\n            print(sum)\\n        inner2()\\n        # sum = 7\\n        try:\\n            print(sum)\\n        except NameError:\\n            print(\"NameError exeption!\")\\n    inner()\\n    sum = 8\\n    print(sum)', '_i70': 'outer()', '_i71': 'def outer():\\n    # enclosing\\n    def inner():\\n        # enclosing\\n        def inner2():\\n            # local\\n            sum = 6\\n            print(sum)\\n        inner2()\\n        # sum = 7\\n        try:\\n            print(sum)\\n        except NameError:\\n            print(\"NameError exeption!\")\\n    inner()\\n    # sum = 8\\n    print(sum)', '_i72': 'outer()', '_i73': 'sum, outer()', '_73': (9, None), '_i74': 'sum, outer()', '_74': (9, None), '_i75': 'def outer():\\n    # enclosing\\n    def inner():\\n        # enclosing\\n        def inner2():\\n            # local\\n            sum = 6\\n            print(sum)\\n        inner2()\\n        # sum = 7\\n        try:\\n            print(sum)\\n        except NameError:\\n            print(\"NameError exeption!\")\\n    inner()\\n    sum = 8\\n    print(sum)', '_i76': 'sum, outer()', '_76': (9, None), '_i77': 'def outer():\\n    # enclosing\\n    def inner():\\n        # enclosing\\n        def inner2():\\n            # local\\n            sum = 6\\n            print(sum)\\n        inner2()\\n        # sum = 7\\n        try:\\n            print(sum)\\n        except NameError:\\n            print(\"NameError exeption!\")\\n    inner()\\n    # sum = 8\\n    print(sum)', '_i78': 'sum, outer()', '_78': (9, None), '_i79': 'def outer():\\n    # enclosing\\n    def inner():\\n        # enclosing\\n        def inner2():\\n            # local\\n            sum = 6\\n            print(sum)\\n        inner2()\\n        # sum = 7\\n        try:\\n            print(sum)\\n        except NameError:\\n            print(\"NameError exeption!\")\\n    inner()\\n    sum = 8\\n    print(sum)', '_i80': 'sum, outer()', '_80': (9, None), '_i81': 'def outer():\\n    # enclosing\\n    def inner():\\n        # enclosing\\n        def inner2():\\n            # local\\n            sum = 6\\n            print(sum)\\n        sum = 7\\n        try:\\n            print(sum)\\n        except NameError:\\n            print(\"NameError exeption!\")\\n        inner2()\\n    inner()\\n    sum = 8\\n    print(sum)', '_i82': 'outer()', '_i83': 'def outer():\\n    # enclosing\\n    def inner():\\n        # enclosing\\n        def inner2():\\n            # local\\n            sum = 6\\n            print(sum)\\n        inner2()\\n        # sum = 7\\n        try:\\n            print(sum)\\n        except NameError:\\n            print(\"NameError exeption!\")\\n    inner()\\n    sum = 8\\n    print(sum)', '_i84': 'sum, outer()', '_84': (9, None), '_i85': 'def outer():\\n    # enclosing\\n    def inner():\\n        # enclosing\\n        def inner2():\\n            # local\\n            sum = 6\\n            print(sum)\\n        inner2()\\n        # sum = 7\\n        try:\\n            print(sum)\\n        except NameError:\\n            print(\"NameError exeption!\")\\n    inner()\\n    # sum = 8\\n    print(sum)', '_i86': 'sum, outer()', '_86': (9, None), '_i87': 'globals() is locals()', '_87': True, '_i88': 'def get_locals():\\n    sum = 1\\n    print(locals())', 'get_locals': <function get_locals at 0x000000CC01BF4D08>, '_i89': 'get_locals()', '_i90': 'def get_globals():\\n    sum = 1\\n    print(globals())', 'get_globals': <function get_globals at 0x000000CC01BF46A8>, '_i91': 'get_globals()', '_i92': 'get_globals().keys()', '_i93': 'get_globals()'}\n"
     ]
    }
   ],
   "source": [
    "get_globals()"
   ]
  },
  {
   "cell_type": "code",
   "execution_count": 196,
   "metadata": {
    "collapsed": false,
    "deletable": true,
    "editable": true
   },
   "outputs": [
    {
     "name": "stdout",
     "output_type": "stream",
     "text": [
      "out3 {'z': 30}\n",
      "out2 {'out3': <function out1.<locals>.out2.<locals>.out3 at 0x000000CC01C82598>, 'y': 20}\n",
      "out1 {'out2': <function out1.<locals>.out2 at 0x000000CC020C7C80>, 'x': 10}\n"
     ]
    }
   ],
   "source": [
    "def out1(x=10):\n",
    "    def out2(y=20):\n",
    "        def out3(z=30):\n",
    "            print(\"out3 {}\".format(locals()))\n",
    "        out3()\n",
    "        print(\"out2 {}\".format(locals()))\n",
    "    out2()\n",
    "    print(\"out1 {}\".format(locals()))\n",
    "out1()"
   ]
  },
  {
   "cell_type": "markdown",
   "metadata": {
    "deletable": true,
    "editable": true
   },
   "source": [
    "### Присваивание"
   ]
  },
  {
   "cell_type": "code",
   "execution_count": 125,
   "metadata": {
    "collapsed": false,
    "deletable": true,
    "editable": true
   },
   "outputs": [
    {
     "data": {
      "text/plain": [
       "1"
      ]
     },
     "execution_count": 125,
     "metadata": {},
     "output_type": "execute_result"
    }
   ],
   "source": [
    "a = 10\n",
    "def f():\n",
    "    a = 1\n",
    "    return a\n",
    "f()"
   ]
  },
  {
   "cell_type": "code",
   "execution_count": 126,
   "metadata": {
    "collapsed": false,
    "deletable": true,
    "editable": true
   },
   "outputs": [
    {
     "data": {
      "text/plain": [
       "(10, 1)"
      ]
     },
     "execution_count": 126,
     "metadata": {},
     "output_type": "execute_result"
    }
   ],
   "source": [
    "a, f()"
   ]
  },
  {
   "cell_type": "markdown",
   "metadata": {
    "deletable": true,
    "editable": true
   },
   "source": [
    "### global"
   ]
  },
  {
   "cell_type": "code",
   "execution_count": 127,
   "metadata": {
    "collapsed": false,
    "deletable": true,
    "editable": true
   },
   "outputs": [],
   "source": [
    "a = 10\n",
    "def sum_a(x):\n",
    "    global a\n",
    "    a += x\n",
    "    return a"
   ]
  },
  {
   "cell_type": "code",
   "execution_count": 128,
   "metadata": {
    "collapsed": false,
    "deletable": true,
    "editable": true
   },
   "outputs": [
    {
     "data": {
      "text/plain": [
       "(10, 11)"
      ]
     },
     "execution_count": 128,
     "metadata": {},
     "output_type": "execute_result"
    }
   ],
   "source": [
    "a, sum_a(1)"
   ]
  },
  {
   "cell_type": "code",
   "execution_count": 137,
   "metadata": {
    "collapsed": false,
    "deletable": true,
    "editable": true
   },
   "outputs": [
    {
     "name": "stdout",
     "output_type": "stream",
     "text": [
      "Before calling g: 42\n",
      "Calling g now:\n",
      "After calling g: 42\n",
      "x in main: 43\n"
     ]
    }
   ],
   "source": [
    "x = 40\n",
    "def f():\n",
    "    x = 42\n",
    "    def g():\n",
    "        global x\n",
    "        x = 43\n",
    "    print(\"Before calling g: \" + str(x))\n",
    "    print(\"Calling g now:\")\n",
    "    g()\n",
    "    print(\"After calling g: \" + str(x))\n",
    "\n",
    "f()\n",
    "print(\"x in main: \" + str(x))"
   ]
  },
  {
   "cell_type": "code",
   "execution_count": 140,
   "metadata": {
    "collapsed": false,
    "deletable": true,
    "editable": true
   },
   "outputs": [
    {
     "ename": "SyntaxError",
     "evalue": "name 'x' is used prior to global declaration (<ipython-input-140-310ee235a553>, line 5)",
     "output_type": "error",
     "traceback": [
      "\u001b[0;36m  File \u001b[0;32m\"<ipython-input-140-310ee235a553>\"\u001b[0;36m, line \u001b[0;32m5\u001b[0m\n\u001b[0;31m    global x\u001b[0m\n\u001b[0;31mSyntaxError\u001b[0m\u001b[0;31m:\u001b[0m name 'x' is used prior to global declaration\n"
     ]
    }
   ],
   "source": [
    "x = 10\n",
    "def f():\n",
    "    x = 40\n",
    "    print(x)\n",
    "    global x\n",
    "    x = 20"
   ]
  },
  {
   "cell_type": "markdown",
   "metadata": {
    "deletable": true,
    "editable": true
   },
   "source": [
    "### nonlocal"
   ]
  },
  {
   "cell_type": "code",
   "execution_count": 142,
   "metadata": {
    "collapsed": false,
    "deletable": true,
    "editable": true
   },
   "outputs": [
    {
     "name": "stdout",
     "output_type": "stream",
     "text": [
      "Before calling g: 42\n",
      "Calling g now:\n",
      "After calling g: 43\n",
      "x in main: 3\n"
     ]
    }
   ],
   "source": [
    "def f():\n",
    "    x = 42\n",
    "    def g():\n",
    "        nonlocal x\n",
    "        x = 43\n",
    "    print(\"Before calling g: \" + str(x))\n",
    "    print(\"Calling g now:\")\n",
    "    g()\n",
    "    print(\"After calling g: \" + str(x))\n",
    "    \n",
    "x = 3\n",
    "f()\n",
    "print(\"x in main: \" + str(x))"
   ]
  },
  {
   "cell_type": "code",
   "execution_count": 143,
   "metadata": {
    "collapsed": false,
    "deletable": true,
    "editable": true
   },
   "outputs": [
    {
     "ename": "SyntaxError",
     "evalue": "name 'x' is used prior to nonlocal declaration (<ipython-input-143-7336c4019f7d>, line 5)",
     "output_type": "error",
     "traceback": [
      "\u001b[0;36m  File \u001b[0;32m\"<ipython-input-143-7336c4019f7d>\"\u001b[0;36m, line \u001b[0;32m5\u001b[0m\n\u001b[0;31m    nonlocal x\u001b[0m\n\u001b[0;31mSyntaxError\u001b[0m\u001b[0;31m:\u001b[0m name 'x' is used prior to nonlocal declaration\n"
     ]
    }
   ],
   "source": [
    "x = 10\n",
    "def f():\n",
    "    x = 40\n",
    "    print(x)\n",
    "    nonlocal x\n",
    "    x = 20"
   ]
  },
  {
   "cell_type": "code",
   "execution_count": 146,
   "metadata": {
    "collapsed": false,
    "deletable": true,
    "editable": true
   },
   "outputs": [
    {
     "ename": "SyntaxError",
     "evalue": "no binding for nonlocal 'x' found (<ipython-input-146-349d08298903>, line 3)",
     "output_type": "error",
     "traceback": [
      "\u001b[0;36m  File \u001b[0;32m\"<ipython-input-146-349d08298903>\"\u001b[0;36m, line \u001b[0;32m3\u001b[0m\n\u001b[0;31m    nonlocal x\u001b[0m\n\u001b[0;31mSyntaxError\u001b[0m\u001b[0;31m:\u001b[0m no binding for nonlocal 'x' found\n"
     ]
    }
   ],
   "source": [
    "def f():\n",
    "    def g():\n",
    "        nonlocal x\n",
    "        x = 43\n",
    "    print(\"Before calling g: \" + str(x))\n",
    "    print(\"Calling g now:\")\n",
    "    g()\n",
    "    # x = 42\n",
    "    print(\"After calling g: \" + str(x))\n",
    "    \n",
    "x = 3\n",
    "f()\n",
    "print(\"x in main: \" + str(x))"
   ]
  },
  {
   "cell_type": "code",
   "execution_count": 147,
   "metadata": {
    "collapsed": false,
    "deletable": true,
    "editable": true
   },
   "outputs": [
    {
     "ename": "UnboundLocalError",
     "evalue": "local variable 'x' referenced before assignment",
     "output_type": "error",
     "traceback": [
      "\u001b[0;31m---------------------------------------------------------------------------\u001b[0m",
      "\u001b[0;31mUnboundLocalError\u001b[0m                         Traceback (most recent call last)",
      "\u001b[0;32m<ipython-input-147-82446bbd3a50>\u001b[0m in \u001b[0;36m<module>\u001b[0;34m()\u001b[0m\n\u001b[1;32m     10\u001b[0m \u001b[1;33m\u001b[0m\u001b[0m\n\u001b[1;32m     11\u001b[0m \u001b[0mx\u001b[0m \u001b[1;33m=\u001b[0m \u001b[1;36m3\u001b[0m\u001b[1;33m\u001b[0m\u001b[0m\n\u001b[0;32m---> 12\u001b[0;31m \u001b[0mf\u001b[0m\u001b[1;33m(\u001b[0m\u001b[1;33m)\u001b[0m\u001b[1;33m\u001b[0m\u001b[0m\n\u001b[0m\u001b[1;32m     13\u001b[0m \u001b[0mprint\u001b[0m\u001b[1;33m(\u001b[0m\u001b[1;34m\"x in main: \"\u001b[0m \u001b[1;33m+\u001b[0m \u001b[0mstr\u001b[0m\u001b[1;33m(\u001b[0m\u001b[0mx\u001b[0m\u001b[1;33m)\u001b[0m\u001b[1;33m)\u001b[0m\u001b[1;33m\u001b[0m\u001b[0m\n",
      "\u001b[0;32m<ipython-input-147-82446bbd3a50>\u001b[0m in \u001b[0;36mf\u001b[0;34m()\u001b[0m\n\u001b[1;32m      3\u001b[0m         \u001b[1;32mnonlocal\u001b[0m \u001b[0mx\u001b[0m\u001b[1;33m\u001b[0m\u001b[0m\n\u001b[1;32m      4\u001b[0m         \u001b[0mx\u001b[0m \u001b[1;33m=\u001b[0m \u001b[1;36m43\u001b[0m\u001b[1;33m\u001b[0m\u001b[0m\n\u001b[0;32m----> 5\u001b[0;31m     \u001b[0mprint\u001b[0m\u001b[1;33m(\u001b[0m\u001b[1;34m\"Before calling g: \"\u001b[0m \u001b[1;33m+\u001b[0m \u001b[0mstr\u001b[0m\u001b[1;33m(\u001b[0m\u001b[0mx\u001b[0m\u001b[1;33m)\u001b[0m\u001b[1;33m)\u001b[0m\u001b[1;33m\u001b[0m\u001b[0m\n\u001b[0m\u001b[1;32m      6\u001b[0m     \u001b[0mprint\u001b[0m\u001b[1;33m(\u001b[0m\u001b[1;34m\"Calling g now:\"\u001b[0m\u001b[1;33m)\u001b[0m\u001b[1;33m\u001b[0m\u001b[0m\n\u001b[1;32m      7\u001b[0m     \u001b[0mg\u001b[0m\u001b[1;33m(\u001b[0m\u001b[1;33m)\u001b[0m\u001b[1;33m\u001b[0m\u001b[0m\n",
      "\u001b[0;31mUnboundLocalError\u001b[0m: local variable 'x' referenced before assignment"
     ]
    }
   ],
   "source": [
    "def f():\n",
    "    def g():\n",
    "        nonlocal x\n",
    "        x = 43\n",
    "    print(\"Before calling g: \" + str(x))\n",
    "    print(\"Calling g now:\")\n",
    "    g()\n",
    "    x = 42\n",
    "    print(\"After calling g: \" + str(x))\n",
    "    \n",
    "x = 3\n",
    "f()\n",
    "print(\"x in main: \" + str(x))"
   ]
  },
  {
   "cell_type": "markdown",
   "metadata": {
    "deletable": true,
    "editable": true
   },
   "source": [
    "### nonlocal еще пример"
   ]
  },
  {
   "cell_type": "code",
   "execution_count": 41,
   "metadata": {
    "collapsed": true,
    "deletable": true,
    "editable": true
   },
   "outputs": [],
   "source": [
    "def build_functions(value=[]):\n",
    "    a = 1\n",
    "    def get():\n",
    "        return value\n",
    "    def put(new_value):\n",
    "        nonlocal value\n",
    "        if isinstance(value, list):\n",
    "            value.append(new_value)\n",
    "        else:\n",
    "            value += new_value\n",
    "    return get, put"
   ]
  },
  {
   "cell_type": "code",
   "execution_count": 42,
   "metadata": {
    "collapsed": false,
    "deletable": true,
    "editable": true
   },
   "outputs": [
    {
     "name": "stdout",
     "output_type": "stream",
     "text": [
      "[10] [20] 1\n",
      "[10, 10] [20] 1\n",
      "[10, 10, 10] [20] 1\n"
     ]
    }
   ],
   "source": [
    "for _ in range(3):\n",
    "    get1, put1 = build_functions()\n",
    "    get2, put2 = build_functions([])\n",
    "    get3, put3 = build_functions(0)\n",
    "    put1(10)\n",
    "    put2(20)\n",
    "    put3(1)\n",
    "    print(get1(), get2(), get3())"
   ]
  },
  {
   "cell_type": "code",
   "execution_count": 43,
   "metadata": {
    "collapsed": false,
    "deletable": true,
    "editable": true
   },
   "outputs": [
    {
     "name": "stdout",
     "output_type": "stream",
     "text": [
      "[10, 20] [10, 20] 1\n",
      "[10, 20, 10, 20] [10, 20, 10, 20] 1\n",
      "[10, 20, 10, 20, 10, 20] [10, 20, 10, 20, 10, 20] 1\n"
     ]
    }
   ],
   "source": [
    "value = []\n",
    "value2 = 0\n",
    "for _ in range(3):\n",
    "    get1, put1 = build_functions(value)\n",
    "    get2, put2 = build_functions(value)\n",
    "    get3, put3 = build_functions(value2)\n",
    "    put1(10)\n",
    "    put2(20)\n",
    "    put3(1)\n",
    "    print(get1(), get2(), get3())"
   ]
  },
  {
   "cell_type": "markdown",
   "metadata": {
    "deletable": true,
    "editable": true
   },
   "source": [
    "### Замыкание"
   ]
  },
  {
   "cell_type": "code",
   "execution_count": 179,
   "metadata": {
    "collapsed": true,
    "deletable": true,
    "editable": true
   },
   "outputs": [],
   "source": [
    "def outer_func(x):\n",
    "    def inner_func(y):\n",
    "        # inner_func замкнуло в себе х\n",
    "        print(locals())\n",
    "        return y + x\n",
    "    return inner_func"
   ]
  },
  {
   "cell_type": "code",
   "execution_count": 180,
   "metadata": {
    "collapsed": false,
    "deletable": true,
    "editable": true
   },
   "outputs": [
    {
     "name": "stdout",
     "output_type": "stream",
     "text": [
      "{'y': 10, 'x': 10}\n",
      "{'y': 10, 'x': 20}\n"
     ]
    },
    {
     "data": {
      "text/plain": [
       "(20, 30)"
      ]
     },
     "execution_count": 180,
     "metadata": {},
     "output_type": "execute_result"
    }
   ],
   "source": [
    "inner_func1 = outer_func(10)\n",
    "inner_func2 = outer_func(20)\n",
    "inner_func1(10), inner_func2(10)"
   ]
  },
  {
   "cell_type": "code",
   "execution_count": 198,
   "metadata": {
    "collapsed": false,
    "deletable": true,
    "editable": true
   },
   "outputs": [
    {
     "name": "stdout",
     "output_type": "stream",
     "text": [
      "10\n"
     ]
    }
   ],
   "source": [
    "print(*map(lambda x: x.cell_contents, inner_func1.__closure__))"
   ]
  },
  {
   "cell_type": "code",
   "execution_count": 182,
   "metadata": {
    "collapsed": false,
    "deletable": true,
    "editable": true
   },
   "outputs": [
    {
     "name": "stdout",
     "output_type": "stream",
     "text": [
      "20\n"
     ]
    }
   ],
   "source": [
    "print(*map(lambda x: x.cell_contents, inner_func2.__closure__))"
   ]
  },
  {
   "cell_type": "markdown",
   "metadata": {
    "deletable": true,
    "editable": true
   },
   "source": [
    "### Замыкания и атрибуты"
   ]
  },
  {
   "cell_type": "code",
   "execution_count": 1,
   "metadata": {
    "collapsed": true,
    "deletable": true,
    "editable": true
   },
   "outputs": [],
   "source": [
    "def get_adder(x):\n",
    "    def adder(y):\n",
    "        return adder.x + y\n",
    "\n",
    "    def update(x):\n",
    "        adder.x = x\n",
    "\n",
    "    adder.x = x\n",
    "    adder.update = update\n",
    "\n",
    "    return adder"
   ]
  },
  {
   "cell_type": "code",
   "execution_count": 2,
   "metadata": {
    "collapsed": true,
    "deletable": true,
    "editable": true
   },
   "outputs": [],
   "source": [
    "inc_adder = get_adder(1)"
   ]
  },
  {
   "cell_type": "code",
   "execution_count": 3,
   "metadata": {
    "collapsed": false,
    "deletable": true,
    "editable": true
   },
   "outputs": [
    {
     "data": {
      "text/plain": [
       "3"
      ]
     },
     "execution_count": 3,
     "metadata": {},
     "output_type": "execute_result"
    }
   ],
   "source": [
    "inc_adder(2)"
   ]
  },
  {
   "cell_type": "code",
   "execution_count": 4,
   "metadata": {
    "collapsed": false,
    "deletable": true,
    "editable": true
   },
   "outputs": [
    {
     "data": {
      "text/plain": [
       "7"
      ]
     },
     "execution_count": 4,
     "metadata": {},
     "output_type": "execute_result"
    }
   ],
   "source": [
    "inc_adder.update(3)\n",
    "inc_adder(4)"
   ]
  },
  {
   "cell_type": "code",
   "execution_count": 7,
   "metadata": {
    "collapsed": false,
    "deletable": true,
    "editable": true
   },
   "outputs": [
    {
     "data": {
      "text/plain": [
       "5"
      ]
     },
     "execution_count": 7,
     "metadata": {},
     "output_type": "execute_result"
    }
   ],
   "source": [
    "inc_adder.x = 5\n",
    "inc_adder.x"
   ]
  },
  {
   "cell_type": "markdown",
   "metadata": {
    "deletable": true,
    "editable": true
   },
   "source": [
    "#### Пример использования"
   ]
  },
  {
   "cell_type": "code",
   "execution_count": 233,
   "metadata": {
    "collapsed": true,
    "deletable": true,
    "editable": true
   },
   "outputs": [],
   "source": [
    "def connect_manager(connector_id, prev_connections=[]):\n",
    "    def connector(guid):\n",
    "        connector.user_guids.append(guid)\n",
    "    \n",
    "    def clear():\n",
    "        connector.user_guids = []\n",
    "    \n",
    "    connector.user_guids = prev_connections\n",
    "    connector.clear = clear\n",
    "    connector.id = connector_id\n",
    "\n",
    "    return connector"
   ]
  },
  {
   "cell_type": "code",
   "execution_count": 234,
   "metadata": {
    "collapsed": false,
    "deletable": true,
    "editable": true
   },
   "outputs": [],
   "source": [
    "connector1 = connect_manager(1)\n",
    "connector2 = connect_manager(2)"
   ]
  },
  {
   "cell_type": "code",
   "execution_count": 235,
   "metadata": {
    "collapsed": false,
    "deletable": true,
    "editable": true
   },
   "outputs": [],
   "source": [
    "connector1(\"guid1\")\n",
    "connector2(\"guid2\")"
   ]
  },
  {
   "cell_type": "code",
   "execution_count": 236,
   "metadata": {
    "collapsed": false,
    "deletable": true,
    "editable": true
   },
   "outputs": [
    {
     "data": {
      "text/plain": [
       "(['guid1', 'guid2'], ['guid1', 'guid2'])"
      ]
     },
     "execution_count": 236,
     "metadata": {},
     "output_type": "execute_result"
    }
   ],
   "source": [
    "connector1.user_guids, connector2.user_guids"
   ]
  },
  {
   "cell_type": "code",
   "execution_count": 237,
   "metadata": {
    "collapsed": false,
    "deletable": true,
    "editable": true
   },
   "outputs": [
    {
     "data": {
      "text/plain": [
       "(1, 2)"
      ]
     },
     "execution_count": 237,
     "metadata": {},
     "output_type": "execute_result"
    }
   ],
   "source": [
    "connector1.id, connector2.id"
   ]
  },
  {
   "cell_type": "markdown",
   "metadata": {
    "deletable": true,
    "editable": true
   },
   "source": [
    "# Декораторы"
   ]
  },
  {
   "cell_type": "markdown",
   "metadata": {
    "deletable": true,
    "editable": true
   },
   "source": [
    "### Просто функция"
   ]
  },
  {
   "cell_type": "code",
   "execution_count": 247,
   "metadata": {
    "collapsed": false,
    "deletable": true,
    "editable": true
   },
   "outputs": [
    {
     "name": "stdout",
     "output_type": "stream",
     "text": [
      "Function f is deprecated!\n"
     ]
    },
    {
     "data": {
      "text/plain": [
       "10"
      ]
     },
     "execution_count": 247,
     "metadata": {},
     "output_type": "execute_result"
    }
   ],
   "source": [
    "def deprecated(func):\n",
    "    def wrapper(*args, **kwargs):\n",
    "        print(\"Function {} is deprecated!\".format(func.__name__))\n",
    "        return func(*args, **kwargs)\n",
    "    return wrapper\n",
    "\n",
    "def f(x):\n",
    "    return x\n",
    "# WTF\n",
    "f = deprecated(f)\n",
    "f(10)"
   ]
  },
  {
   "cell_type": "markdown",
   "metadata": {
    "deletable": true,
    "editable": true
   },
   "source": [
    "### Декоратор"
   ]
  },
  {
   "cell_type": "code",
   "execution_count": 251,
   "metadata": {
    "collapsed": false,
    "deletable": true,
    "editable": true
   },
   "outputs": [
    {
     "name": "stdout",
     "output_type": "stream",
     "text": [
      "Decorator created!\n"
     ]
    }
   ],
   "source": [
    "def deprecated(func):\n",
    "    print(\"Decorator created!\")\n",
    "    def wrapper(*args, **kwargs):\n",
    "        print(\"Function {} is deprecated!\".format(func.__name__))\n",
    "        return func(*args, **kwargs)\n",
    "    return wrapper\n",
    "\n",
    "@deprecated\n",
    "def f(x):\n",
    "    return x"
   ]
  },
  {
   "cell_type": "code",
   "execution_count": 252,
   "metadata": {
    "collapsed": false,
    "deletable": true,
    "editable": true
   },
   "outputs": [
    {
     "name": "stdout",
     "output_type": "stream",
     "text": [
      "Function f is deprecated!\n"
     ]
    },
    {
     "data": {
      "text/plain": [
       "10"
      ]
     },
     "execution_count": 252,
     "metadata": {},
     "output_type": "execute_result"
    }
   ],
   "source": [
    "f(10)"
   ]
  },
  {
   "cell_type": "markdown",
   "metadata": {
    "deletable": true,
    "editable": true
   },
   "source": [
    "### Проблема с использованием декораторов:"
   ]
  },
  {
   "cell_type": "code",
   "execution_count": 254,
   "metadata": {
    "collapsed": false,
    "deletable": true,
    "editable": true
   },
   "outputs": [
    {
     "name": "stdout",
     "output_type": "stream",
     "text": [
      "Decorator created!\n"
     ]
    },
    {
     "data": {
      "text/plain": [
       "'wrapper'"
      ]
     },
     "execution_count": 254,
     "metadata": {},
     "output_type": "execute_result"
    }
   ],
   "source": [
    "@deprecated\n",
    "def f(x):\n",
    "    return x\n",
    "f.__name__"
   ]
  },
  {
   "cell_type": "markdown",
   "metadata": {
    "deletable": true,
    "editable": true
   },
   "source": [
    "### Решение: functools"
   ]
  },
  {
   "cell_type": "code",
   "execution_count": 271,
   "metadata": {
    "collapsed": true,
    "deletable": true,
    "editable": true
   },
   "outputs": [],
   "source": [
    "import functools\n",
    "\n",
    "def deprecated(func):\n",
    "    @functools.wraps(func)\n",
    "    def wrapper(*args, **kwargs):\n",
    "        print(\"Function {} is deprecated!\".format(func.__name__))\n",
    "        return func(*args, **kwargs)\n",
    "    return wrapper\n",
    "\n",
    "@deprecated\n",
    "def f(x):\n",
    "    return x"
   ]
  },
  {
   "cell_type": "code",
   "execution_count": 272,
   "metadata": {
    "collapsed": false,
    "deletable": true,
    "editable": true
   },
   "outputs": [
    {
     "data": {
      "text/plain": [
       "'f'"
      ]
     },
     "execution_count": 272,
     "metadata": {},
     "output_type": "execute_result"
    }
   ],
   "source": [
    "f.__name__"
   ]
  },
  {
   "cell_type": "markdown",
   "metadata": {
    "deletable": true,
    "editable": true
   },
   "source": [
    "### Декораторы с аргументами"
   ]
  },
  {
   "cell_type": "code",
   "execution_count": 279,
   "metadata": {
    "collapsed": false,
    "deletable": true,
    "editable": true
   },
   "outputs": [
    {
     "name": "stdout",
     "output_type": "stream",
     "text": [
      "Decorator creater!\n",
      "Decorator created!\n"
     ]
    }
   ],
   "source": [
    "import sys\n",
    "import functools\n",
    "\n",
    "def decorator_maker(dest=sys.stdout):\n",
    "    print(\"Decorator creater!\")\n",
    "    def deprecated(func):\n",
    "        print(\"Decorator created!\")\n",
    "        @functools.wraps(func)\n",
    "        def wrapper(*args, **kwargs):\n",
    "            print(\"Function {} is deprecated!\".format(func.__name__), file=dest)\n",
    "            return func(*args, **kwargs)\n",
    "        return wrapper\n",
    "    return deprecated\n",
    "\n",
    "@decorator_maker(sys.stderr)\n",
    "def f(x):\n",
    "    print(x)"
   ]
  },
  {
   "cell_type": "code",
   "execution_count": 280,
   "metadata": {
    "collapsed": false,
    "deletable": true,
    "editable": true
   },
   "outputs": [
    {
     "name": "stdout",
     "output_type": "stream",
     "text": [
      "1\n"
     ]
    },
    {
     "name": "stderr",
     "output_type": "stream",
     "text": [
      "Function f is deprecated!\n"
     ]
    }
   ],
   "source": [
    "f(1)"
   ]
  },
  {
   "cell_type": "markdown",
   "metadata": {
    "deletable": true,
    "editable": true
   },
   "source": [
    "### Классы декораторы"
   ]
  },
  {
   "cell_type": "code",
   "execution_count": 289,
   "metadata": {
    "collapsed": true,
    "deletable": true,
    "editable": true
   },
   "outputs": [],
   "source": [
    "class Logger(object):\n",
    "    def __init__(self, func):\n",
    "        self.func = func\n",
    "        self.log = []\n",
    "    def __call__(self, *args, **kwargs):\n",
    "        self.log.append((args, kwargs))\n",
    "        return self.func(*args, **kwargs)\n",
    "    pass\n",
    "\n",
    "@Logger\n",
    "def f(x, y=1):\n",
    "    return x * y"
   ]
  },
  {
   "cell_type": "code",
   "execution_count": 291,
   "metadata": {
    "collapsed": false,
    "deletable": true,
    "editable": true
   },
   "outputs": [
    {
     "data": {
      "text/plain": [
       "2"
      ]
     },
     "execution_count": 291,
     "metadata": {},
     "output_type": "execute_result"
    }
   ],
   "source": [
    "f(1, 2)"
   ]
  },
  {
   "cell_type": "code",
   "execution_count": 292,
   "metadata": {
    "collapsed": false,
    "deletable": true,
    "editable": true
   },
   "outputs": [
    {
     "data": {
      "text/plain": [
       "[((1, 2), {})]"
      ]
     },
     "execution_count": 292,
     "metadata": {},
     "output_type": "execute_result"
    }
   ],
   "source": [
    "f.log"
   ]
  },
  {
   "cell_type": "markdown",
   "metadata": {
    "deletable": true,
    "editable": true
   },
   "source": [
    "### Множественные декораторы"
   ]
  },
  {
   "cell_type": "code",
   "execution_count": 303,
   "metadata": {
    "collapsed": false,
    "deletable": true,
    "editable": true
   },
   "outputs": [],
   "source": [
    "import sys\n",
    "import functools\n",
    "\n",
    "def decorator_maker(dest=sys.stdout):\n",
    "    def deprecated(func):\n",
    "        @functools.wraps(func)\n",
    "        def wrapper(*args, **kwargs):\n",
    "            print(\"Function {} is deprecated!\".format(func.__name__), file=dest)\n",
    "            return func(*args, **kwargs)\n",
    "        return wrapper\n",
    "    return deprecated\n",
    "\n",
    "\n",
    "class Logger(object):\n",
    "    def __init__(self, func):\n",
    "        self.func = func\n",
    "        self.log = []\n",
    "\n",
    "    def __call__(self, *args, **kwargs):\n",
    "        self.log.append((args, kwargs))\n",
    "        return self.func(*args, **kwargs)\n",
    "\n",
    "@Logger\n",
    "@decorator_maker(sys.stderr)\n",
    "def f(x):\n",
    "    print(x)"
   ]
  },
  {
   "cell_type": "code",
   "execution_count": 297,
   "metadata": {
    "collapsed": false,
    "deletable": true,
    "editable": true
   },
   "outputs": [
    {
     "name": "stdout",
     "output_type": "stream",
     "text": [
      "1\n"
     ]
    },
    {
     "name": "stderr",
     "output_type": "stream",
     "text": [
      "Function f is deprecated!\n"
     ]
    }
   ],
   "source": [
    "f(1)"
   ]
  },
  {
   "cell_type": "code",
   "execution_count": 304,
   "metadata": {
    "collapsed": false,
    "deletable": true,
    "editable": true
   },
   "outputs": [
    {
     "data": {
      "text/plain": [
       "'f'"
      ]
     },
     "execution_count": 304,
     "metadata": {},
     "output_type": "execute_result"
    }
   ],
   "source": [
    "f"
   ]
  },
  {
   "cell_type": "markdown",
   "metadata": {
    "deletable": true,
    "editable": true
   },
   "source": [
    "### Декораторы внутри классов"
   ]
  },
  {
   "cell_type": "code",
   "execution_count": 330,
   "metadata": {
    "collapsed": false,
    "deletable": true,
    "editable": true
   },
   "outputs": [],
   "source": [
    "def decorator_maker(dest=sys.stderr):\n",
    "    def deprecated(func):\n",
    "        @functools.wraps(func)\n",
    "        def wrapper(*args, **kwargs):\n",
    "            print(\"Function {} is deprecated!\".format(func.__name__), file=dest)\n",
    "            return func(*args, **kwargs)\n",
    "        return wrapper\n",
    "    return deprecated\n",
    "\n",
    "class TestClass1(object):\n",
    "    \n",
    "    def __init__(self):\n",
    "        self.__name__ = \"Changed name\"\n",
    "    \n",
    "    @classmethod\n",
    "    def get_class_name(cls):\n",
    "        return cls.__name__\n",
    "    \n",
    "    @staticmethod\n",
    "    @decorator_maker()\n",
    "    def add_numbers(x, y):\n",
    "        return x + y\n",
    "\n",
    "class TestClass2(TestClass1):\n",
    "    pass\n",
    "\n",
    "cls1 = TestClass1()\n",
    "cls2 = TestClass2()"
   ]
  },
  {
   "cell_type": "code",
   "execution_count": 331,
   "metadata": {
    "collapsed": false,
    "deletable": true,
    "editable": true
   },
   "outputs": [
    {
     "data": {
      "text/plain": [
       "('TestClass1', 'TestClass2')"
      ]
     },
     "execution_count": 331,
     "metadata": {},
     "output_type": "execute_result"
    }
   ],
   "source": [
    "cls1.get_class_name(), cls2.get_class_name()"
   ]
  },
  {
   "cell_type": "code",
   "execution_count": 332,
   "metadata": {
    "collapsed": false,
    "deletable": true,
    "editable": true
   },
   "outputs": [
    {
     "data": {
      "text/plain": [
       "('Changed name', 'Changed name')"
      ]
     },
     "execution_count": 332,
     "metadata": {},
     "output_type": "execute_result"
    }
   ],
   "source": [
    "cls1.__name__, cls2.__name__"
   ]
  },
  {
   "cell_type": "code",
   "execution_count": 333,
   "metadata": {
    "collapsed": false,
    "deletable": true,
    "editable": true
   },
   "outputs": [
    {
     "name": "stderr",
     "output_type": "stream",
     "text": [
      "Function add_numbers is deprecated!\n"
     ]
    },
    {
     "data": {
      "text/plain": [
       "4"
      ]
     },
     "execution_count": 333,
     "metadata": {},
     "output_type": "execute_result"
    }
   ],
   "source": [
    "cls1.add_numbers(1, 3)"
   ]
  },
  {
   "cell_type": "code",
   "execution_count": 334,
   "metadata": {
    "collapsed": false,
    "deletable": true,
    "editable": true
   },
   "outputs": [
    {
     "name": "stderr",
     "output_type": "stream",
     "text": [
      "Function add_numbers is deprecated!\n"
     ]
    },
    {
     "data": {
      "text/plain": [
       "4"
      ]
     },
     "execution_count": 334,
     "metadata": {},
     "output_type": "execute_result"
    }
   ],
   "source": [
    "cls2.add_numbers(1, 3)"
   ]
  },
  {
   "cell_type": "markdown",
   "metadata": {
    "deletable": true,
    "editable": true
   },
   "source": [
    "### Декорирование класса"
   ]
  },
  {
   "cell_type": "code",
   "execution_count": 2,
   "metadata": {
    "collapsed": true
   },
   "outputs": [],
   "source": [
    "import functools"
   ]
  },
  {
   "cell_type": "code",
   "execution_count": 3,
   "metadata": {
    "collapsed": false,
    "deletable": true,
    "editable": true
   },
   "outputs": [
    {
     "data": {
      "text/plain": [
       "True"
      ]
     },
     "execution_count": 3,
     "metadata": {},
     "output_type": "execute_result"
    }
   ],
   "source": [
    "def singleton(cls):\n",
    "    instance = None\n",
    "    @functools.wraps(cls)\n",
    "    def inner(*args, **kwargs):\n",
    "        nonlocal instance\n",
    "        if instance is None:\n",
    "            instance = cls(*args, **kwargs)\n",
    "        return instance\n",
    "    return inner\n",
    "\n",
    "@singleton\n",
    "class A:\n",
    "    \"nothing\"\n",
    "A() is A()"
   ]
  },
  {
   "cell_type": "markdown",
   "metadata": {
    "deletable": true,
    "editable": true
   },
   "source": [
    "#### Добавление метода в класс"
   ]
  },
  {
   "cell_type": "code",
   "execution_count": 4,
   "metadata": {
    "collapsed": false,
    "deletable": true,
    "editable": true
   },
   "outputs": [],
   "source": [
    "def class_dec(cls):\n",
    "    class ClassWrapper(cls):\n",
    "        def add(self, x, y):\n",
    "            return x + y\n",
    "    return ClassWrapper\n",
    " \n",
    "@class_dec\n",
    "class BinaryOperation(object):\n",
    "    def mul(self, x, y):\n",
    "        return x * y\n",
    "    pass"
   ]
  },
  {
   "cell_type": "code",
   "execution_count": 6,
   "metadata": {
    "collapsed": true,
    "deletable": true,
    "editable": true
   },
   "outputs": [],
   "source": [
    "b = BinaryOperation()"
   ]
  },
  {
   "cell_type": "code",
   "execution_count": 7,
   "metadata": {
    "collapsed": false,
    "deletable": true,
    "editable": true
   },
   "outputs": [
    {
     "data": {
      "text/plain": [
       "__main__.class_dec.<locals>.ClassWrapper"
      ]
     },
     "execution_count": 7,
     "metadata": {},
     "output_type": "execute_result"
    }
   ],
   "source": [
    "b.__class__"
   ]
  },
  {
   "cell_type": "code",
   "execution_count": 8,
   "metadata": {
    "collapsed": false,
    "deletable": true,
    "editable": true
   },
   "outputs": [
    {
     "ename": "AttributeError",
     "evalue": "'mappingproxy' object has no attribute 'update'",
     "output_type": "error",
     "traceback": [
      "\u001b[0;31m---------------------------------------------------------------------------\u001b[0m",
      "\u001b[0;31mAttributeError\u001b[0m                            Traceback (most recent call last)",
      "\u001b[0;32m<ipython-input-8-0569ffba77c4>\u001b[0m in \u001b[0;36m<module>\u001b[0;34m()\u001b[0m\n\u001b[1;32m      7\u001b[0m \u001b[0;34m\u001b[0m\u001b[0m\n\u001b[1;32m      8\u001b[0m \u001b[0;34m@\u001b[0m\u001b[0mclass_dec\u001b[0m\u001b[0;34m\u001b[0m\u001b[0m\n\u001b[0;32m----> 9\u001b[0;31m \u001b[0;32mclass\u001b[0m \u001b[0mBinaryOperation\u001b[0m\u001b[0;34m(\u001b[0m\u001b[0mobject\u001b[0m\u001b[0;34m)\u001b[0m\u001b[0;34m:\u001b[0m\u001b[0;34m\u001b[0m\u001b[0m\n\u001b[0m\u001b[1;32m     10\u001b[0m     \u001b[0;32mdef\u001b[0m \u001b[0mmul\u001b[0m\u001b[0;34m(\u001b[0m\u001b[0mself\u001b[0m\u001b[0;34m,\u001b[0m \u001b[0mx\u001b[0m\u001b[0;34m,\u001b[0m \u001b[0my\u001b[0m\u001b[0;34m)\u001b[0m\u001b[0;34m:\u001b[0m\u001b[0;34m\u001b[0m\u001b[0m\n\u001b[1;32m     11\u001b[0m         \u001b[0;32mreturn\u001b[0m \u001b[0mx\u001b[0m \u001b[0;34m*\u001b[0m \u001b[0my\u001b[0m\u001b[0;34m\u001b[0m\u001b[0m\n",
      "\u001b[0;32m<ipython-input-8-0569ffba77c4>\u001b[0m in \u001b[0;36mclass_dec\u001b[0;34m(cls)\u001b[0m\n\u001b[1;32m      1\u001b[0m \u001b[0;32mdef\u001b[0m \u001b[0mclass_dec\u001b[0m\u001b[0;34m(\u001b[0m\u001b[0mcls\u001b[0m\u001b[0;34m)\u001b[0m\u001b[0;34m:\u001b[0m\u001b[0;34m\u001b[0m\u001b[0m\n\u001b[1;32m      2\u001b[0m     \u001b[0;34m@\u001b[0m\u001b[0mfunctools\u001b[0m\u001b[0;34m.\u001b[0m\u001b[0mwraps\u001b[0m\u001b[0;34m(\u001b[0m\u001b[0mcls\u001b[0m\u001b[0;34m)\u001b[0m\u001b[0;34m\u001b[0m\u001b[0m\n\u001b[0;32m----> 3\u001b[0;31m     \u001b[0;32mclass\u001b[0m \u001b[0mClassWrapper\u001b[0m\u001b[0;34m(\u001b[0m\u001b[0mcls\u001b[0m\u001b[0;34m)\u001b[0m\u001b[0;34m:\u001b[0m\u001b[0;34m\u001b[0m\u001b[0m\n\u001b[0m\u001b[1;32m      4\u001b[0m         \u001b[0;32mdef\u001b[0m \u001b[0madd\u001b[0m\u001b[0;34m(\u001b[0m\u001b[0mself\u001b[0m\u001b[0;34m,\u001b[0m \u001b[0mx\u001b[0m\u001b[0;34m,\u001b[0m \u001b[0my\u001b[0m\u001b[0;34m)\u001b[0m\u001b[0;34m:\u001b[0m\u001b[0;34m\u001b[0m\u001b[0m\n\u001b[1;32m      5\u001b[0m             \u001b[0;32mreturn\u001b[0m \u001b[0mx\u001b[0m \u001b[0;34m+\u001b[0m \u001b[0my\u001b[0m\u001b[0;34m\u001b[0m\u001b[0m\n",
      "\u001b[0;32m/usr/lib/python3.4/functools.py\u001b[0m in \u001b[0;36mupdate_wrapper\u001b[0;34m(wrapper, wrapped, assigned, updated)\u001b[0m\n\u001b[1;32m     64\u001b[0m             \u001b[0msetattr\u001b[0m\u001b[0;34m(\u001b[0m\u001b[0mwrapper\u001b[0m\u001b[0;34m,\u001b[0m \u001b[0mattr\u001b[0m\u001b[0;34m,\u001b[0m \u001b[0mvalue\u001b[0m\u001b[0;34m)\u001b[0m\u001b[0;34m\u001b[0m\u001b[0m\n\u001b[1;32m     65\u001b[0m     \u001b[0;32mfor\u001b[0m \u001b[0mattr\u001b[0m \u001b[0;32min\u001b[0m \u001b[0mupdated\u001b[0m\u001b[0;34m:\u001b[0m\u001b[0;34m\u001b[0m\u001b[0m\n\u001b[0;32m---> 66\u001b[0;31m         \u001b[0mgetattr\u001b[0m\u001b[0;34m(\u001b[0m\u001b[0mwrapper\u001b[0m\u001b[0;34m,\u001b[0m \u001b[0mattr\u001b[0m\u001b[0;34m)\u001b[0m\u001b[0;34m.\u001b[0m\u001b[0mupdate\u001b[0m\u001b[0;34m(\u001b[0m\u001b[0mgetattr\u001b[0m\u001b[0;34m(\u001b[0m\u001b[0mwrapped\u001b[0m\u001b[0;34m,\u001b[0m \u001b[0mattr\u001b[0m\u001b[0;34m,\u001b[0m \u001b[0;34m{\u001b[0m\u001b[0;34m}\u001b[0m\u001b[0;34m)\u001b[0m\u001b[0;34m)\u001b[0m\u001b[0;34m\u001b[0m\u001b[0m\n\u001b[0m\u001b[1;32m     67\u001b[0m     \u001b[0;31m# Issue #17482: set __wrapped__ last so we don't inadvertently copy it\u001b[0m\u001b[0;34m\u001b[0m\u001b[0;34m\u001b[0m\u001b[0m\n\u001b[1;32m     68\u001b[0m     \u001b[0;31m# from the wrapped function when updating __dict__\u001b[0m\u001b[0;34m\u001b[0m\u001b[0;34m\u001b[0m\u001b[0m\n",
      "\u001b[0;31mAttributeError\u001b[0m: 'mappingproxy' object has no attribute 'update'"
     ]
    }
   ],
   "source": [
    "def class_dec(cls):\n",
    "    @functools.wraps(cls)\n",
    "    class ClassWrapper(cls):\n",
    "        def add(self, x, y):\n",
    "            return x + y\n",
    "    return ClassWrapper\n",
    " \n",
    "@class_dec\n",
    "class BinaryOperation(object):\n",
    "    def mul(self, x, y):\n",
    "        return x * y\n",
    "    pass"
   ]
  },
  {
   "cell_type": "code",
   "execution_count": null,
   "metadata": {
    "collapsed": true,
    "deletable": true,
    "editable": true
   },
   "outputs": [],
   "source": []
  }
 ],
 "metadata": {
  "kernelspec": {
   "display_name": "Python 3",
   "language": "python",
   "name": "python3"
  },
  "language_info": {
   "codemirror_mode": {
    "name": "ipython",
    "version": 3
   },
   "file_extension": ".py",
   "mimetype": "text/x-python",
   "name": "python",
   "nbconvert_exporter": "python",
   "pygments_lexer": "ipython3",
   "version": "3.4.2"
  }
 },
 "nbformat": 4,
 "nbformat_minor": 2
}
