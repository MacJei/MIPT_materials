{
 "cells": [
  {
   "cell_type": "markdown",
   "metadata": {
    "deletable": true,
    "editable": true
   },
   "source": [
    "<span style=\"font-size: 14pt\">Домашнее задание №1 </span>\n",
    "\n",
    "<span style=\"color: red; font-size: 14pt\">Deadline: 27.02.2018 23:59:59</span>\n",
    "\n",
    "<span style=\"font-size: 10pt\">ФИВТ, АПТ, Курс по машинному обучению, Весна 2018</span>\n",
    "\n",
    "<span style=\"color:blue; font-size: 10pt\">Alexey Romanenko, </span>\n",
    "<span style=\"color:blue; font-size: 10pt; font-family: 'Verdana'\">alexromsput@gmail.com</span>\n"
   ]
  },
  {
   "cell_type": "markdown",
   "metadata": {
    "deletable": true,
    "editable": true
   },
   "source": [
    "<h1 align=\"center\">Organization Info</h1> "
   ]
  },
  {
   "cell_type": "markdown",
   "metadata": {
    "deletable": true,
    "editable": true
   },
   "source": [
    "**Дополнительный материал для выполнения дз**:\n",
    "- Воронцов К. В. Математические методы обучения по прецедентам. 2012. \n",
    "- Мерков А. Б. Распознавание образов. Введение в методы статистического обучения. Едиториал УРСС. 2011. 256 стр.\n",
    "- Hastie T., Tibshirani R., Friedman J. The Elements of Statistical Learning. Springer: Data Mining, Inference, and Prediction. — 2nd ed. — Springer-Verlag. 2009. — 746 p.\n",
    "- C. M. Bishop. Pattern Recognition and Machine Learning. — Springer, Series: Information Science and Statistics. 2006. — 738 p.\n",
    "\n",
    "**Оформление дз**: \n",
    "- Присылайте выполненное задание на почту ``ml.course.mipt@gmail.com``\n",
    "- Укажите тему письма в следующем формате ``ML2018_fall <номер_группы> <фамилия>``, к примеру -- ``ML2018_fall 596 ivanov``\n",
    "- Выполненное дз сохраните в файл ``ML2018_<фамилия>_<группа>_task<номер задания>.ipnb``, к примеру -- ``ML2018_ivanov_596_task1.ipnb``\n",
    "\n",
    "**Вопросы**:\n",
    "- Присылайте вопросы на почту ``ml.course.mipt@gmail.com``\n",
    "- Укажите тему письма в следующем формате ``ML2018_fall Question <Содержание вопроса>``\n",
    "\n",
    "--------\n",
    "- **PS1**: Используются автоматические фильтры, и просто не найдем ваше дз, если вы неаккуратно его подпишите.\n",
    "- **PS2**: Просроченный дедлайн снижает максимальный вес задания по формуле, указнной на первом семинаре\n",
    "- **PS3**: Допустимы исправление кода предложенного кода ниже, если вы считаете"
   ]
  },
  {
   "cell_type": "markdown",
   "metadata": {
    "deletable": true,
    "editable": true
   },
   "source": [
    "<h1 align=\"center\"> Вопросы для самоконтроля </h1> \n",
    "\n",
    "Ниже приводится список вопросов, с ответами на которые может быть полезно разобраться для комфортного выполнения задания.\n",
    "\n",
    "* Основные понятия\n",
    "    1. Что такое задачи классификации, кластеризации и регрессии? Какие из них относятся к supervised learning, а какие - к unsupervised learning?\n",
    "    2. Что такое переобучение и недообучение? Как их можно детектировать?\n",
    "    3. Что такое обучающая и тестовая выборки, кросс-валидация? Как устроена k-fold cross validation?\n",
    "    4. Разложение ошибки метода обучения на bias и Variance: как ведут себя обе величины, когда увеличивается сложность семейства настраиваемых алгоритмов?\n",
    "\n",
    "\n",
    "* Простые методы\n",
    "    1. Как работает kNN в задаче классификации?\n",
    "    2. Как работает kNN с весами объектов в задаче классификации и в задаче регрессии?\n",
    "    3. Как работает наивный байесовский классификатор, в чем заключается его \"наивность\"?\n",
    "    4. Как приближается исходная зависимость y от x в линейной регрессии и как настраиваются веса в ней?\n",
    "    5. В чем суть проклятия размерности?\n",
    "\n",
    "\n",
    "* Измерение ошибки/точности в задачах классификации и регрессии\n",
    "    1. Как вычисляются и в каких задачах (классификации/регрессии) применяются метрики:\n",
    "    accuracy, precision, recall, F1-measure, ROC-AUC, PR-AUC, MSE, MAE, RMSE?\n",
    "    2. Решается задача бинарной классификации (с двумя классами - 0 и 1), в которой при-\n",
    "    меры из класса 0 составляют 95% выборки. Какие метрики из перечисленных в преды-\n",
    "    дущем вопросе предпочтительней использовать?\n",
    "    3. К оценке какой величины для распределения y при условии x приводят MSE и MAE?\n",
    "    4. Какая из метрик должня использоваться в задаче регрессии, чтобы ответ был равен медиане распределения прогнозируемой случайно величины?\n",
    "\n",
    "\n",
    "* Python, numpy, scipy, matplotlib, sklearn, pandas\n",
    "    1. Типы данных list, tuple, dict, set, str, unicode, hashable и unhashable. \n",
    "    2. Зачем нужны numpy и scipy? Какой тип данных в numpy используется для работы с\n",
    "    многомерными массивами? Отличия в индексации двумерного ndarray и списка списков.\n",
    "    3. Как в scipy решить численно несложную оптимизационную задачу? Какие методы оп-\n",
    "    тимизации в нем представлены?\n",
    "    4. Как по списку значений x и списку значений y в этих точках построить график y(x) в\n",
    "    matplotlib?\n",
    "    5. Как в sklearn обучить модель на обучающей выборке и получить прогнозы на тестовой?\n",
    "    6. Какие есть средства для измерения качества модели в sklearn? Как посчтитать качество\n",
    "    в k-fold cross validation?\n",
    "    7. Какие метрики можно использовать в cross_val_score из sklearn?\n",
    "    8. Как считать выборку из csv в pandas DataFrame? А как записать DataFrame в файл? Как\n",
    "    указывать при чтении/записи кодировку, используемые разделители, наличие/отсутствие\n",
    "    заголовков у колонок?"
   ]
  },
  {
   "cell_type": "markdown",
   "metadata": {
    "deletable": true,
    "editable": true
   },
   "source": [
    "<h1 align=\"center\">Теоретические вопросы (2 балла) </h1> "
   ]
  },
  {
   "cell_type": "markdown",
   "metadata": {
    "deletable": true,
    "editable": true
   },
   "source": [
    "** Задача 1**\n",
    "Покажите, что ROC-AUC  в случае, когда классификатор даёт случайные ответы $a(x) = 1$ с вероятностью $p$ и $a(x) = 0$ с вероятностью $1 − p$, будет в среднем равен 0.5 независимо от p и доли класса 1 в обучающей выборке."
   ]
  },
  {
   "cell_type": "markdown",
   "metadata": {
    "deletable": true,
    "editable": true
   },
   "source": [
    "** Решение задачи 1.**\n",
    "В данном случае ответ алгоритма бинарный ($a(x)=1$ или $a(x)=0$), поэтому кривая ROC будет проводиться по трем точкам: $(0,0), (FPR, TPR), (1, 1)$, где $FPR$ - False positive rate - число ложно положительных решений, $TPR$ - True positive rate - число истинно положительных решений. Выходит, что для решения задачи необходимо найти значения двух этих параметров.\n",
    "\n",
    "Веедем обозначения: $P$ - Positive, $N$ - Negative, $T$ - True, $F$ - False. Тогда $PT$ - число истинно положительных определенных элементов и тд еще три комбинации.\n",
    "$$\n",
    "FPR = \\frac{FP}{FP + TN} \\\\\n",
    "TPR = \\frac{PT}{PT + FN} \n",
    "$$\n",
    "Пусть $N_+$ число элементов из положительного класса, а $N_-$ из отрицательного. Тогда $N_+ +N_-=N$ - общее число элементов выборки.\n",
    "\n",
    "$$\n",
    "FP = pN_- \\\\\n",
    "TN = (1-p)N_- \\\\\n",
    "PT = pN_+ \\\\\n",
    "FN = (1-p)N_+\n",
    "$$\n",
    "\n",
    "Отсюда очевидно, что $FPR$ и $TPR$ равняются $p$. Выходит, что точка $(FPR,TPR)$ лежит на прямой $y=x$. Площадь под такой прямой на отрезке $[0;1]$ раняется $\\frac{1}{2}$ независимо от $p$ и долей классов, чтд."
   ]
  },
  {
   "cell_type": "markdown",
   "metadata": {
    "deletable": true,
    "editable": true
   },
   "source": [
    "** Задача 2**\n",
    "Покажите, что с ростом размерности пространства признаков при равномерном распределении точек в кубе $[0; 1]^𝑑$ вероятность попасть в куб $[0; 0, 99]^𝑑$ стремится к нулю. Это одна из иллюстраций проклятия размерностей (dimension curse). Попробуйте придумать или найти еще какую-нибудь иллюстрацию к этому явлению и кратко изложить."
   ]
  },
  {
   "cell_type": "markdown",
   "metadata": {
    "deletable": true,
    "editable": true
   },
   "source": [
    "**Решение задачи 2.**\n",
    "В данном случае вероятность найти точку в кубе $[0;0,99]^d$ находится как геометрическая вероятность: $P(x \\in [0;0,99]^d)=\\frac{0,99^d}{1}$, что в пределе при $d \\to \\infty$ даст $0$.\n",
    "\n",
    "Пример. Рассмотрим единичный отрезок $[0;1]$. Чтобы равномерно покрыть этот отрезок с частотой не менее $0,01$ будет достаточно $100$ точек. Теперь резко увеличим размерность нашего пространства до $10$, т.е. рассматриваем куб $[0;1]^10$. Чтобы покрыть его с той же частотой уже необходимо $10^{20}$ точек. Использование в таком случае переборных алгоритмов становится неактуальным, ибо слишком долго будет считаться."
   ]
  },
  {
   "cell_type": "markdown",
   "metadata": {
    "collapsed": true,
    "deletable": true,
    "editable": true
   },
   "source": [
    "<h1 align=\"center\">Исследуйте зависимость Bias-Variance для kNN (3 балла) </h1> "
   ]
  },
  {
   "cell_type": "markdown",
   "metadata": {
    "deletable": true,
    "editable": true
   },
   "source": [
    "Используя данные из задачи классификации доходов индивидуума http://archive.ics.uci.edu/ml/machine-learning-databases/adult, постройте зависимость величин bias, variance и <span style=\"color:red\">**???!!?!? noise ??!?!**</span> (скорее всего тут должно быть написать error, так как на noise мы не можем повлиять) для следующих пар \"модель|параметр\".\n",
    "Предобработка данных (преобразование признаков, разметка классов) определяется вами. \n",
    "\n",
    "* kNN, $n\\_neigbours$ - число соседей при классификации;\n",
    "* $p$ - степень метрики Минковского;\n",
    "* $\\ell\\_train$ - длина обучающий выборки;\n",
    "\n",
    "\n",
    "По каждому построенному графику (для каждого параметра должен быть отдельный график) объясните полученную картину. Совпадает ли она с теоретическими ожиданиями (см. семинар 2)?"
   ]
  },
  {
   "cell_type": "code",
   "execution_count": 1,
   "metadata": {
    "collapsed": true,
    "deletable": true,
    "editable": true
   },
   "outputs": [],
   "source": [
    "#Подключаем все модули\n",
    "import numpy as np\n",
    "from tqdm import tqdm\n",
    "import pandas\n",
    "from collections import defaultdict\n",
    "\n",
    "from sklearn.neighbors import KNeighborsClassifier\n",
    "from sklearn.preprocessing import LabelEncoder\n",
    "from sklearn.model_selection import train_test_split\n",
    "\n",
    "import matplotlib.pyplot as plt\n",
    "%matplotlib inline\n",
    "\n",
    "import warnings\n",
    "warnings.simplefilter(\"ignore\")"
   ]
  },
  {
   "cell_type": "code",
   "execution_count": 2,
   "metadata": {
    "collapsed": false,
    "deletable": true,
    "editable": true
   },
   "outputs": [
    {
     "name": "stdout",
     "output_type": "stream",
     "text": [
      "done\n"
     ]
    }
   ],
   "source": [
    "#Загружаем датасеты\n",
    "#Загружаем данные\n",
    "data_frame = pandas.read_csv('http://archive.ics.uci.edu/ml/machine-learning-databases/adult/adult.data', header=None)\n",
    "\n",
    "columns = ('age workclass fnlwgt education educ-num marital-status occupation relationship '\n",
    "           'race sex capital-gain capital-loss  hours-per-week native-country salary')\n",
    "data_frame.columns = columns.split()\n",
    "print('done')"
   ]
  },
  {
   "cell_type": "markdown",
   "metadata": {
    "deletable": true,
    "editable": true
   },
   "source": [
    "### Исследуем датасет и преподготовим данные\n",
    "Пропуски в датасете заменены на '?'. Удалим все строки с пропусками"
   ]
  },
  {
   "cell_type": "code",
   "execution_count": 3,
   "metadata": {
    "collapsed": false,
    "deletable": true,
    "editable": true
   },
   "outputs": [
    {
     "name": "stdout",
     "output_type": "stream",
     "text": [
      "Lost 0.07953716597042637 % of dataset\n"
     ]
    }
   ],
   "source": [
    "init_count = data_frame['age'].count()\n",
    "data_frame.replace(' ?', np.nan, inplace=True)\n",
    "data_frame.dropna(inplace=True)\n",
    "final_count = data_frame['age'].count()\n",
    "print('Lost', (init_count - final_count) / final_count , '% of dataset')"
   ]
  },
  {
   "cell_type": "markdown",
   "metadata": {},
   "source": [
    "Посмотри так же на столбец fnlwgt. Оказывается значение этого столбца индивидуально для большей части выборки, поэтому логично будет дропнуть этот столбец."
   ]
  },
  {
   "cell_type": "code",
   "execution_count": 4,
   "metadata": {
    "collapsed": false,
    "deletable": true,
    "editable": true
   },
   "outputs": [
    {
     "data": {
      "text/html": [
       "<div>\n",
       "<style scoped>\n",
       "    .dataframe tbody tr th:only-of-type {\n",
       "        vertical-align: middle;\n",
       "    }\n",
       "\n",
       "    .dataframe tbody tr th {\n",
       "        vertical-align: top;\n",
       "    }\n",
       "\n",
       "    .dataframe thead th {\n",
       "        text-align: right;\n",
       "    }\n",
       "</style>\n",
       "<table border=\"1\" class=\"dataframe\">\n",
       "  <thead>\n",
       "    <tr style=\"text-align: right;\">\n",
       "      <th></th>\n",
       "      <th>age</th>\n",
       "    </tr>\n",
       "    <tr>\n",
       "      <th>fnlwgt</th>\n",
       "      <th></th>\n",
       "    </tr>\n",
       "  </thead>\n",
       "  <tbody>\n",
       "    <tr>\n",
       "      <th>13769</th>\n",
       "      <td>1</td>\n",
       "    </tr>\n",
       "    <tr>\n",
       "      <th>14878</th>\n",
       "      <td>1</td>\n",
       "    </tr>\n",
       "    <tr>\n",
       "      <th>18827</th>\n",
       "      <td>1</td>\n",
       "    </tr>\n",
       "    <tr>\n",
       "      <th>19214</th>\n",
       "      <td>1</td>\n",
       "    </tr>\n",
       "    <tr>\n",
       "      <th>19302</th>\n",
       "      <td>5</td>\n",
       "    </tr>\n",
       "    <tr>\n",
       "      <th>19395</th>\n",
       "      <td>2</td>\n",
       "    </tr>\n",
       "    <tr>\n",
       "      <th>19410</th>\n",
       "      <td>1</td>\n",
       "    </tr>\n",
       "    <tr>\n",
       "      <th>19491</th>\n",
       "      <td>1</td>\n",
       "    </tr>\n",
       "    <tr>\n",
       "      <th>19520</th>\n",
       "      <td>1</td>\n",
       "    </tr>\n",
       "    <tr>\n",
       "      <th>19700</th>\n",
       "      <td>1</td>\n",
       "    </tr>\n",
       "    <tr>\n",
       "      <th>19752</th>\n",
       "      <td>1</td>\n",
       "    </tr>\n",
       "    <tr>\n",
       "      <th>19847</th>\n",
       "      <td>2</td>\n",
       "    </tr>\n",
       "    <tr>\n",
       "      <th>19899</th>\n",
       "      <td>1</td>\n",
       "    </tr>\n",
       "    <tr>\n",
       "      <th>19914</th>\n",
       "      <td>4</td>\n",
       "    </tr>\n",
       "    <tr>\n",
       "      <th>20057</th>\n",
       "      <td>2</td>\n",
       "    </tr>\n",
       "    <tr>\n",
       "      <th>20098</th>\n",
       "      <td>1</td>\n",
       "    </tr>\n",
       "    <tr>\n",
       "      <th>20101</th>\n",
       "      <td>1</td>\n",
       "    </tr>\n",
       "    <tr>\n",
       "      <th>20109</th>\n",
       "      <td>1</td>\n",
       "    </tr>\n",
       "    <tr>\n",
       "      <th>20179</th>\n",
       "      <td>1</td>\n",
       "    </tr>\n",
       "    <tr>\n",
       "      <th>20296</th>\n",
       "      <td>1</td>\n",
       "    </tr>\n",
       "    <tr>\n",
       "      <th>20308</th>\n",
       "      <td>1</td>\n",
       "    </tr>\n",
       "    <tr>\n",
       "      <th>20323</th>\n",
       "      <td>1</td>\n",
       "    </tr>\n",
       "    <tr>\n",
       "      <th>20333</th>\n",
       "      <td>1</td>\n",
       "    </tr>\n",
       "    <tr>\n",
       "      <th>20438</th>\n",
       "      <td>1</td>\n",
       "    </tr>\n",
       "    <tr>\n",
       "      <th>20469</th>\n",
       "      <td>1</td>\n",
       "    </tr>\n",
       "    <tr>\n",
       "      <th>20507</th>\n",
       "      <td>1</td>\n",
       "    </tr>\n",
       "    <tr>\n",
       "      <th>20511</th>\n",
       "      <td>1</td>\n",
       "    </tr>\n",
       "    <tr>\n",
       "      <th>20534</th>\n",
       "      <td>3</td>\n",
       "    </tr>\n",
       "    <tr>\n",
       "      <th>20676</th>\n",
       "      <td>1</td>\n",
       "    </tr>\n",
       "    <tr>\n",
       "      <th>20728</th>\n",
       "      <td>1</td>\n",
       "    </tr>\n",
       "    <tr>\n",
       "      <th>...</th>\n",
       "      <td>...</td>\n",
       "    </tr>\n",
       "    <tr>\n",
       "      <th>761006</th>\n",
       "      <td>1</td>\n",
       "    </tr>\n",
       "    <tr>\n",
       "      <th>766115</th>\n",
       "      <td>1</td>\n",
       "    </tr>\n",
       "    <tr>\n",
       "      <th>767403</th>\n",
       "      <td>1</td>\n",
       "    </tr>\n",
       "    <tr>\n",
       "      <th>791084</th>\n",
       "      <td>1</td>\n",
       "    </tr>\n",
       "    <tr>\n",
       "      <th>795830</th>\n",
       "      <td>1</td>\n",
       "    </tr>\n",
       "    <tr>\n",
       "      <th>799281</th>\n",
       "      <td>1</td>\n",
       "    </tr>\n",
       "    <tr>\n",
       "      <th>806552</th>\n",
       "      <td>1</td>\n",
       "    </tr>\n",
       "    <tr>\n",
       "      <th>809585</th>\n",
       "      <td>1</td>\n",
       "    </tr>\n",
       "    <tr>\n",
       "      <th>816750</th>\n",
       "      <td>1</td>\n",
       "    </tr>\n",
       "    <tr>\n",
       "      <th>849857</th>\n",
       "      <td>1</td>\n",
       "    </tr>\n",
       "    <tr>\n",
       "      <th>857532</th>\n",
       "      <td>2</td>\n",
       "    </tr>\n",
       "    <tr>\n",
       "      <th>889965</th>\n",
       "      <td>1</td>\n",
       "    </tr>\n",
       "    <tr>\n",
       "      <th>910398</th>\n",
       "      <td>1</td>\n",
       "    </tr>\n",
       "    <tr>\n",
       "      <th>913447</th>\n",
       "      <td>1</td>\n",
       "    </tr>\n",
       "    <tr>\n",
       "      <th>917220</th>\n",
       "      <td>1</td>\n",
       "    </tr>\n",
       "    <tr>\n",
       "      <th>930948</th>\n",
       "      <td>1</td>\n",
       "    </tr>\n",
       "    <tr>\n",
       "      <th>953588</th>\n",
       "      <td>1</td>\n",
       "    </tr>\n",
       "    <tr>\n",
       "      <th>972354</th>\n",
       "      <td>1</td>\n",
       "    </tr>\n",
       "    <tr>\n",
       "      <th>1033222</th>\n",
       "      <td>2</td>\n",
       "    </tr>\n",
       "    <tr>\n",
       "      <th>1038553</th>\n",
       "      <td>1</td>\n",
       "    </tr>\n",
       "    <tr>\n",
       "      <th>1085515</th>\n",
       "      <td>1</td>\n",
       "    </tr>\n",
       "    <tr>\n",
       "      <th>1097453</th>\n",
       "      <td>1</td>\n",
       "    </tr>\n",
       "    <tr>\n",
       "      <th>1125613</th>\n",
       "      <td>1</td>\n",
       "    </tr>\n",
       "    <tr>\n",
       "      <th>1161363</th>\n",
       "      <td>1</td>\n",
       "    </tr>\n",
       "    <tr>\n",
       "      <th>1184622</th>\n",
       "      <td>1</td>\n",
       "    </tr>\n",
       "    <tr>\n",
       "      <th>1226583</th>\n",
       "      <td>1</td>\n",
       "    </tr>\n",
       "    <tr>\n",
       "      <th>1268339</th>\n",
       "      <td>1</td>\n",
       "    </tr>\n",
       "    <tr>\n",
       "      <th>1366120</th>\n",
       "      <td>1</td>\n",
       "    </tr>\n",
       "    <tr>\n",
       "      <th>1455435</th>\n",
       "      <td>1</td>\n",
       "    </tr>\n",
       "    <tr>\n",
       "      <th>1484705</th>\n",
       "      <td>1</td>\n",
       "    </tr>\n",
       "  </tbody>\n",
       "</table>\n",
       "<p>20263 rows × 1 columns</p>\n",
       "</div>"
      ],
      "text/plain": [
       "         age\n",
       "fnlwgt      \n",
       "13769      1\n",
       "14878      1\n",
       "18827      1\n",
       "19214      1\n",
       "19302      5\n",
       "19395      2\n",
       "19410      1\n",
       "19491      1\n",
       "19520      1\n",
       "19700      1\n",
       "19752      1\n",
       "19847      2\n",
       "19899      1\n",
       "19914      4\n",
       "20057      2\n",
       "20098      1\n",
       "20101      1\n",
       "20109      1\n",
       "20179      1\n",
       "20296      1\n",
       "20308      1\n",
       "20323      1\n",
       "20333      1\n",
       "20438      1\n",
       "20469      1\n",
       "20507      1\n",
       "20511      1\n",
       "20534      3\n",
       "20676      1\n",
       "20728      1\n",
       "...      ...\n",
       "761006     1\n",
       "766115     1\n",
       "767403     1\n",
       "791084     1\n",
       "795830     1\n",
       "799281     1\n",
       "806552     1\n",
       "809585     1\n",
       "816750     1\n",
       "849857     1\n",
       "857532     2\n",
       "889965     1\n",
       "910398     1\n",
       "913447     1\n",
       "917220     1\n",
       "930948     1\n",
       "953588     1\n",
       "972354     1\n",
       "1033222    2\n",
       "1038553    1\n",
       "1085515    1\n",
       "1097453    1\n",
       "1125613    1\n",
       "1161363    1\n",
       "1184622    1\n",
       "1226583    1\n",
       "1268339    1\n",
       "1366120    1\n",
       "1455435    1\n",
       "1484705    1\n",
       "\n",
       "[20263 rows x 1 columns]"
      ]
     },
     "execution_count": 4,
     "metadata": {},
     "output_type": "execute_result"
    }
   ],
   "source": [
    "data_frame.groupby('fnlwgt').count()[['age']]"
   ]
  },
  {
   "cell_type": "code",
   "execution_count": 5,
   "metadata": {
    "collapsed": false
   },
   "outputs": [
    {
     "data": {
      "text/html": [
       "<div>\n",
       "<style scoped>\n",
       "    .dataframe tbody tr th:only-of-type {\n",
       "        vertical-align: middle;\n",
       "    }\n",
       "\n",
       "    .dataframe tbody tr th {\n",
       "        vertical-align: top;\n",
       "    }\n",
       "\n",
       "    .dataframe thead th {\n",
       "        text-align: right;\n",
       "    }\n",
       "</style>\n",
       "<table border=\"1\" class=\"dataframe\">\n",
       "  <thead>\n",
       "    <tr style=\"text-align: right;\">\n",
       "      <th></th>\n",
       "      <th>age</th>\n",
       "      <th>workclass</th>\n",
       "      <th>education</th>\n",
       "      <th>educ-num</th>\n",
       "      <th>marital-status</th>\n",
       "      <th>occupation</th>\n",
       "      <th>relationship</th>\n",
       "      <th>race</th>\n",
       "      <th>sex</th>\n",
       "      <th>capital-gain</th>\n",
       "      <th>capital-loss</th>\n",
       "      <th>hours-per-week</th>\n",
       "      <th>native-country</th>\n",
       "      <th>salary</th>\n",
       "    </tr>\n",
       "  </thead>\n",
       "  <tbody>\n",
       "    <tr>\n",
       "      <th>0</th>\n",
       "      <td>39</td>\n",
       "      <td>State-gov</td>\n",
       "      <td>Bachelors</td>\n",
       "      <td>13</td>\n",
       "      <td>Never-married</td>\n",
       "      <td>Adm-clerical</td>\n",
       "      <td>Not-in-family</td>\n",
       "      <td>White</td>\n",
       "      <td>Male</td>\n",
       "      <td>2174</td>\n",
       "      <td>0</td>\n",
       "      <td>40</td>\n",
       "      <td>United-States</td>\n",
       "      <td>&lt;=50K</td>\n",
       "    </tr>\n",
       "    <tr>\n",
       "      <th>1</th>\n",
       "      <td>50</td>\n",
       "      <td>Self-emp-not-inc</td>\n",
       "      <td>Bachelors</td>\n",
       "      <td>13</td>\n",
       "      <td>Married-civ-spouse</td>\n",
       "      <td>Exec-managerial</td>\n",
       "      <td>Husband</td>\n",
       "      <td>White</td>\n",
       "      <td>Male</td>\n",
       "      <td>0</td>\n",
       "      <td>0</td>\n",
       "      <td>13</td>\n",
       "      <td>United-States</td>\n",
       "      <td>&lt;=50K</td>\n",
       "    </tr>\n",
       "    <tr>\n",
       "      <th>2</th>\n",
       "      <td>38</td>\n",
       "      <td>Private</td>\n",
       "      <td>HS-grad</td>\n",
       "      <td>9</td>\n",
       "      <td>Divorced</td>\n",
       "      <td>Handlers-cleaners</td>\n",
       "      <td>Not-in-family</td>\n",
       "      <td>White</td>\n",
       "      <td>Male</td>\n",
       "      <td>0</td>\n",
       "      <td>0</td>\n",
       "      <td>40</td>\n",
       "      <td>United-States</td>\n",
       "      <td>&lt;=50K</td>\n",
       "    </tr>\n",
       "    <tr>\n",
       "      <th>3</th>\n",
       "      <td>53</td>\n",
       "      <td>Private</td>\n",
       "      <td>11th</td>\n",
       "      <td>7</td>\n",
       "      <td>Married-civ-spouse</td>\n",
       "      <td>Handlers-cleaners</td>\n",
       "      <td>Husband</td>\n",
       "      <td>Black</td>\n",
       "      <td>Male</td>\n",
       "      <td>0</td>\n",
       "      <td>0</td>\n",
       "      <td>40</td>\n",
       "      <td>United-States</td>\n",
       "      <td>&lt;=50K</td>\n",
       "    </tr>\n",
       "    <tr>\n",
       "      <th>4</th>\n",
       "      <td>28</td>\n",
       "      <td>Private</td>\n",
       "      <td>Bachelors</td>\n",
       "      <td>13</td>\n",
       "      <td>Married-civ-spouse</td>\n",
       "      <td>Prof-specialty</td>\n",
       "      <td>Wife</td>\n",
       "      <td>Black</td>\n",
       "      <td>Female</td>\n",
       "      <td>0</td>\n",
       "      <td>0</td>\n",
       "      <td>40</td>\n",
       "      <td>Cuba</td>\n",
       "      <td>&lt;=50K</td>\n",
       "    </tr>\n",
       "  </tbody>\n",
       "</table>\n",
       "</div>"
      ],
      "text/plain": [
       "   age          workclass   education  educ-num       marital-status  \\\n",
       "0   39          State-gov   Bachelors        13        Never-married   \n",
       "1   50   Self-emp-not-inc   Bachelors        13   Married-civ-spouse   \n",
       "2   38            Private     HS-grad         9             Divorced   \n",
       "3   53            Private        11th         7   Married-civ-spouse   \n",
       "4   28            Private   Bachelors        13   Married-civ-spouse   \n",
       "\n",
       "           occupation    relationship    race      sex  capital-gain  \\\n",
       "0        Adm-clerical   Not-in-family   White     Male          2174   \n",
       "1     Exec-managerial         Husband   White     Male             0   \n",
       "2   Handlers-cleaners   Not-in-family   White     Male             0   \n",
       "3   Handlers-cleaners         Husband   Black     Male             0   \n",
       "4      Prof-specialty            Wife   Black   Female             0   \n",
       "\n",
       "   capital-loss  hours-per-week  native-country  salary  \n",
       "0             0              40   United-States   <=50K  \n",
       "1             0              13   United-States   <=50K  \n",
       "2             0              40   United-States   <=50K  \n",
       "3             0              40   United-States   <=50K  \n",
       "4             0              40            Cuba   <=50K  "
      ]
     },
     "execution_count": 5,
     "metadata": {},
     "output_type": "execute_result"
    }
   ],
   "source": [
    "data_frame.drop('fnlwgt', axis=1, inplace=True)\n",
    "data_frame.head()"
   ]
  },
  {
   "cell_type": "markdown",
   "metadata": {},
   "source": [
    "Закодируем теперь все категориальные признаки чсиловыми."
   ]
  },
  {
   "cell_type": "code",
   "execution_count": 6,
   "metadata": {
    "collapsed": false,
    "deletable": true,
    "editable": true
   },
   "outputs": [
    {
     "data": {
      "text/html": [
       "<div>\n",
       "<style scoped>\n",
       "    .dataframe tbody tr th:only-of-type {\n",
       "        vertical-align: middle;\n",
       "    }\n",
       "\n",
       "    .dataframe tbody tr th {\n",
       "        vertical-align: top;\n",
       "    }\n",
       "\n",
       "    .dataframe thead th {\n",
       "        text-align: right;\n",
       "    }\n",
       "</style>\n",
       "<table border=\"1\" class=\"dataframe\">\n",
       "  <thead>\n",
       "    <tr style=\"text-align: right;\">\n",
       "      <th></th>\n",
       "      <th>age</th>\n",
       "      <th>workclass</th>\n",
       "      <th>education</th>\n",
       "      <th>educ-num</th>\n",
       "      <th>marital-status</th>\n",
       "      <th>occupation</th>\n",
       "      <th>relationship</th>\n",
       "      <th>race</th>\n",
       "      <th>sex</th>\n",
       "      <th>capital-gain</th>\n",
       "      <th>capital-loss</th>\n",
       "      <th>hours-per-week</th>\n",
       "      <th>native-country</th>\n",
       "      <th>salary</th>\n",
       "    </tr>\n",
       "  </thead>\n",
       "  <tbody>\n",
       "    <tr>\n",
       "      <th>0</th>\n",
       "      <td>39</td>\n",
       "      <td>5</td>\n",
       "      <td>9</td>\n",
       "      <td>13</td>\n",
       "      <td>4</td>\n",
       "      <td>0</td>\n",
       "      <td>1</td>\n",
       "      <td>4</td>\n",
       "      <td>1</td>\n",
       "      <td>2174</td>\n",
       "      <td>0</td>\n",
       "      <td>40</td>\n",
       "      <td>38</td>\n",
       "      <td>0</td>\n",
       "    </tr>\n",
       "    <tr>\n",
       "      <th>1</th>\n",
       "      <td>50</td>\n",
       "      <td>4</td>\n",
       "      <td>9</td>\n",
       "      <td>13</td>\n",
       "      <td>2</td>\n",
       "      <td>3</td>\n",
       "      <td>0</td>\n",
       "      <td>4</td>\n",
       "      <td>1</td>\n",
       "      <td>0</td>\n",
       "      <td>0</td>\n",
       "      <td>13</td>\n",
       "      <td>38</td>\n",
       "      <td>0</td>\n",
       "    </tr>\n",
       "    <tr>\n",
       "      <th>2</th>\n",
       "      <td>38</td>\n",
       "      <td>2</td>\n",
       "      <td>11</td>\n",
       "      <td>9</td>\n",
       "      <td>0</td>\n",
       "      <td>5</td>\n",
       "      <td>1</td>\n",
       "      <td>4</td>\n",
       "      <td>1</td>\n",
       "      <td>0</td>\n",
       "      <td>0</td>\n",
       "      <td>40</td>\n",
       "      <td>38</td>\n",
       "      <td>0</td>\n",
       "    </tr>\n",
       "    <tr>\n",
       "      <th>3</th>\n",
       "      <td>53</td>\n",
       "      <td>2</td>\n",
       "      <td>1</td>\n",
       "      <td>7</td>\n",
       "      <td>2</td>\n",
       "      <td>5</td>\n",
       "      <td>0</td>\n",
       "      <td>2</td>\n",
       "      <td>1</td>\n",
       "      <td>0</td>\n",
       "      <td>0</td>\n",
       "      <td>40</td>\n",
       "      <td>38</td>\n",
       "      <td>0</td>\n",
       "    </tr>\n",
       "    <tr>\n",
       "      <th>4</th>\n",
       "      <td>28</td>\n",
       "      <td>2</td>\n",
       "      <td>9</td>\n",
       "      <td>13</td>\n",
       "      <td>2</td>\n",
       "      <td>9</td>\n",
       "      <td>5</td>\n",
       "      <td>2</td>\n",
       "      <td>0</td>\n",
       "      <td>0</td>\n",
       "      <td>0</td>\n",
       "      <td>40</td>\n",
       "      <td>4</td>\n",
       "      <td>0</td>\n",
       "    </tr>\n",
       "  </tbody>\n",
       "</table>\n",
       "</div>"
      ],
      "text/plain": [
       "   age  workclass  education  educ-num  marital-status  occupation  \\\n",
       "0   39          5          9        13               4           0   \n",
       "1   50          4          9        13               2           3   \n",
       "2   38          2         11         9               0           5   \n",
       "3   53          2          1         7               2           5   \n",
       "4   28          2          9        13               2           9   \n",
       "\n",
       "   relationship  race  sex  capital-gain  capital-loss  hours-per-week  \\\n",
       "0             1     4    1          2174             0              40   \n",
       "1             0     4    1             0             0              13   \n",
       "2             1     4    1             0             0              40   \n",
       "3             0     2    1             0             0              40   \n",
       "4             5     2    0             0             0              40   \n",
       "\n",
       "   native-country  salary  \n",
       "0              38       0  \n",
       "1              38       0  \n",
       "2              38       0  \n",
       "3              38       0  \n",
       "4               4       0  "
      ]
     },
     "execution_count": 6,
     "metadata": {},
     "output_type": "execute_result"
    }
   ],
   "source": [
    "#Закодируем категориальные признаки числовыми\n",
    "def number_encode_df(init_df):\n",
    "    encoders = {}\n",
    "    for column in init_df.columns:\n",
    "        if init_df.dtypes[column] == np.object:\n",
    "            encoders[column] = LabelEncoder()\n",
    "            init_df[column] = encoders[column].fit_transform(init_df[column])\n",
    "    return init_df, encoders\n",
    "\n",
    "data_frame, encoders_train = number_encode_df(data_frame)\n",
    "data_frame.head()"
   ]
  },
  {
   "cell_type": "markdown",
   "metadata": {},
   "source": [
    "Разобьем исходную выборку на тренировочную и тестовую, выделив перед этим матрицу признаков и целевой вектор. Затем соединим матрицу и вектор обратно."
   ]
  },
  {
   "cell_type": "code",
   "execution_count": 7,
   "metadata": {
    "collapsed": false
   },
   "outputs": [],
   "source": [
    "X = data_frame.iloc[:, 0:-1]\n",
    "Y = data_frame.iloc[:, -1]\n",
    "X_train_df, X_test_df, Y_train_df, Y_test_df = train_test_split(X, Y, test_size=0.3, random_state=10)\n",
    "train_df = pandas.concat([X_train_df, Y_train_df], axis=1)\n",
    "test_df = pandas.concat([X_test_df, Y_test_df], axis=1)"
   ]
  },
  {
   "cell_type": "markdown",
   "metadata": {},
   "source": [
    "Сделаем последние приготовления:\n",
    "* Объявим словарь параметров, изменяя которые будем наблюдать изменение bias var error\n",
    "* Сгенерируем случайные подвыборки с возвращением из исходного массива для исследования bias var error "
   ]
  },
  {
   "cell_type": "code",
   "execution_count": 13,
   "metadata": {
    "collapsed": false,
    "deletable": true,
    "editable": true
   },
   "outputs": [],
   "source": [
    "# Settings\n",
    "n_repeat = 100                # Number of iterations for computing expectations\n",
    "relative_test_size = 0.5      # (Relative) Size of the test set\n",
    "absolute_test_size = int(relative_test_size * len(test_df))\n",
    "\n",
    "# Исследуемая сетка параметров\n",
    "# пояснение: длина train выборки должна варьироваться от 50% до 200% относительно длины тестовой выборки  \n",
    "parameters = {\"k\": range(1, 20), \"p\":  np.arange(1, 10, 0.5), \"l_train\": np.arange(0.5, 2, 0.1)}\n",
    "\n",
    "# Для того чтобы оценить bias и variance, нужно сгенерировать случайные подвыборки с возвращением из исходного массива данных \n",
    "# (бутстрепинг)\n",
    "X_train = []\n",
    "Y_train = []\n",
    "for i in range(n_repeat):\n",
    "    sample_train = train_df.sample(n=absolute_test_size, replace=True)\n",
    "    X = sample_train.iloc[:, 0:-1]\n",
    "    Y = sample_train.iloc[:, -1]\n",
    "    X_train.append(X)\n",
    "    Y_train.append(Y)\n",
    "    \n",
    "sample_test = test_df.sample(n=absolute_test_size, replace=False)\n",
    "X_test = sample_test.iloc[:, 0:-1]\n",
    "Y_test = sample_test.iloc[:, -1]"
   ]
  },
  {
   "cell_type": "code",
   "execution_count": null,
   "metadata": {
    "collapsed": true
   },
   "outputs": [],
   "source": [
    "for parameter in tqdm(parameters['p']):\n",
    "    print(parameter)"
   ]
  },
  {
   "cell_type": "markdown",
   "metadata": {},
   "source": [
    "## Исследование зависимости поведения bias var error  от различных параметров"
   ]
  },
  {
   "cell_type": "markdown",
   "metadata": {},
   "source": [
    "#### Параметр **p** - степень метрики Минковского"
   ]
  },
  {
   "cell_type": "code",
   "execution_count": 10,
   "metadata": {
    "collapsed": false,
    "deletable": true,
    "editable": true
   },
   "outputs": [
    {
     "name": "stderr",
     "output_type": "stream",
     "text": [
      "100%|██████████| 18/18 [1:04:18<00:00, 214.37s/it]\n"
     ]
    }
   ],
   "source": [
    "# Для каждого значения парамера оцените значение error, bias и variance согласно следующей схеме\n",
    "p_name = 'p'\n",
    "bias_variance_df = pandas.DataFrame.from_dict(\n",
    "    {\n",
    "        p_name:parameters[p_name],\n",
    "        'bias':list([np.NaN] * len(parameters[p_name])),\n",
    "        'variance':list([np.NaN] * len(parameters[p_name])),\n",
    "        'error':list([np.NaN] * len(parameters[p_name]))\n",
    "    }\n",
    ")\n",
    "for parameter in tqdm(parameters[p_name]):\n",
    "    # Compute predictions\n",
    "    Y_predictions = np.zeros((absolute_test_size, n_repeat))\n",
    "\n",
    "    for i in range(n_repeat):\n",
    "        clf = KNeighborsClassifier(metric_params={'p': parameter}, n_jobs=-1)\n",
    "        clf.fit(X_train[i], Y_train[i])\n",
    "        Y_predictions[:, i] = clf.predict(X_test)\n",
    " \n",
    "   # Bias^2 + Variance + Noise decomposition of the mean squared error\n",
    "    \n",
    "    #Считаем error\n",
    "    y_error = np.zeros(n_repeat)\n",
    "    for i in range(n_repeat):\n",
    "        y_error[i] = ((Y_test - Y_predictions[:, i]) ** 2).sum()\n",
    "    y_error /= absolute_test_size\n",
    "\n",
    "    # В каждой точке тестовой выборки bias положим равным квадрату разности реального значения \n",
    "    # и среднего предсказанного значения по всем обучающим выборкам.\n",
    "    y_bias = (Y_test - np.mean(Y_predictions, axis=1)) ** 2\n",
    "    \n",
    "    # Variance положим равным среднеквадратичному разбросу значений по всем обучающим выборкам. \n",
    "    # Итоговое значение bias и variance возьмём равным среднему по всем точкам тестовой выборки\n",
    "    y_var = np.var(Y_predictions, axis=1)\n",
    "    \n",
    "    #Сохраним найденные значение\n",
    "    bias_variance_df.loc[bias_variance_df[p_name]==parameter, 'bias'] = np.mean(y_bias)\n",
    "    bias_variance_df.loc[bias_variance_df[p_name]==parameter, 'variance'] = np.mean(y_var)\n",
    "    bias_variance_df.loc[bias_variance_df[p_name]==parameter, 'error'] = np.mean(y_error)"
   ]
  },
  {
   "cell_type": "code",
   "execution_count": 11,
   "metadata": {
    "collapsed": false
   },
   "outputs": [
    {
     "data": {
      "text/plain": [
       "array([<matplotlib.axes._subplots.AxesSubplot object at 0x7f419734da90>,\n",
       "       <matplotlib.axes._subplots.AxesSubplot object at 0x7f41b4a75c18>,\n",
       "       <matplotlib.axes._subplots.AxesSubplot object at 0x7f41b49cc9e8>],\n",
       "      dtype=object)"
      ]
     },
     "execution_count": 11,
     "metadata": {},
     "output_type": "execute_result"
    },
    {
     "data": {
      "image/png": "[encoded data removed]",
      "text/plain": [
       "<matplotlib.figure.Figure at 0x7f419734d438>"
      ]
     },
     "metadata": {},
     "output_type": "display_data"
    }
   ],
   "source": [
    "# Нарисуем теперь зависимость bias var error от значений параметра\n",
    "bias_variance_df.set_index(p_name).plot(subplots=True, figsize=(12, 15))"
   ]
  },
  {
   "cell_type": "markdown",
   "metadata": {},
   "source": [
    "Выводы: судя по тому что ошибка минимальна при $p = 1$, можно заключить что в данной задаче сумма модулей разностей координат является наилучшей метрикой."
   ]
  },
  {
   "cell_type": "markdown",
   "metadata": {},
   "source": [
    "### Параметр **k** - число соседей"
   ]
  },
  {
   "cell_type": "code",
   "execution_count": 14,
   "metadata": {
    "collapsed": false
   },
   "outputs": [
    {
     "name": "stderr",
     "output_type": "stream",
     "text": [
      "100%|██████████| 19/19 [09:09<00:00, 28.93s/it]\n"
     ]
    }
   ],
   "source": [
    "# Для каждого значения парамера оцените значение error, bias и variance согласно следующей схеме\n",
    "p_name = 'k'\n",
    "bias_variance_df = pandas.DataFrame.from_dict(\n",
    "    {\n",
    "        p_name:parameters[p_name],\n",
    "        'bias':list([np.NaN] * len(parameters[p_name])),\n",
    "        'variance':list([np.NaN] * len(parameters[p_name])),\n",
    "        'error':list([np.NaN] * len(parameters[p_name]))\n",
    "    }\n",
    ")\n",
    "for parameter in tqdm(parameters[p_name]):\n",
    "    # Compute predictions\n",
    "    Y_predictions = np.zeros((absolute_test_size, n_repeat))\n",
    "\n",
    "    for i in range(n_repeat):\n",
    "        clf = KNeighborsClassifier(n_neighbors=parameter, n_jobs=-1)\n",
    "        clf.fit(X_train[i], Y_train[i])\n",
    "        Y_predictions[:, i] = clf.predict(X_test)\n",
    " \n",
    "   # Bias^2 + Variance + Noise decomposition of the mean squared error\n",
    "    \n",
    "    #Считаем error\n",
    "    y_error = np.zeros(n_repeat)\n",
    "    for i in range(n_repeat):\n",
    "        y_error[i] = ((Y_test - Y_predictions[:, i]) ** 2).sum()\n",
    "    y_error /= absolute_test_size\n",
    "\n",
    "    # В каждой точке тестовой выборки bias положим равным квадрату разности реального значения \n",
    "    # и среднего предсказанного значения по всем обучающим выборкам.\n",
    "    y_bias = (Y_test - np.mean(Y_predictions, axis=1)) ** 2\n",
    "    \n",
    "    # Variance положим равным среднеквадратичному разбросу значений по всем обучающим выборкам. \n",
    "    # Итоговое значение bias и variance возьмём равным среднему по всем точкам тестовой выборки\n",
    "    y_var = np.var(Y_predictions, axis=1)\n",
    "    \n",
    "    #Сохраним найденные значение\n",
    "    bias_variance_df.loc[bias_variance_df[p_name]==parameter, 'bias'] = np.mean(y_bias)\n",
    "    bias_variance_df.loc[bias_variance_df[p_name]==parameter, 'variance'] = np.mean(y_var)\n",
    "    bias_variance_df.loc[bias_variance_df[p_name]==parameter, 'error'] = np.mean(y_error)"
   ]
  },
  {
   "cell_type": "code",
   "execution_count": 15,
   "metadata": {
    "collapsed": false
   },
   "outputs": [
    {
     "data": {
      "text/plain": [
       "array([<matplotlib.axes._subplots.AxesSubplot object at 0x7f41b48fde48>,\n",
       "       <matplotlib.axes._subplots.AxesSubplot object at 0x7f41b485f588>,\n",
       "       <matplotlib.axes._subplots.AxesSubplot object at 0x7f41b48266a0>],\n",
       "      dtype=object)"
      ]
     },
     "execution_count": 15,
     "metadata": {},
     "output_type": "execute_result"
    },
    {
     "data": {
      "image/png": "[encoded data removed]",
      "text/plain": [
       "<matplotlib.figure.Figure at 0x7f41b48fd6a0>"
      ]
     },
     "metadata": {},
     "output_type": "display_data"
    }
   ],
   "source": [
    "# Нарисуем теперь зависимость bias var error от значений параметра\n",
    "\n",
    "bias_variance_df.set_index(p_name).plot(subplots=True, figsize=(12, 15))"
   ]
  },
  {
   "cell_type": "markdown",
   "metadata": {},
   "source": [
    "Выводы: пилообразные графики получились из-за того, что при четном числе соседей классификатор работает хуже, т.к. нет решающего голоса. Начиная с некоторого $k$ ошибка примерно стабилизируется, чего и следовало ожидать, ведь рассмотрение очень далеких точек не приводит к изменению результата."
   ]
  },
  {
   "cell_type": "markdown",
   "metadata": {},
   "source": [
    "### Параметр l_train - длина обучающей выборки\n",
    "Для последнего теста нам надо переделать тренировочные выборки, чтобы они могли достигать 200% от train_df"
   ]
  },
  {
   "cell_type": "code",
   "execution_count": 16,
   "metadata": {
    "collapsed": false
   },
   "outputs": [
    {
     "name": "stderr",
     "output_type": "stream",
     "text": [
      "100%|██████████| 15/15 [15:09<00:00, 60.66s/it]\n"
     ]
    }
   ],
   "source": [
    "absolute_test_size *= 2\n",
    "X_train = []\n",
    "Y_train = []\n",
    "for i in range(n_repeat):\n",
    "    sample_train = train_df.sample(n=absolute_test_size, replace=True)\n",
    "    X = sample_train.iloc[:, 0:-1]\n",
    "    Y = sample_train.iloc[:, -1]\n",
    "    X_train.append(X)\n",
    "    Y_train.append(Y)\n",
    "    \n",
    "sample_test = test_df.sample(n=absolute_test_size, replace=False)\n",
    "X_test = sample_test.iloc[:, 0:-1]\n",
    "Y_test = sample_test.iloc[:, -1]\n",
    "\n",
    "### Для каждого значения парамера оцените значение error, bias и variance согласно следующей схеме\n",
    "p_name = 'l_train'\n",
    "bias_variance_df = pandas.DataFrame.from_dict(\n",
    "    {\n",
    "        p_name:parameters[p_name],\n",
    "        'bias':list([np.NaN] * len(parameters[p_name])),\n",
    "        'variance':list([np.NaN] * len(parameters[p_name])),\n",
    "        'error':list([np.NaN] * len(parameters[p_name]))\n",
    "    }\n",
    ")\n",
    "for parameter in tqdm(parameters[p_name]):\n",
    "    # Compute predictions\n",
    "    Y_predictions = np.zeros((absolute_test_size, n_repeat))\n",
    "\n",
    "    for i in range(n_repeat):\n",
    "        clf = KNeighborsClassifier(n_jobs=-1)\n",
    "        clf.fit(X_train[i][:int(absolute_test_size / 2 * parameter)],\n",
    "                Y_train[i][:int(absolute_test_size / 2 * parameter)])\n",
    "        Y_predictions[:, i] = clf.predict(X_test)\n",
    " \n",
    "   # Bias^2 + Variance + Noise decomposition of the mean squared error\n",
    "    \n",
    "    #Считаем error\n",
    "    y_error = np.zeros(n_repeat)\n",
    "    for i in range(n_repeat):\n",
    "        y_error[i] = ((Y_test - Y_predictions[:, i]) ** 2).sum()\n",
    "    y_error /= absolute_test_size\n",
    "\n",
    "    # В каждой точке тестовой выборки bias положим равным квадрату разности реального значения \n",
    "    # и среднего предсказанного значения по всем обучающим выборкам.\n",
    "    y_bias = (Y_test - np.mean(Y_predictions, axis=1)) ** 2\n",
    "    \n",
    "    # Variance положим равным среднеквадратичному разбросу значений по всем обучающим выборкам. \n",
    "    # Итоговое значение bias и variance возьмём равным среднему по всем точкам тестовой выборки\n",
    "    y_var = np.var(Y_predictions, axis=1)\n",
    "    \n",
    "    #Сохраним найденные значение\n",
    "    bias_variance_df.loc[bias_variance_df[p_name]==parameter, 'bias'] = np.mean(y_bias)\n",
    "    bias_variance_df.loc[bias_variance_df[p_name]==parameter, 'variance'] = np.mean(y_var)\n",
    "    bias_variance_df.loc[bias_variance_df[p_name]==parameter, 'error'] = np.mean(y_error)"
   ]
  },
  {
   "cell_type": "code",
   "execution_count": 17,
   "metadata": {
    "collapsed": false
   },
   "outputs": [
    {
     "data": {
      "text/plain": [
       "array([<matplotlib.axes._subplots.AxesSubplot object at 0x7f41b4971f60>,\n",
       "       <matplotlib.axes._subplots.AxesSubplot object at 0x7f41b46f0be0>,\n",
       "       <matplotlib.axes._subplots.AxesSubplot object at 0x7f41b46bef98>],\n",
       "      dtype=object)"
      ]
     },
     "execution_count": 17,
     "metadata": {},
     "output_type": "execute_result"
    },
    {
     "data": {
      "image/png": "[encoded data removed]",
      "text/plain": [
       "<matplotlib.figure.Figure at 0x7f41b4789fd0>"
      ]
     },
     "metadata": {},
     "output_type": "display_data"
    }
   ],
   "source": [
    "# Нарисуем теперь зависимость bias var error от значений параметра\n",
    "\n",
    "bias_variance_df.set_index(p_name).plot(subplots=True, figsize=(12, 15))"
   ]
  },
  {
   "cell_type": "markdown",
   "metadata": {},
   "source": [
    "Выводы: с ростом параметра все три показателя уменьшились $\\rightarrow$ чем больше выборка, тем лучше."
   ]
  },
  {
   "cell_type": "markdown",
   "metadata": {
    "deletable": true,
    "editable": true
   },
   "source": [
    "<h2 align=\"center\">Реализуйте kNN (2 балла)</h2>"
   ]
  },
  {
   "cell_type": "code",
   "execution_count": null,
   "metadata": {
    "collapsed": true,
    "deletable": true,
    "editable": true
   },
   "outputs": [],
   "source": [
    "import warnings\n",
    "import numpy as np\n",
    "\n",
    "warnings.simplefilter(\"ignore\")\n",
    "\n",
    "\n",
    "class kNNClassifier():\n",
    "    def __init__(self, n_estimators, metric):\n",
    "        \"\"\"\n",
    "        Parameters\n",
    "        ----------\n",
    "        n_neighbours: int\n",
    "            Число соседей\n",
    "\n",
    "        metric: *alias\n",
    "            метрика измерения расстояний\n",
    "\n",
    "          \"\"\"\n",
    "        self.n_neighbours = base_estimator\n",
    "        self.metric = metric\n",
    "        \n",
    "    def fit(self, X, y):\n",
    "        \"\"\"\n",
    "        \n",
    "        Parameters\n",
    "        ----------\n",
    "        X: 2d np.array\n",
    "        y: 1d np.array\n",
    "        \"\"\"\n",
    "\n",
    "        # Тут храните описание объектов обучающей выборки\n",
    "        self.X_learn = ...\n",
    "\n",
    "        # Тут храните ответы по каждому объекту обучающей выборки\n",
    "        self.y_learn = ...\n",
    "\n",
    "        \n",
    "        return self\n",
    "\n",
    "    def predict(self, X):\n",
    "        \"\"\"\n",
    "\n",
    "        Parameters\n",
    "        ----------\n",
    "        X: 2d np.array матрица объекты признаки на которых нужно сказать ответ\n",
    "\n",
    "        Returns\n",
    "        -------\n",
    "        y_pred: 1d np.array, вектор классов для каждого объекта\n",
    "        \"\"\"\n",
    "        \n",
    "        dist = [] # Храните тут расстояния до каждого элемента обучающей выборки \n",
    "        \n",
    "        for i in range(self.X_learn):\n",
    "            # =======================================\n",
    "            # рассчитайте расстояние до каждого объекта обучающей выборки\n",
    "            # ======================================\n",
    "            ...\n",
    "\n",
    "        # =======================================\n",
    "        # предскажите класс каждого из объектов\n",
    "        # =======================================\n",
    "        y_pred = ...\n",
    "        \n",
    "        return y_pred"
   ]
  },
  {
   "cell_type": "code",
   "execution_count": null,
   "metadata": {
    "collapsed": true,
    "deletable": true,
    "editable": true
   },
   "outputs": [],
   "source": [
    "# Запустите ваш алгоритм на данных http://archive.ics.uci.edu/ml/machine-learning-databases/adult\n",
    "from sklearn.metrics import accuracy_score\n",
    "# =======================================\n",
    "# Обучите классификатор при k=3, 5, и 10\n",
    "# =======================================\n",
    "clf = ...\n",
    "print (accuracy_score(clf.predict(X_train[0]), y_train[0]), accuracy_score(clf.predict(X_test), y_test))"
   ]
  },
  {
   "cell_type": "markdown",
   "metadata": {
    "deletable": true,
    "editable": true
   },
   "source": [
    "<h1 align=\"center\">Отбор признаков (3 балла) </h1>"
   ]
  },
  {
   "cell_type": "markdown",
   "metadata": {
    "deletable": true,
    "editable": true
   },
   "source": [
    "Реализуйте алгоритм отбора признаков ADD_DELL и примените его для kNN на данных sklearn.datasets.digits(). \n",
    "Для этого предлагается реализовать следующие функции"
   ]
  },
  {
   "cell_type": "code",
   "execution_count": null,
   "metadata": {
    "collapsed": true,
    "deletable": true,
    "editable": true
   },
   "outputs": [],
   "source": [
    "# обновление минимального значения ошибки\n",
    "def update_Q_min_index(estimator, Q_min, Q_min_set, Q_min_index, feature_set, X_train, Y_train, X_test, Y_test, update_equal=False):\n",
    "    feature_set_size = len(feature_set)\n",
    "    estimator.fit(X_train[:, feature_set], Y_train)\n",
    "    error = 1 - accuracy_score(Y_test, estimator.predict(X_test[:, feature_set]))\n",
    "    if error < Q_min[feature_set_size]:\n",
    "        Q_min_set[feature_set_size] = feature_set\n",
    "        Q_min[feature_set_size] = error\n",
    "        if ((Q_min[feature_set_size] < Q_min[Q_min_index])\n",
    "                or (update_equal and Q_min[feature_set_size] == Q_min[Q_min_index])):\n",
    "            Q_min_index = feature_set_size\n",
    "    return Q_min_index\n",
    "\n",
    "\n",
    "# Нужно реализовать алгоритм добавление\n",
    "def add_one(estimator, feature_set, X_train, Y_train, X_test, Y_test, look_forward=10, start_feature_set=[]):\n",
    "    Q_min = {0: float('+inf')}\n",
    "    Q_min_set = {0: []}\n",
    "    Q_min_index = 0\n",
    "    \n",
    "    # инициализация стартового набора признаков     \n",
    "    if start_feature_set:\n",
    "        estimator.fit(X_train[:, feature_set], Y_train)\n",
    "        error = 1 - accuracy_score(Y_test, estimator.predict(X_test[:, feature_set]))\n",
    "        Q_min = {len(start_feature_set) : error}\n",
    "        Q_min_set = {len(start_feature_set) : start_feature_set}\n",
    "        Q_min_index = len(start_feature_set)\n",
    "    \n",
    "    # добавление признаков     \n",
    "    for feature_set_size in range(len(start_feature_set) + 1, len(feature_set) + 1):\n",
    "        Q_min[feature_set_size] = float('+inf')\n",
    "        unused_features = set(feature_set).difference(set(Q_min_set[feature_set_size - 1]))\n",
    "        unused_features = list(unused_features)\n",
    "        #shuffle(unused_features)\n",
    "        for feature in unused_features:\n",
    "            new_feature_set = обновите список признаков\n",
    "            Q_min_index = обновите значение ошибки классификации\n",
    "        \n",
    "        print ('Q_min: %.4lf, set_size: %d, added: %s' % (Q_min[feature_set_size], feature_set_size, Q_min_set[feature_set_size][-1]))        \n",
    "    \n",
    "    # критерий останова\n",
    "        if Q_min_index + look_forward <= feature_set_size:\n",
    "            break\n",
    "    return Q_min_set[Q_min_index]\n",
    "\n",
    "def del_one(estimator, feature_set, X_train, Y_train, X_test, Y_test, look_forward=10):\n",
    "    \n",
    "#     инициализация\n",
    "    estimator.fit(X_train[:, feature_set], Y_train)\n",
    "    error = 1 - accuracy_score(Y_test, estimator.predict(X_test[:, feature_set]))\n",
    "    Q_min = {len(feature_set): error}\n",
    "    Q_min_set = {len(feature_set): deepcopy(feature_set)}\n",
    "    Q_min_index = len(feature_set)\n",
    "    \n",
    "#     итерационное удаление признаков\n",
    "    for feature_set_size in list(range(len(feature_set) - 1, 0, -1)):\n",
    "        Q_min[feature_set_size] = float('+inf')\n",
    "        features = copy(Q_min_set[feature_set_size + 1])\n",
    "        # shuffle(features)\n",
    "        for feature in features:\n",
    "            new_feature_set = обновите список признаков\n",
    "            Q_min_index = обновите значение ошибки классификации\n",
    "            \n",
    "        print ('Q_min: %.4lf, set_size: %d, deleted: %s' % (Q_min[feature_set_size], feature_set_size,\n",
    "            set(Q_min_set[feature_set_size + 1]).difference(set(Q_min_set[feature_set_size])),\n",
    "        ))\n",
    "        \n",
    "#         критерий останова\n",
    "        if feature_set_size + look_forward <= Q_min_index:\n",
    "            break\n",
    "    return Q_min_set[Q_min_index]\n",
    "\n",
    "# Наконец, реализуйте ADD-DELL\n",
    "def add_del(estimator, feature_set, X_train, Y_train, X_test, Y_test, look_forward=10):\n",
    "    Q_min = None\n",
    "    Q_min_current = float('+inf')\n",
    "    start_feature_set = []\n",
    "    \n",
    "#     количество итераций, приведших к увеличению ошибки\n",
    "    bad_iteration_count = 2\n",
    "    \n",
    "    while (Q_min is None) or (Q_min_current < Q_min or bad_iteration_count):\n",
    "        Q_min = Q_min_current\n",
    "        start_feature_set = add_one(estimator, feature_set, X_train, Y_train, X_test, Y_test, look_forward, start_feature_set=start_feature_set)\n",
    "        start_feature_set = del_one(estimator, start_feature_set, X_train, Y_train, X_test, Y_test, look_forward)\n",
    "        estimator.fit(X_train[:, start_feature_set], Y_train)\n",
    "        Q_min_current = 1 - accuracy_score(Y_test, estimator.predict(X_test[:, start_feature_set]))\n",
    "        \n",
    "        if Q_min_current > Q_min:\n",
    "            bad_iteration_count -= 1\n",
    "        print ('Q_min: %.4lf, set_size: %d' % (Q_min_current, len(start_feature_set)))\n",
    "    return start_feature_set"
   ]
  },
  {
   "cell_type": "code",
   "execution_count": null,
   "metadata": {
    "collapsed": true,
    "deletable": true,
    "editable": true
   },
   "outputs": [],
   "source": [
    "X_train, Y_train, X_test, Y_test = скайчайте данные и разбейте их на тест/трейн\n",
    "\n",
    "# проверьте вашу реализацию\n",
    "estimator = KNeighborsClassifier()\n",
    "%time feature_set = add_del(estimator, list(range(X_train.shape[1])), X_train, Y_train, X_test, Y_test, look_forward=4)\n",
    "%time accuracy_score(Y_test, estimator.fit(X_train[:, feature_set], Y_train).predict(X_test[:, feature_set]))"
   ]
  }
 ],
 "metadata": {
  "anaconda-cloud": {},
  "kernelspec": {
   "display_name": "Python 3",
   "language": "python",
   "name": "python3"
  },
  "language_info": {
   "codemirror_mode": {
    "name": "ipython",
    "version": 3
   },
   "file_extension": ".py",
   "mimetype": "text/x-python",
   "name": "python",
   "nbconvert_exporter": "python",
   "pygments_lexer": "ipython3",
   "version": "3.4.2"
  }
 },
 "nbformat": 4,
 "nbformat_minor": 1
}
